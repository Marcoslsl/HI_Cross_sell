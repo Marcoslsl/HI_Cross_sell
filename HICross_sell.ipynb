{
 "cells": [
  {
   "cell_type": "markdown",
   "id": "68bb6d5a",
   "metadata": {},
   "source": [
    "# 0.0. Imports"
   ]
  },
  {
   "cell_type": "code",
   "execution_count": 176,
   "id": "f4bb05ed",
   "metadata": {
    "ExecuteTime": {
     "end_time": "2022-01-31T19:57:17.638439Z",
     "start_time": "2022-01-31T19:57:17.624239Z"
    }
   },
   "outputs": [],
   "source": [
    "import inflection\n",
    "import pickle\n",
    "import requests\n",
    "\n",
    "import pandas            as pd\n",
    "import numpy             as np\n",
    "import seaborn           as sns\n",
    "import matplotlib.pyplot as plt\n",
    "\n",
    "from config                  import config\n",
    "from sqlalchemy              import create_engine\n",
    "from tabulate                import tabulate\n",
    "from scipy                   import stats\n",
    "\n",
    "from sklearn.preprocessing   import StandardScaler, MinMaxScaler, OneHotEncoder\n",
    "from sklearn.model_selection import train_test_split, KFold\n",
    "from sklearn.ensemble        import ExtraTreesClassifier, RandomForestClassifier\n",
    "from sklearn.neighbors       import KNeighborsClassifier\n",
    "from sklearn.linear_model    import LogisticRegression\n",
    "\n",
    "from scikitplot.metrics      import plot_cumulative_gain, plot_lift_curve"
   ]
  },
  {
   "cell_type": "code",
   "execution_count": 4,
   "id": "53ffbea8",
   "metadata": {
    "ExecuteTime": {
     "end_time": "2022-01-31T16:40:02.514917Z",
     "start_time": "2022-01-31T16:40:02.465276Z"
    }
   },
   "outputs": [],
   "source": [
    "pallete  = sns.color_palette(sns.diverging_palette(250, 10, s=75, l=45, n=9))\n",
    "pallete2 = sns.color_palette(sns.diverging_palette(45, 200, s=75, l=45, n=9)) \n",
    "\n",
    "%matplotlib inline\n",
    "plt.rcParams['figure.figsize'] = [13, 8]\n",
    "\n",
    "sns.set_palette( pallete )\n",
    "sns.set_style('darkgrid')"
   ]
  },
  {
   "cell_type": "markdown",
   "id": "a374ab10",
   "metadata": {},
   "source": [
    "# 0.1. Help Functions "
   ]
  },
  {
   "cell_type": "code",
   "execution_count": 121,
   "id": "07600d27",
   "metadata": {
    "ExecuteTime": {
     "end_time": "2022-01-31T19:16:49.125422Z",
     "start_time": "2022-01-31T19:16:49.094740Z"
    }
   },
   "outputs": [],
   "source": [
    "def numeric_statistics( df ):\n",
    "    dic = {\n",
    "        \"type\": df.dtypes.values,\n",
    "        \"Unique_Values\": df.nunique().values,\n",
    "        \"Mean\": df.mean(),\n",
    "        \"Median\": df.median(),\n",
    "        \"Std\": df.std(),\n",
    "        \"Min\": df.min(),\n",
    "        \"Max\": df.max(),\n",
    "        \"Range\": df.max() - df.min(),\n",
    "        \"Skew\": df.skew(),\n",
    "        \"Kurtosis\": df.kurtosis()\n",
    "    }\n",
    "    \n",
    "    return pd.DataFrame( dic, index=df.columns )\n",
    "\n",
    "def cramer_v( x, y ):\n",
    "    \n",
    "    cm   = pd.crosstab( x, y ).values\n",
    "    n    = cm.sum()\n",
    "    r, k = cm.shape\n",
    "    \n",
    "    chi2 = stats.chi2_contingency( cm )[0]\n",
    "    \n",
    "    chi2corr = max( 0, chi2 - (k-1)*(r-1)/(n-1) )\n",
    "    kcorr    = k - (k-1)**2/(n-1)\n",
    "    rcorr    = r - (r-1)**2/(n-1)\n",
    "    \n",
    "    return np.sqrt( (chi2corr/n) / ( min(kcorr-1,rcorr-1) ) )\n",
    "\n",
    "\n",
    "def precision_at_k( data, k ):\n",
    "        \n",
    "    # sorte client by propensity score\n",
    "    data = data.sort_values( 'score', ascending=False )\n",
    "    data = data.reset_index( drop=True )\n",
    "    \n",
    "    # ranking\n",
    "    data['k'] = data.index + 1\n",
    "\n",
    "    # cols selected\n",
    "    data = data[['k','id','response','score']]\n",
    "\n",
    "    #accumulated sum\n",
    "    data['cumsum'] = data['response'].cumsum()\n",
    "\n",
    "    # precision top k\n",
    "    data['precision_at_k'] = data['cumsum'] / data['k']\n",
    "    \n",
    "    return ( data.loc[k,'precision_at_k'], data)\n",
    "\n",
    "def recall_at_k( data, k ):\n",
    "    \n",
    "    # sorte client by propensity score\n",
    "    data = data.sort_values( 'score', ascending=False )\n",
    "    data = data.reset_index( drop=True )\n",
    "    \n",
    "    # ranking\n",
    "    data['k'] = data.index + 1\n",
    "\n",
    "    # cols selected\n",
    "    data = data[['k','id','response','score']]\n",
    "\n",
    "    #accumulated sum\n",
    "    data['cumsum'] = data['response'].cumsum()\n",
    "\n",
    "    # precision top k\n",
    "    data['recall_at_k'] = data['cumsum'] / data['response'].sum()\n",
    "    \n",
    "    return ( data.loc[k,'recall_at_k'], data)\n",
    "\n",
    "\n",
    "def cross_validation( X_train, y_train, model, kfolds, cols_selected, ktop ):\n",
    "    \n",
    "    score = []\n",
    "    \n",
    "    for i in range(kfolds):\n",
    "        # entrada dos meus dados de treino\n",
    "        x_training_aux01 = X_train\n",
    "        y_training_aux01 = y_train\n",
    "\n",
    "        # utilizando o kfold para escolher em quantas partes quero divir meu dataset\n",
    "        # e utilizando o parâmetro shuffle=True para misturar as linhas do dataset \n",
    "        kf = KFold( n_splits=kfolds, shuffle=True )\n",
    "\n",
    "        # salvando nessa variável result duas listas.\n",
    "        # a primeira com os indices dos meus dados de treino para o modelo\n",
    "        # e a segunda lista com os indices dos meus dados de validadção\n",
    "        result = next( kf.split(x_training_aux01), None )\n",
    "\n",
    "        # atribuindo as colunas selecionadas para essa outra variável auxiliar, mas pq?\n",
    "        # na função \"precision_at_k\" utilizamos o \"id\" que não está presente nas colunas selecionadas\n",
    "        x_training_aux02 =  x_training_aux01[cols_selected]\n",
    "        y_training_aux02 =  y_training_aux01.copy()\n",
    "\n",
    "        # base de treino do modelo de fato\n",
    "        treino_x = x_training_aux02.iloc[result[0]]\n",
    "        treino_y = y_training_aux02.iloc[result[0]]\n",
    "\n",
    "        # base de validação\n",
    "        val_x = x_training_aux02.iloc[result[1]]\n",
    "        val_y = y_training_aux02.iloc[result[1]]\n",
    "\n",
    "        # fit do modelo\n",
    "        md = knn.fit( treino_x, treino_y )\n",
    "\n",
    "        # predições das probabilidades\n",
    "        pred = md.predict_proba( val_x )\n",
    "\n",
    "        # concatenando as variáveis de validação para gerar o dataframe que vai entrar na \"precision_at_k\"\n",
    "        data = pd.concat( [val_x,val_y], axis=1 )\n",
    "\n",
    "        # gerando a coluna score\n",
    "        data['score'] = pred[:,1].tolist()\n",
    "\n",
    "        # fazendo um merge entre meu dataframe gerado pela união das variáveis de validação\n",
    "        # com o data frame de treino antes de selecionar as colunas para poder pegar somente o \"id\"\n",
    "        # fazendo o merge pelo index\n",
    "        data = data[['score','response']].merge( x_training_aux01['id'], how='left', left_index=True, right_index=True )\n",
    "        \n",
    "        score.append( precision_at_k( data, k=ktop )[0] )\n",
    "        \n",
    "    return np.mean( score )"
   ]
  },
  {
   "cell_type": "markdown",
   "id": "782eeeec",
   "metadata": {},
   "source": [
    "# 0.2. Loading Data"
   ]
  },
  {
   "cell_type": "code",
   "execution_count": 6,
   "id": "db0f5530",
   "metadata": {
    "ExecuteTime": {
     "end_time": "2022-01-31T16:40:04.358203Z",
     "start_time": "2022-01-31T16:40:03.662150Z"
    }
   },
   "outputs": [],
   "source": [
    "df_raw = pd.read_csv( 'data/train.csv' )"
   ]
  },
  {
   "cell_type": "markdown",
   "id": "534d84b1",
   "metadata": {},
   "source": [
    "# 1.0. Data Description"
   ]
  },
  {
   "cell_type": "code",
   "execution_count": 7,
   "id": "cb2f42a7",
   "metadata": {
    "ExecuteTime": {
     "end_time": "2022-01-31T16:40:04.425744Z",
     "start_time": "2022-01-31T16:40:04.402484Z"
    }
   },
   "outputs": [],
   "source": [
    "df1 = df_raw.copy()"
   ]
  },
  {
   "cell_type": "code",
   "execution_count": 8,
   "id": "9e2bf13b",
   "metadata": {
    "ExecuteTime": {
     "end_time": "2022-01-31T16:40:04.540714Z",
     "start_time": "2022-01-31T16:40:04.512399Z"
    }
   },
   "outputs": [],
   "source": [
    "# rename columns\n",
    "old_columns = ['id', 'Gender', 'Age', 'Driving_License', 'Region_Code',\n",
    "       'Previously_Insured', 'Vehicle_Age', 'Vehicle_Damage', 'Annual_Premium',\n",
    "       'Policy_Sales_Channel', 'Vintage', 'Response']\n",
    "\n",
    "snakecase = lambda x: inflection.underscore( x )\n",
    "new_columns = list( map( snakecase, old_columns ) )\n",
    "\n",
    "df1.columns = new_columns"
   ]
  },
  {
   "cell_type": "markdown",
   "id": "7438e750",
   "metadata": {},
   "source": [
    "## 1.1. Data Dimension"
   ]
  },
  {
   "cell_type": "code",
   "execution_count": 9,
   "id": "1f108819",
   "metadata": {
    "ExecuteTime": {
     "end_time": "2022-01-31T16:40:04.818214Z",
     "start_time": "2022-01-31T16:40:04.812129Z"
    }
   },
   "outputs": [
    {
     "name": "stdout",
     "output_type": "stream",
     "text": [
      "Number of Rows: 381109\n",
      "Number of Columns: 12\n"
     ]
    }
   ],
   "source": [
    "print( f'Number of Rows: {df1.shape[0]}' )\n",
    "print( f'Number of Columns: {df1.shape[1]}' )"
   ]
  },
  {
   "cell_type": "markdown",
   "id": "b2400926",
   "metadata": {},
   "source": [
    "## 1.2. Data Types"
   ]
  },
  {
   "cell_type": "code",
   "execution_count": 10,
   "id": "7e342746",
   "metadata": {
    "ExecuteTime": {
     "end_time": "2022-01-31T16:40:05.206636Z",
     "start_time": "2022-01-31T16:40:05.186769Z"
    }
   },
   "outputs": [
    {
     "data": {
      "text/plain": [
       "id                        int64\n",
       "gender                   object\n",
       "age                       int64\n",
       "driving_license           int64\n",
       "region_code             float64\n",
       "previously_insured        int64\n",
       "vehicle_age              object\n",
       "vehicle_damage           object\n",
       "annual_premium          float64\n",
       "policy_sales_channel    float64\n",
       "vintage                   int64\n",
       "response                  int64\n",
       "dtype: object"
      ]
     },
     "execution_count": 10,
     "metadata": {},
     "output_type": "execute_result"
    }
   ],
   "source": [
    "df1.dtypes"
   ]
  },
  {
   "cell_type": "markdown",
   "id": "740bd278",
   "metadata": {},
   "source": [
    "## 1.3. Check NA"
   ]
  },
  {
   "cell_type": "code",
   "execution_count": 11,
   "id": "1fd0082f",
   "metadata": {
    "ExecuteTime": {
     "end_time": "2022-01-31T16:40:05.922757Z",
     "start_time": "2022-01-31T16:40:05.631373Z"
    }
   },
   "outputs": [
    {
     "data": {
      "text/plain": [
       "id                      0\n",
       "gender                  0\n",
       "age                     0\n",
       "driving_license         0\n",
       "region_code             0\n",
       "previously_insured      0\n",
       "vehicle_age             0\n",
       "vehicle_damage          0\n",
       "annual_premium          0\n",
       "policy_sales_channel    0\n",
       "vintage                 0\n",
       "response                0\n",
       "dtype: int64"
      ]
     },
     "execution_count": 11,
     "metadata": {},
     "output_type": "execute_result"
    }
   ],
   "source": [
    "df1.isnull().sum()"
   ]
  },
  {
   "cell_type": "markdown",
   "id": "08d57dc6",
   "metadata": {},
   "source": [
    "## 1.4. Data Descriptive"
   ]
  },
  {
   "cell_type": "code",
   "execution_count": 12,
   "id": "a14e88c4",
   "metadata": {
    "ExecuteTime": {
     "end_time": "2022-01-31T16:40:06.631239Z",
     "start_time": "2022-01-31T16:40:06.609377Z"
    }
   },
   "outputs": [],
   "source": [
    "num_attributes = df1.select_dtypes( include=['int64','float64'] )\n",
    "cat_attributes = df1.select_dtypes( exclude=['int64','float64'] )"
   ]
  },
  {
   "cell_type": "markdown",
   "id": "c4fa33f2",
   "metadata": {},
   "source": [
    "Descriptive Analysis for each numeric variable. It might be important to take a look at some behavior that a variable might have initially.\n",
    "\n",
    "1. For instance, I'm able to see the variable 'age' has 66 different values which start from 20 years to 85, and it has its mean and median value close.\n",
    "\n",
    "2. As seen the target variable has a binary result ( '0' or '1' )"
   ]
  },
  {
   "cell_type": "code",
   "execution_count": 13,
   "id": "80d41075",
   "metadata": {
    "ExecuteTime": {
     "end_time": "2022-01-31T16:40:07.788156Z",
     "start_time": "2022-01-31T16:40:07.226461Z"
    }
   },
   "outputs": [
    {
     "data": {
      "text/html": [
       "<div>\n",
       "<style scoped>\n",
       "    .dataframe tbody tr th:only-of-type {\n",
       "        vertical-align: middle;\n",
       "    }\n",
       "\n",
       "    .dataframe tbody tr th {\n",
       "        vertical-align: top;\n",
       "    }\n",
       "\n",
       "    .dataframe thead th {\n",
       "        text-align: right;\n",
       "    }\n",
       "</style>\n",
       "<table border=\"1\" class=\"dataframe\">\n",
       "  <thead>\n",
       "    <tr style=\"text-align: right;\">\n",
       "      <th></th>\n",
       "      <th>type</th>\n",
       "      <th>Unique_Values</th>\n",
       "      <th>Mean</th>\n",
       "      <th>Median</th>\n",
       "      <th>Std</th>\n",
       "      <th>Min</th>\n",
       "      <th>Max</th>\n",
       "      <th>Range</th>\n",
       "      <th>Skew</th>\n",
       "      <th>Kurtosis</th>\n",
       "    </tr>\n",
       "  </thead>\n",
       "  <tbody>\n",
       "    <tr>\n",
       "      <th>id</th>\n",
       "      <td>int64</td>\n",
       "      <td>381109</td>\n",
       "      <td>190555.000000</td>\n",
       "      <td>190555.0</td>\n",
       "      <td>110016.836208</td>\n",
       "      <td>1.0</td>\n",
       "      <td>381109.0</td>\n",
       "      <td>381108.0</td>\n",
       "      <td>9.443274e-16</td>\n",
       "      <td>-1.200000</td>\n",
       "    </tr>\n",
       "    <tr>\n",
       "      <th>age</th>\n",
       "      <td>int64</td>\n",
       "      <td>66</td>\n",
       "      <td>38.822584</td>\n",
       "      <td>36.0</td>\n",
       "      <td>15.511611</td>\n",
       "      <td>20.0</td>\n",
       "      <td>85.0</td>\n",
       "      <td>65.0</td>\n",
       "      <td>6.725390e-01</td>\n",
       "      <td>-0.565655</td>\n",
       "    </tr>\n",
       "    <tr>\n",
       "      <th>driving_license</th>\n",
       "      <td>int64</td>\n",
       "      <td>2</td>\n",
       "      <td>0.997869</td>\n",
       "      <td>1.0</td>\n",
       "      <td>0.046110</td>\n",
       "      <td>0.0</td>\n",
       "      <td>1.0</td>\n",
       "      <td>1.0</td>\n",
       "      <td>-2.159518e+01</td>\n",
       "      <td>464.354302</td>\n",
       "    </tr>\n",
       "    <tr>\n",
       "      <th>region_code</th>\n",
       "      <td>float64</td>\n",
       "      <td>53</td>\n",
       "      <td>26.388807</td>\n",
       "      <td>28.0</td>\n",
       "      <td>13.229888</td>\n",
       "      <td>0.0</td>\n",
       "      <td>52.0</td>\n",
       "      <td>52.0</td>\n",
       "      <td>-1.152664e-01</td>\n",
       "      <td>-0.867857</td>\n",
       "    </tr>\n",
       "    <tr>\n",
       "      <th>previously_insured</th>\n",
       "      <td>int64</td>\n",
       "      <td>2</td>\n",
       "      <td>0.458210</td>\n",
       "      <td>0.0</td>\n",
       "      <td>0.498251</td>\n",
       "      <td>0.0</td>\n",
       "      <td>1.0</td>\n",
       "      <td>1.0</td>\n",
       "      <td>1.677471e-01</td>\n",
       "      <td>-1.971871</td>\n",
       "    </tr>\n",
       "    <tr>\n",
       "      <th>annual_premium</th>\n",
       "      <td>float64</td>\n",
       "      <td>48838</td>\n",
       "      <td>30564.389581</td>\n",
       "      <td>31669.0</td>\n",
       "      <td>17213.155057</td>\n",
       "      <td>2630.0</td>\n",
       "      <td>540165.0</td>\n",
       "      <td>537535.0</td>\n",
       "      <td>1.766087e+00</td>\n",
       "      <td>34.004569</td>\n",
       "    </tr>\n",
       "    <tr>\n",
       "      <th>policy_sales_channel</th>\n",
       "      <td>float64</td>\n",
       "      <td>155</td>\n",
       "      <td>112.034295</td>\n",
       "      <td>133.0</td>\n",
       "      <td>54.203995</td>\n",
       "      <td>1.0</td>\n",
       "      <td>163.0</td>\n",
       "      <td>162.0</td>\n",
       "      <td>-9.000081e-01</td>\n",
       "      <td>-0.970810</td>\n",
       "    </tr>\n",
       "    <tr>\n",
       "      <th>vintage</th>\n",
       "      <td>int64</td>\n",
       "      <td>290</td>\n",
       "      <td>154.347397</td>\n",
       "      <td>154.0</td>\n",
       "      <td>83.671304</td>\n",
       "      <td>10.0</td>\n",
       "      <td>299.0</td>\n",
       "      <td>289.0</td>\n",
       "      <td>3.029517e-03</td>\n",
       "      <td>-1.200688</td>\n",
       "    </tr>\n",
       "    <tr>\n",
       "      <th>response</th>\n",
       "      <td>int64</td>\n",
       "      <td>2</td>\n",
       "      <td>0.122563</td>\n",
       "      <td>0.0</td>\n",
       "      <td>0.327936</td>\n",
       "      <td>0.0</td>\n",
       "      <td>1.0</td>\n",
       "      <td>1.0</td>\n",
       "      <td>2.301906e+00</td>\n",
       "      <td>3.298788</td>\n",
       "    </tr>\n",
       "  </tbody>\n",
       "</table>\n",
       "</div>"
      ],
      "text/plain": [
       "                         type  Unique_Values           Mean    Median  \\\n",
       "id                      int64         381109  190555.000000  190555.0   \n",
       "age                     int64             66      38.822584      36.0   \n",
       "driving_license         int64              2       0.997869       1.0   \n",
       "region_code           float64             53      26.388807      28.0   \n",
       "previously_insured      int64              2       0.458210       0.0   \n",
       "annual_premium        float64          48838   30564.389581   31669.0   \n",
       "policy_sales_channel  float64            155     112.034295     133.0   \n",
       "vintage                 int64            290     154.347397     154.0   \n",
       "response                int64              2       0.122563       0.0   \n",
       "\n",
       "                                Std     Min       Max     Range          Skew  \\\n",
       "id                    110016.836208     1.0  381109.0  381108.0  9.443274e-16   \n",
       "age                       15.511611    20.0      85.0      65.0  6.725390e-01   \n",
       "driving_license            0.046110     0.0       1.0       1.0 -2.159518e+01   \n",
       "region_code               13.229888     0.0      52.0      52.0 -1.152664e-01   \n",
       "previously_insured         0.498251     0.0       1.0       1.0  1.677471e-01   \n",
       "annual_premium         17213.155057  2630.0  540165.0  537535.0  1.766087e+00   \n",
       "policy_sales_channel      54.203995     1.0     163.0     162.0 -9.000081e-01   \n",
       "vintage                   83.671304    10.0     299.0     289.0  3.029517e-03   \n",
       "response                   0.327936     0.0       1.0       1.0  2.301906e+00   \n",
       "\n",
       "                        Kurtosis  \n",
       "id                     -1.200000  \n",
       "age                    -0.565655  \n",
       "driving_license       464.354302  \n",
       "region_code            -0.867857  \n",
       "previously_insured     -1.971871  \n",
       "annual_premium         34.004569  \n",
       "policy_sales_channel   -0.970810  \n",
       "vintage                -1.200688  \n",
       "response                3.298788  "
      ]
     },
     "execution_count": 13,
     "metadata": {},
     "output_type": "execute_result"
    }
   ],
   "source": [
    "numeric_statistics( num_attributes )"
   ]
  },
  {
   "cell_type": "markdown",
   "id": "ab9acd1f",
   "metadata": {
    "heading_collapsed": true
   },
   "source": [
    "# 2.0. Feature Engineering"
   ]
  },
  {
   "cell_type": "code",
   "execution_count": 14,
   "id": "a249d37d",
   "metadata": {
    "ExecuteTime": {
     "end_time": "2022-01-31T16:40:08.034649Z",
     "start_time": "2022-01-31T16:40:08.007339Z"
    },
    "hidden": true
   },
   "outputs": [],
   "source": [
    "df2 = df1.copy()"
   ]
  },
  {
   "cell_type": "code",
   "execution_count": 15,
   "id": "1a75f3f1",
   "metadata": {
    "ExecuteTime": {
     "end_time": "2022-01-31T16:40:09.245377Z",
     "start_time": "2022-01-31T16:40:09.224027Z"
    },
    "hidden": true
   },
   "outputs": [
    {
     "data": {
      "text/html": [
       "<div>\n",
       "<style scoped>\n",
       "    .dataframe tbody tr th:only-of-type {\n",
       "        vertical-align: middle;\n",
       "    }\n",
       "\n",
       "    .dataframe tbody tr th {\n",
       "        vertical-align: top;\n",
       "    }\n",
       "\n",
       "    .dataframe thead th {\n",
       "        text-align: right;\n",
       "    }\n",
       "</style>\n",
       "<table border=\"1\" class=\"dataframe\">\n",
       "  <thead>\n",
       "    <tr style=\"text-align: right;\">\n",
       "      <th></th>\n",
       "      <th>id</th>\n",
       "      <th>gender</th>\n",
       "      <th>age</th>\n",
       "      <th>driving_license</th>\n",
       "      <th>region_code</th>\n",
       "      <th>previously_insured</th>\n",
       "      <th>vehicle_age</th>\n",
       "      <th>vehicle_damage</th>\n",
       "      <th>annual_premium</th>\n",
       "      <th>policy_sales_channel</th>\n",
       "      <th>vintage</th>\n",
       "      <th>response</th>\n",
       "    </tr>\n",
       "  </thead>\n",
       "  <tbody>\n",
       "    <tr>\n",
       "      <th>0</th>\n",
       "      <td>1</td>\n",
       "      <td>Male</td>\n",
       "      <td>44</td>\n",
       "      <td>1</td>\n",
       "      <td>28.0</td>\n",
       "      <td>0</td>\n",
       "      <td>&gt; 2 Years</td>\n",
       "      <td>Yes</td>\n",
       "      <td>40454.0</td>\n",
       "      <td>26.0</td>\n",
       "      <td>217</td>\n",
       "      <td>1</td>\n",
       "    </tr>\n",
       "    <tr>\n",
       "      <th>1</th>\n",
       "      <td>2</td>\n",
       "      <td>Male</td>\n",
       "      <td>76</td>\n",
       "      <td>1</td>\n",
       "      <td>3.0</td>\n",
       "      <td>0</td>\n",
       "      <td>1-2 Year</td>\n",
       "      <td>No</td>\n",
       "      <td>33536.0</td>\n",
       "      <td>26.0</td>\n",
       "      <td>183</td>\n",
       "      <td>0</td>\n",
       "    </tr>\n",
       "    <tr>\n",
       "      <th>2</th>\n",
       "      <td>3</td>\n",
       "      <td>Male</td>\n",
       "      <td>47</td>\n",
       "      <td>1</td>\n",
       "      <td>28.0</td>\n",
       "      <td>0</td>\n",
       "      <td>&gt; 2 Years</td>\n",
       "      <td>Yes</td>\n",
       "      <td>38294.0</td>\n",
       "      <td>26.0</td>\n",
       "      <td>27</td>\n",
       "      <td>1</td>\n",
       "    </tr>\n",
       "    <tr>\n",
       "      <th>3</th>\n",
       "      <td>4</td>\n",
       "      <td>Male</td>\n",
       "      <td>21</td>\n",
       "      <td>1</td>\n",
       "      <td>11.0</td>\n",
       "      <td>1</td>\n",
       "      <td>&lt; 1 Year</td>\n",
       "      <td>No</td>\n",
       "      <td>28619.0</td>\n",
       "      <td>152.0</td>\n",
       "      <td>203</td>\n",
       "      <td>0</td>\n",
       "    </tr>\n",
       "    <tr>\n",
       "      <th>4</th>\n",
       "      <td>5</td>\n",
       "      <td>Female</td>\n",
       "      <td>29</td>\n",
       "      <td>1</td>\n",
       "      <td>41.0</td>\n",
       "      <td>1</td>\n",
       "      <td>&lt; 1 Year</td>\n",
       "      <td>No</td>\n",
       "      <td>27496.0</td>\n",
       "      <td>152.0</td>\n",
       "      <td>39</td>\n",
       "      <td>0</td>\n",
       "    </tr>\n",
       "  </tbody>\n",
       "</table>\n",
       "</div>"
      ],
      "text/plain": [
       "   id  gender  age  driving_license  region_code  previously_insured  \\\n",
       "0   1    Male   44                1         28.0                   0   \n",
       "1   2    Male   76                1          3.0                   0   \n",
       "2   3    Male   47                1         28.0                   0   \n",
       "3   4    Male   21                1         11.0                   1   \n",
       "4   5  Female   29                1         41.0                   1   \n",
       "\n",
       "  vehicle_age vehicle_damage  annual_premium  policy_sales_channel  vintage  \\\n",
       "0   > 2 Years            Yes         40454.0                  26.0      217   \n",
       "1    1-2 Year             No         33536.0                  26.0      183   \n",
       "2   > 2 Years            Yes         38294.0                  26.0       27   \n",
       "3    < 1 Year             No         28619.0                 152.0      203   \n",
       "4    < 1 Year             No         27496.0                 152.0       39   \n",
       "\n",
       "   response  \n",
       "0         1  \n",
       "1         0  \n",
       "2         1  \n",
       "3         0  \n",
       "4         0  "
      ]
     },
     "execution_count": 15,
     "metadata": {},
     "output_type": "execute_result"
    }
   ],
   "source": [
    "df2.head()"
   ]
  },
  {
   "cell_type": "markdown",
   "id": "f8273027",
   "metadata": {
    "hidden": true
   },
   "source": [
    "Rename columns"
   ]
  },
  {
   "cell_type": "code",
   "execution_count": 16,
   "id": "151f39b5",
   "metadata": {
    "ExecuteTime": {
     "end_time": "2022-01-31T16:40:11.029826Z",
     "start_time": "2022-01-31T16:40:10.447774Z"
    },
    "hidden": true
   },
   "outputs": [],
   "source": [
    "# vehicle age\n",
    "df2['vehicle_age'] = df2['vehicle_age'].apply( lambda x: 'over_2_years' if x == '> 2 Years' else 'between_1_2_years' \n",
    "                                                                        if x == '1-2 Year' else 'below_1_year')\n",
    "# vehicle damage\n",
    "df2['vehicle_damage'] = df2['vehicle_damage'].apply( lambda x: 1 if x == 'Yes' else 0 )"
   ]
  },
  {
   "cell_type": "markdown",
   "id": "081f8955",
   "metadata": {
    "heading_collapsed": true
   },
   "source": [
    "# 3.0. Data Filtering"
   ]
  },
  {
   "cell_type": "markdown",
   "id": "247c13ac",
   "metadata": {
    "hidden": true
   },
   "source": [
    "initially, I didn't add any filter here."
   ]
  },
  {
   "cell_type": "code",
   "execution_count": 17,
   "id": "e1aaa463",
   "metadata": {
    "ExecuteTime": {
     "end_time": "2022-01-31T16:40:16.111311Z",
     "start_time": "2022-01-31T16:40:16.062642Z"
    },
    "hidden": true
   },
   "outputs": [],
   "source": [
    "df3 = df2.copy()"
   ]
  },
  {
   "cell_type": "markdown",
   "id": "abacdbf4",
   "metadata": {
    "heading_collapsed": true
   },
   "source": [
    "# 4.0. EDA"
   ]
  },
  {
   "cell_type": "code",
   "execution_count": 18,
   "id": "54bfc398",
   "metadata": {
    "ExecuteTime": {
     "end_time": "2022-01-31T16:40:21.074118Z",
     "start_time": "2022-01-31T16:40:21.057377Z"
    },
    "hidden": true
   },
   "outputs": [],
   "source": [
    "df4 = df3.copy()"
   ]
  },
  {
   "cell_type": "code",
   "execution_count": 17,
   "id": "ec85dc87",
   "metadata": {
    "ExecuteTime": {
     "end_time": "2022-01-31T12:57:34.813565Z",
     "start_time": "2022-01-31T12:57:34.798109Z"
    },
    "hidden": true
   },
   "outputs": [
    {
     "data": {
      "text/plain": [
       "Index(['id', 'gender', 'age', 'driving_license', 'region_code',\n",
       "       'previously_insured', 'vehicle_age', 'vehicle_damage', 'annual_premium',\n",
       "       'policy_sales_channel', 'vintage', 'response'],\n",
       "      dtype='object')"
      ]
     },
     "execution_count": 17,
     "metadata": {},
     "output_type": "execute_result"
    }
   ],
   "source": [
    "df4.columns"
   ]
  },
  {
   "cell_type": "markdown",
   "id": "53c7d43e",
   "metadata": {
    "hidden": true
   },
   "source": [
    "## 4.1. Univariate Analysis"
   ]
  },
  {
   "cell_type": "markdown",
   "id": "4a668907",
   "metadata": {
    "hidden": true
   },
   "source": [
    "As seen, in this variable there is an equal distribution of gender "
   ]
  },
  {
   "cell_type": "code",
   "execution_count": 18,
   "id": "4dfbacfe",
   "metadata": {
    "ExecuteTime": {
     "end_time": "2022-01-30T20:11:07.738102Z",
     "start_time": "2022-01-30T20:11:07.474633Z"
    },
    "hidden": true
   },
   "outputs": [
    {
     "data": {
      "image/png": "[encoded data removed]",
      "text/plain": [
       "<Figure size 936x576 with 1 Axes>"
      ]
     },
     "metadata": {},
     "output_type": "display_data"
    }
   ],
   "source": [
    "# gender\n",
    "gender_pallete = [pallete[0], pallete[8]]\n",
    "\n",
    "aux = df4['gender'].value_counts()\n",
    "plt.pie( aux,  autopct = '%0.0f%%', colors=gender_pallete)\n",
    "plt.legend( labels=aux.index, fontsize=15, loc='upper left' );"
   ]
  },
  {
   "cell_type": "markdown",
   "id": "dc0e5783",
   "metadata": {
    "hidden": true
   },
   "source": [
    "As shown here below, there's a distribution that seems to be really close in their behavior related to the target variable. The age doesn't change too much from each category. But the median of the ages for the category '1' is a little bit higher than the median value from the category '0' "
   ]
  },
  {
   "cell_type": "code",
   "execution_count": 19,
   "id": "c46df0f9",
   "metadata": {
    "ExecuteTime": {
     "end_time": "2022-01-30T20:11:08.221012Z",
     "start_time": "2022-01-30T20:11:07.907006Z"
    },
    "hidden": true
   },
   "outputs": [
    {
     "data": {
      "image/png": "[encoded data removed]",
      "text/plain": [
       "<Figure size 936x576 with 1 Axes>"
      ]
     },
     "metadata": {},
     "output_type": "display_data"
    }
   ],
   "source": [
    "# 'age'\n",
    "age_pallete = [pallete[0], pallete[2]]\n",
    "sns.boxplot( data= df4, y='age', x='response', palette=age_pallete );"
   ]
  },
  {
   "cell_type": "code",
   "execution_count": 20,
   "id": "f1f381b9",
   "metadata": {
    "ExecuteTime": {
     "end_time": "2022-01-30T20:11:09.801155Z",
     "start_time": "2022-01-30T20:11:08.385311Z"
    },
    "cell_style": "center",
    "hidden": true
   },
   "outputs": [
    {
     "data": {
      "image/png": "[encoded data removed]",
      "text/plain": [
       "<Figure size 1080x360 with 2 Axes>"
      ]
     },
     "metadata": {},
     "output_type": "display_data"
    }
   ],
   "source": [
    "fig, axes = plt.subplots( ncols=2, figsize=(15,5) )\n",
    "\n",
    "# response == 0\n",
    "aux00 = df4.loc[df4['response'] == 0, 'age']\n",
    "sns.histplot( data=aux00, palette=age_pallete[0], ax=axes[0])\n",
    "axes[0].set_title( 'Response == 0' )\n",
    "\n",
    "# response == 1\n",
    "aux00 = df4.loc[df4['response'] == 1, 'age']\n",
    "sns.histplot( data=aux00, color=age_pallete[1], ax=axes[1])\n",
    "axes[1].set_title( 'Response == 1' );"
   ]
  },
  {
   "cell_type": "markdown",
   "id": "653a08e3",
   "metadata": {
    "hidden": true
   },
   "source": [
    "without a filter is hard to catch the behavior of this variable, It's hard to understand how the distribution of the variable actually is. Because there are lots of points shown as an outlier on this boxplot"
   ]
  },
  {
   "cell_type": "code",
   "execution_count": 21,
   "id": "415fe311",
   "metadata": {
    "ExecuteTime": {
     "end_time": "2022-01-30T20:11:10.315649Z",
     "start_time": "2022-01-30T20:11:09.978455Z"
    },
    "hidden": true
   },
   "outputs": [
    {
     "data": {
      "image/png": "[encoded data removed]",
      "text/plain": [
       "<Figure size 936x576 with 1 Axes>"
      ]
     },
     "metadata": {},
     "output_type": "display_data"
    }
   ],
   "source": [
    "# 'annual_premium'\n",
    "annual_premium_pallete = [pallete2[0], pallete2[8]]\n",
    "\n",
    "sns.boxplot( data= df4, y='annual_premium', x='response', palette=annual_premium_pallete );"
   ]
  },
  {
   "cell_type": "markdown",
   "id": "2e5bc073",
   "metadata": {
    "hidden": true
   },
   "source": [
    "Applying a filter makes this job easier. Now I'm able to see that this variable doesn't bring me lots of information alone. Because its behavior doesn't change from each category from the target variable"
   ]
  },
  {
   "cell_type": "code",
   "execution_count": 22,
   "id": "c1007f8f",
   "metadata": {
    "ExecuteTime": {
     "end_time": "2022-01-30T20:11:10.847564Z",
     "start_time": "2022-01-30T20:11:10.488575Z"
    },
    "hidden": true
   },
   "outputs": [
    {
     "data": {
      "image/png": "[encoded data removed]",
      "text/plain": [
       "<Figure size 936x576 with 1 Axes>"
      ]
     },
     "metadata": {},
     "output_type": "display_data"
    }
   ],
   "source": [
    "# 'annual_premium'\n",
    "annual_premium_pallete = [pallete2[0], pallete2[8]]\n",
    "\n",
    "aux = df4[df4['annual_premium']<80000]\n",
    "sns.boxplot( data= aux, y='annual_premium', x='response', palette=annual_premium_pallete );"
   ]
  },
  {
   "cell_type": "markdown",
   "id": "696d2bd8",
   "metadata": {
    "hidden": true
   },
   "source": [
    "Applying another filter to see how the distribution of the data in this variable behavior alone through these histograms."
   ]
  },
  {
   "cell_type": "code",
   "execution_count": 23,
   "id": "019b0d8d",
   "metadata": {
    "ExecuteTime": {
     "end_time": "2022-01-30T20:11:12.672077Z",
     "start_time": "2022-01-30T20:11:11.030947Z"
    },
    "cell_style": "center",
    "hidden": true
   },
   "outputs": [
    {
     "data": {
      "image/png": "[encoded data removed]",
      "text/plain": [
       "<Figure size 1080x360 with 2 Axes>"
      ]
     },
     "metadata": {},
     "output_type": "display_data"
    }
   ],
   "source": [
    "fig, axes = plt.subplots( ncols=2, figsize=(15,5) )\n",
    "\n",
    "aux = df4[ (df4['annual_premium']<80000) & (df4['annual_premium']>10000)]\n",
    "\n",
    "# reponse == 0\n",
    "aux00 = aux.loc[aux['response'] == 0, 'annual_premium']\n",
    "sns.histplot( data=aux00, color=annual_premium_pallete[0], ax=axes[0] )\n",
    "axes[0].set_title( 'Response == 0' )\n",
    "\n",
    "# reponse == 1\n",
    "aux00 = aux.loc[aux['response'] == 1, 'annual_premium']\n",
    "sns.histplot( data=aux00, color=annual_premium_pallete[1], ax=axes[1] )\n",
    "axes[1].set_title( 'Response == 1' );"
   ]
  },
  {
   "cell_type": "markdown",
   "id": "2009b18a",
   "metadata": {
    "hidden": true
   },
   "source": [
    "For this variable \"driving license\" which is a categorical variable such as the target variable, I decided to make a frequency table to show how much time the occurring happen for this variable related to each categorical value from the target variable. The table is shown in terms of the percentage\n",
    "\n",
    "The result sounds right or at least makes sense. Because it's expected that, people who already have their license might have a vehicle already and if the people have a vehicle makes sense they already have insurance. But it's not a statement yet, it's just the initial feeling. "
   ]
  },
  {
   "cell_type": "code",
   "execution_count": 24,
   "id": "8729cc4e",
   "metadata": {
    "ExecuteTime": {
     "end_time": "2022-01-30T20:11:12.969264Z",
     "start_time": "2022-01-30T20:11:12.890954Z"
    },
    "hidden": true
   },
   "outputs": [
    {
     "data": {
      "text/html": [
       "<div>\n",
       "<style scoped>\n",
       "    .dataframe tbody tr th:only-of-type {\n",
       "        vertical-align: middle;\n",
       "    }\n",
       "\n",
       "    .dataframe tbody tr th {\n",
       "        vertical-align: top;\n",
       "    }\n",
       "\n",
       "    .dataframe thead th {\n",
       "        text-align: right;\n",
       "    }\n",
       "</style>\n",
       "<table border=\"1\" class=\"dataframe\">\n",
       "  <thead>\n",
       "    <tr style=\"text-align: right;\">\n",
       "      <th>response</th>\n",
       "      <th>0</th>\n",
       "      <th>1</th>\n",
       "    </tr>\n",
       "    <tr>\n",
       "      <th>driving_license</th>\n",
       "      <th></th>\n",
       "      <th></th>\n",
       "    </tr>\n",
       "  </thead>\n",
       "  <tbody>\n",
       "    <tr>\n",
       "      <th>0</th>\n",
       "      <td>0.002023</td>\n",
       "      <td>0.000108</td>\n",
       "    </tr>\n",
       "    <tr>\n",
       "      <th>1</th>\n",
       "      <td>0.875414</td>\n",
       "      <td>0.122456</td>\n",
       "    </tr>\n",
       "  </tbody>\n",
       "</table>\n",
       "</div>"
      ],
      "text/plain": [
       "response                0         1\n",
       "driving_license                    \n",
       "0                0.002023  0.000108\n",
       "1                0.875414  0.122456"
      ]
     },
     "execution_count": 24,
     "metadata": {},
     "output_type": "execute_result"
    }
   ],
   "source": [
    "# driving_license\n",
    "pd.crosstab( df4['driving_license'], df4['response'], normalize=True )"
   ]
  },
  {
   "cell_type": "markdown",
   "id": "8a61c9f4",
   "metadata": {
    "hidden": true
   },
   "source": [
    "In this step, the central idea was to identify for each region how many people answered the target variable as 0 or 1. \n",
    "\n",
    "As seen in the scatterplot below it's hard to separate the people who marked the response as 1 from the people who marked it as 0. The number of people that answered 1 or 0 is really close.\n",
    "\n",
    "It might mean that this variable alone doesn't bring a lot of information."
   ]
  },
  {
   "cell_type": "code",
   "execution_count": 25,
   "id": "5c444d3e",
   "metadata": {
    "ExecuteTime": {
     "end_time": "2022-01-30T20:11:13.581955Z",
     "start_time": "2022-01-30T20:11:13.134869Z"
    },
    "hidden": true
   },
   "outputs": [
    {
     "data": {
      "image/png": "[encoded data removed]",
      "text/plain": [
       "<Figure size 936x576 with 1 Axes>"
      ]
     },
     "metadata": {},
     "output_type": "display_data"
    }
   ],
   "source": [
    "# region_code\n",
    "region_pallete = [pallete2[0], pallete2[8]]\n",
    "\n",
    "aux = df4[['id','region_code','response']].groupby( ['region_code','response'] ).count().reset_index()\n",
    "sns.scatterplot( x='region_code', y='id', hue='response', data=aux, palette=region_pallete );"
   ]
  },
  {
   "cell_type": "markdown",
   "id": "275c62db",
   "metadata": {
    "hidden": true
   },
   "source": [
    "for this variable, I decided to make a frequency table as well to show in terms of percentage the number of people who are already insured or not and who answered 0 or 1."
   ]
  },
  {
   "cell_type": "code",
   "execution_count": 26,
   "id": "5cf32bab",
   "metadata": {
    "ExecuteTime": {
     "end_time": "2022-01-30T20:11:13.843785Z",
     "start_time": "2022-01-30T20:11:13.773594Z"
    },
    "hidden": true
   },
   "outputs": [
    {
     "data": {
      "text/html": [
       "<div>\n",
       "<style scoped>\n",
       "    .dataframe tbody tr th:only-of-type {\n",
       "        vertical-align: middle;\n",
       "    }\n",
       "\n",
       "    .dataframe tbody tr th {\n",
       "        vertical-align: top;\n",
       "    }\n",
       "\n",
       "    .dataframe thead th {\n",
       "        text-align: right;\n",
       "    }\n",
       "</style>\n",
       "<table border=\"1\" class=\"dataframe\">\n",
       "  <thead>\n",
       "    <tr style=\"text-align: right;\">\n",
       "      <th>response</th>\n",
       "      <th>0</th>\n",
       "      <th>1</th>\n",
       "    </tr>\n",
       "    <tr>\n",
       "      <th>previously_insured</th>\n",
       "      <th></th>\n",
       "      <th></th>\n",
       "    </tr>\n",
       "  </thead>\n",
       "  <tbody>\n",
       "    <tr>\n",
       "      <th>0</th>\n",
       "      <td>0.774546</td>\n",
       "      <td>0.225454</td>\n",
       "    </tr>\n",
       "    <tr>\n",
       "      <th>1</th>\n",
       "      <td>0.999095</td>\n",
       "      <td>0.000905</td>\n",
       "    </tr>\n",
       "  </tbody>\n",
       "</table>\n",
       "</div>"
      ],
      "text/plain": [
       "response                   0         1\n",
       "previously_insured                    \n",
       "0                   0.774546  0.225454\n",
       "1                   0.999095  0.000905"
      ]
     },
     "execution_count": 26,
     "metadata": {},
     "output_type": "execute_result"
    }
   ],
   "source": [
    "# previously_insured on the rows\n",
    "pd.crosstab( df4['previously_insured'], df4['response'], normalize='index' )"
   ]
  },
  {
   "cell_type": "code",
   "execution_count": 27,
   "id": "475ac989",
   "metadata": {
    "ExecuteTime": {
     "end_time": "2022-01-30T20:11:14.105125Z",
     "start_time": "2022-01-30T20:11:14.027509Z"
    },
    "hidden": true
   },
   "outputs": [
    {
     "data": {
      "text/html": [
       "<div>\n",
       "<style scoped>\n",
       "    .dataframe tbody tr th:only-of-type {\n",
       "        vertical-align: middle;\n",
       "    }\n",
       "\n",
       "    .dataframe tbody tr th {\n",
       "        vertical-align: top;\n",
       "    }\n",
       "\n",
       "    .dataframe thead th {\n",
       "        text-align: right;\n",
       "    }\n",
       "</style>\n",
       "<table border=\"1\" class=\"dataframe\">\n",
       "  <thead>\n",
       "    <tr style=\"text-align: right;\">\n",
       "      <th>response</th>\n",
       "      <th>0</th>\n",
       "      <th>1</th>\n",
       "    </tr>\n",
       "    <tr>\n",
       "      <th>previously_insured</th>\n",
       "      <th></th>\n",
       "      <th></th>\n",
       "    </tr>\n",
       "  </thead>\n",
       "  <tbody>\n",
       "    <tr>\n",
       "      <th>0</th>\n",
       "      <td>0.419641</td>\n",
       "      <td>0.122149</td>\n",
       "    </tr>\n",
       "    <tr>\n",
       "      <th>1</th>\n",
       "      <td>0.457796</td>\n",
       "      <td>0.000415</td>\n",
       "    </tr>\n",
       "  </tbody>\n",
       "</table>\n",
       "</div>"
      ],
      "text/plain": [
       "response                   0         1\n",
       "previously_insured                    \n",
       "0                   0.419641  0.122149\n",
       "1                   0.457796  0.000415"
      ]
     },
     "execution_count": 27,
     "metadata": {},
     "output_type": "execute_result"
    }
   ],
   "source": [
    "# previously_insured as a whole\n",
    "pd.crosstab( df4['previously_insured'], df4['response'], normalize=True )"
   ]
  },
  {
   "cell_type": "markdown",
   "id": "6d23b02f",
   "metadata": {
    "hidden": true
   },
   "source": [
    "A frequency table was done to count the occurrence of people who answer the target variable for each vehicle age listed.\n",
    "\n",
    "As shown, below_1_year and between_1_2_years are the variables that concentrate the most percentage of people who answered and these people answered 0."
   ]
  },
  {
   "cell_type": "code",
   "execution_count": 28,
   "id": "18b43790",
   "metadata": {
    "ExecuteTime": {
     "end_time": "2022-01-30T20:11:14.380783Z",
     "start_time": "2022-01-30T20:11:14.296298Z"
    },
    "hidden": true
   },
   "outputs": [
    {
     "data": {
      "text/html": [
       "<div>\n",
       "<style scoped>\n",
       "    .dataframe tbody tr th:only-of-type {\n",
       "        vertical-align: middle;\n",
       "    }\n",
       "\n",
       "    .dataframe tbody tr th {\n",
       "        vertical-align: top;\n",
       "    }\n",
       "\n",
       "    .dataframe thead th {\n",
       "        text-align: right;\n",
       "    }\n",
       "</style>\n",
       "<table border=\"1\" class=\"dataframe\">\n",
       "  <thead>\n",
       "    <tr style=\"text-align: right;\">\n",
       "      <th></th>\n",
       "      <th>vehicle_age</th>\n",
       "      <th>response</th>\n",
       "      <th>0</th>\n",
       "    </tr>\n",
       "  </thead>\n",
       "  <tbody>\n",
       "    <tr>\n",
       "      <th>1</th>\n",
       "      <td>below_1_year</td>\n",
       "      <td>0</td>\n",
       "      <td>0.413488</td>\n",
       "    </tr>\n",
       "    <tr>\n",
       "      <th>4</th>\n",
       "      <td>below_1_year</td>\n",
       "      <td>1</td>\n",
       "      <td>0.018897</td>\n",
       "    </tr>\n",
       "    <tr>\n",
       "      <th>0</th>\n",
       "      <td>between_1_2_years</td>\n",
       "      <td>0</td>\n",
       "      <td>0.434285</td>\n",
       "    </tr>\n",
       "    <tr>\n",
       "      <th>2</th>\n",
       "      <td>between_1_2_years</td>\n",
       "      <td>1</td>\n",
       "      <td>0.091328</td>\n",
       "    </tr>\n",
       "    <tr>\n",
       "      <th>3</th>\n",
       "      <td>over_2_years</td>\n",
       "      <td>0</td>\n",
       "      <td>0.029663</td>\n",
       "    </tr>\n",
       "    <tr>\n",
       "      <th>5</th>\n",
       "      <td>over_2_years</td>\n",
       "      <td>1</td>\n",
       "      <td>0.012338</td>\n",
       "    </tr>\n",
       "  </tbody>\n",
       "</table>\n",
       "</div>"
      ],
      "text/plain": [
       "         vehicle_age  response         0\n",
       "1       below_1_year         0  0.413488\n",
       "4       below_1_year         1  0.018897\n",
       "0  between_1_2_years         0  0.434285\n",
       "2  between_1_2_years         1  0.091328\n",
       "3       over_2_years         0  0.029663\n",
       "5       over_2_years         1  0.012338"
      ]
     },
     "execution_count": 28,
     "metadata": {},
     "output_type": "execute_result"
    }
   ],
   "source": [
    "# vehicle_age\n",
    "df4[['vehicle_age','response']].value_counts( normalize=True ).reset_index().sort_values( 'vehicle_age' )"
   ]
  },
  {
   "cell_type": "markdown",
   "id": "f5cbe2b9",
   "metadata": {
    "hidden": true
   },
   "source": [
    "For this variable, if I don't apply any filter makes the job harder. So, below I'm going to filter the data to visualize it better."
   ]
  },
  {
   "cell_type": "code",
   "execution_count": 29,
   "id": "da967465",
   "metadata": {
    "ExecuteTime": {
     "end_time": "2022-01-30T20:11:16.105937Z",
     "start_time": "2022-01-30T20:11:14.557293Z"
    },
    "hidden": true
   },
   "outputs": [
    {
     "data": {
      "image/png": "[encoded data removed]",
      "text/plain": [
       "<Figure size 936x576 with 1 Axes>"
      ]
     },
     "metadata": {},
     "output_type": "display_data"
    }
   ],
   "source": [
    "# policy_sales_channel\n",
    "aux = df4['policy_sales_channel'].astype( 'object' ).value_counts().reset_index().sort_values( 'index' )\n",
    "sns.barplot( data=aux, x='index', y='policy_sales_channel' )\n",
    "plt.xticks( range(0,161,10), rotation=45 );"
   ]
  },
  {
   "cell_type": "markdown",
   "id": "73f4f35b",
   "metadata": {
    "hidden": true
   },
   "source": [
    "As seen the policy sales channel with more people as seen in the graph above are:\n",
    "- 152\n",
    "- 26\n",
    "- 124\n",
    "- 160"
   ]
  },
  {
   "cell_type": "code",
   "execution_count": 30,
   "id": "984912a2",
   "metadata": {
    "ExecuteTime": {
     "end_time": "2022-01-30T20:11:16.388394Z",
     "start_time": "2022-01-30T20:11:16.351483Z"
    },
    "hidden": true
   },
   "outputs": [
    {
     "data": {
      "text/plain": [
       "152.0    0.353663\n",
       "26.0     0.209127\n",
       "124.0    0.194157\n",
       "160.0    0.057146\n",
       "Name: policy_sales_channel, dtype: float64"
      ]
     },
     "execution_count": 30,
     "metadata": {},
     "output_type": "execute_result"
    }
   ],
   "source": [
    "aux_ = df4['policy_sales_channel'].value_counts( normalize=True ).head(4)\n",
    "aux_"
   ]
  },
  {
   "cell_type": "markdown",
   "id": "2f59fe6f",
   "metadata": {
    "hidden": true
   },
   "source": [
    "These four channels together represent more than 80% of the people in the dataset. In other words, more than 80% of the people choose one of these channels"
   ]
  },
  {
   "cell_type": "code",
   "execution_count": 31,
   "id": "e98c78f2",
   "metadata": {
    "ExecuteTime": {
     "end_time": "2022-01-30T20:11:16.553428Z",
     "start_time": "2022-01-30T20:11:16.542167Z"
    },
    "hidden": true
   },
   "outputs": [
    {
     "data": {
      "text/plain": [
       "152.0    0.353663\n",
       "26.0     0.562789\n",
       "124.0    0.756946\n",
       "160.0    0.814093\n",
       "Name: policy_sales_channel, dtype: float64"
      ]
     },
     "execution_count": 31,
     "metadata": {},
     "output_type": "execute_result"
    }
   ],
   "source": [
    "aux_.cumsum()"
   ]
  },
  {
   "cell_type": "code",
   "execution_count": 32,
   "id": "681f8aea",
   "metadata": {
    "ExecuteTime": {
     "end_time": "2022-01-30T20:11:17.757195Z",
     "start_time": "2022-01-30T20:11:16.716739Z"
    },
    "hidden": true
   },
   "outputs": [
    {
     "data": {
      "image/png": "[encoded data removed]",
      "text/plain": [
       "<Figure size 936x576 with 1 Axes>"
      ]
     },
     "metadata": {},
     "output_type": "display_data"
    }
   ],
   "source": [
    "# palette definition\n",
    "palette_aux = pallete[:4]\n",
    "\n",
    "for i in range(151):\n",
    "    palette_aux.append( pallete[8] )\n",
    "\n",
    "# aux dataframe\n",
    "aux = df4.copy()\n",
    "aux['policy_sales_channel'] = aux['policy_sales_channel'].astype( 'object' )\n",
    "\n",
    "df = pd.DataFrame( aux['policy_sales_channel'].value_counts( normalize=True ) ).T \n",
    "\n",
    "# legend\n",
    "legend = aux_.index.to_list()\n",
    "legend.append( 'Below fourth place' )\n",
    "\n",
    "df.plot( kind='barh', stacked=True, color=palette_aux )\n",
    "plt.title( '% Of each different Policy Sales Channel' )\n",
    "plt.xlabel( '%', fontsize=15 )\n",
    "plt.xticks( aux_.cumsum() )\n",
    "plt.legend( legend );"
   ]
  },
  {
   "cell_type": "markdown",
   "id": "761a8b1d",
   "metadata": {
    "hidden": true
   },
   "source": [
    "This has a uniform behavior, it might suggest that this variable might not be useful to our prediction model."
   ]
  },
  {
   "cell_type": "code",
   "execution_count": 33,
   "id": "fb5b54f7",
   "metadata": {
    "ExecuteTime": {
     "end_time": "2022-01-30T20:11:18.272690Z",
     "start_time": "2022-01-30T20:11:17.956225Z"
    },
    "hidden": true
   },
   "outputs": [
    {
     "data": {
      "image/png": "[encoded data removed]",
      "text/plain": [
       "<Figure size 936x576 with 1 Axes>"
      ]
     },
     "metadata": {},
     "output_type": "display_data"
    }
   ],
   "source": [
    "# vintage\n",
    "vintage_pallete = [pallete2[0], pallete2[8]]\n",
    "\n",
    "sns.boxplot( data= df4, y='vintage', x='response', palette=vintage_pallete );"
   ]
  },
  {
   "cell_type": "code",
   "execution_count": 34,
   "id": "c269ef56",
   "metadata": {
    "ExecuteTime": {
     "end_time": "2022-01-30T20:11:19.638565Z",
     "start_time": "2022-01-30T20:11:18.471408Z"
    },
    "cell_style": "center",
    "hidden": true
   },
   "outputs": [
    {
     "data": {
      "image/png": "[encoded data removed]",
      "text/plain": [
       "<Figure size 1080x360 with 2 Axes>"
      ]
     },
     "metadata": {},
     "output_type": "display_data"
    }
   ],
   "source": [
    "fig, axes = plt.subplots( ncols=2, figsize=(15,5) )\n",
    "\n",
    "# response == 0\n",
    "aux00 = df4.loc[df4['response'] == 0, 'vintage']\n",
    "sns.histplot( data=aux00, color=vintage_pallete[0], ax=axes[0] )\n",
    "axes[0].set_title( 'Response == 0' )\n",
    "\n",
    "# response == 1\n",
    "aux00 = df4.loc[df4['response'] == 1, 'vintage']\n",
    "sns.histplot( data=aux00, color=vintage_pallete[1], ax=axes[1] )\n",
    "axes[1].set_title( 'Response == 1' );"
   ]
  },
  {
   "cell_type": "markdown",
   "id": "0f8d6078",
   "metadata": {
    "hidden": true
   },
   "source": [
    "these variables are very balanced."
   ]
  },
  {
   "cell_type": "code",
   "execution_count": 35,
   "id": "fcd13cb4",
   "metadata": {
    "ExecuteTime": {
     "end_time": "2022-01-30T20:11:20.215642Z",
     "start_time": "2022-01-30T20:11:20.011321Z"
    },
    "hidden": true
   },
   "outputs": [
    {
     "data": {
      "image/png": "[encoded data removed]",
      "text/plain": [
       "<Figure size 936x576 with 1 Axes>"
      ]
     },
     "metadata": {},
     "output_type": "display_data"
    }
   ],
   "source": [
    "# vehicle_damage\n",
    "aux = df4['vehicle_damage'].value_counts( normalize=True ).reset_index()\n",
    "sns.barplot( data=aux, x='index', y='vehicle_damage', palette=gender_pallete );"
   ]
  },
  {
   "cell_type": "markdown",
   "id": "f08b790d",
   "metadata": {
    "hidden": true
   },
   "source": [
    "Applying a filter for each target category(0 or 1) it's possible to see some behavior... when the variable target chosen is 1 there is a clearly unbalanced in this variable.\n",
    "\n",
    "What I understand was that most people who have had an accident (vehicle damage) are more close to accepting the insurance. That's might suggest that people have knowledge of how bad an accident might be, and then they become more careful."
   ]
  },
  {
   "cell_type": "code",
   "execution_count": 36,
   "id": "7b2a548e",
   "metadata": {
    "ExecuteTime": {
     "end_time": "2022-01-30T20:11:20.873651Z",
     "start_time": "2022-01-30T20:11:20.450439Z"
    },
    "cell_style": "center",
    "hidden": true
   },
   "outputs": [
    {
     "data": {
      "image/png": "[encoded data removed]",
      "text/plain": [
       "<Figure size 1080x360 with 2 Axes>"
      ]
     },
     "metadata": {},
     "output_type": "display_data"
    }
   ],
   "source": [
    "fig, axes = plt.subplots( ncols=2, figsize=(15,5) )\n",
    "\n",
    "# response == 1\n",
    "aux = df4.loc[ df4['response']==1, 'vehicle_damage'].value_counts( normalize=True ).reset_index()\n",
    "sns.barplot( data=aux, x='index', y='vehicle_damage', palette=gender_pallete, ax=axes[0]);\n",
    "axes[0].set_title( 'Response == 0' )\n",
    "\n",
    "# response == 0\n",
    "aux = df4.loc[ df4['response']==0, 'vehicle_damage'].value_counts( normalize=True ).reset_index()\n",
    "sns.barplot( data=aux, x='index', y='vehicle_damage', palette=gender_pallete, ax=axes[1])\n",
    "axes[1].set_title( 'Response == 1' );"
   ]
  },
  {
   "cell_type": "markdown",
   "id": "68d0b663",
   "metadata": {
    "hidden": true
   },
   "source": [
    "In the target variable is visible that there are clearly unbalanced data here."
   ]
  },
  {
   "cell_type": "code",
   "execution_count": 37,
   "id": "952b8b6f",
   "metadata": {
    "ExecuteTime": {
     "end_time": "2022-01-30T20:11:21.413511Z",
     "start_time": "2022-01-30T20:11:21.090816Z"
    },
    "hidden": true
   },
   "outputs": [
    {
     "data": {
      "image/png": "[encoded data removed]",
      "text/plain": [
       "<Figure size 936x576 with 1 Axes>"
      ]
     },
     "metadata": {},
     "output_type": "display_data"
    }
   ],
   "source": [
    "# response\n",
    "sns.countplot( x='response', data=df4 );"
   ]
  },
  {
   "cell_type": "markdown",
   "id": "4d39c58a",
   "metadata": {
    "hidden": true
   },
   "source": [
    "## 4.2. Business Hypotesis"
   ]
  },
  {
   "cell_type": "markdown",
   "id": "b702579f",
   "metadata": {
    "hidden": true
   },
   "source": [
    "1. Customers without a driving license should not want a vehicle insurance\n",
    "2. Women are most likely to want a vehicle insurance\n",
    "3. Customers aged 40 and over should be more interested in  the insurance\n",
    "4. Clients who damaged their cars are more likely to want the insurance\n",
    "5. Clients with +100 vintage should want the insurance\n",
    "6. Men has more vehicles damaged than women."
   ]
  },
  {
   "cell_type": "markdown",
   "id": "6088d67d",
   "metadata": {
    "hidden": true
   },
   "source": [
    "### H1. Customers without a driving license should not want a vehicle insurance - TRUE"
   ]
  },
  {
   "cell_type": "code",
   "execution_count": 38,
   "id": "2bbf9971",
   "metadata": {
    "ExecuteTime": {
     "end_time": "2022-01-30T20:11:21.732685Z",
     "start_time": "2022-01-30T20:11:21.640691Z"
    },
    "hidden": true
   },
   "outputs": [
    {
     "data": {
      "text/html": [
       "<div>\n",
       "<style scoped>\n",
       "    .dataframe tbody tr th:only-of-type {\n",
       "        vertical-align: middle;\n",
       "    }\n",
       "\n",
       "    .dataframe tbody tr th {\n",
       "        vertical-align: top;\n",
       "    }\n",
       "\n",
       "    .dataframe thead th {\n",
       "        text-align: right;\n",
       "    }\n",
       "</style>\n",
       "<table border=\"1\" class=\"dataframe\">\n",
       "  <thead>\n",
       "    <tr style=\"text-align: right;\">\n",
       "      <th></th>\n",
       "      <th>driving_license</th>\n",
       "      <th>response</th>\n",
       "      <th>response%</th>\n",
       "    </tr>\n",
       "  </thead>\n",
       "  <tbody>\n",
       "    <tr>\n",
       "      <th>0</th>\n",
       "      <td>0</td>\n",
       "      <td>41</td>\n",
       "      <td>0.000878</td>\n",
       "    </tr>\n",
       "    <tr>\n",
       "      <th>1</th>\n",
       "      <td>1</td>\n",
       "      <td>46669</td>\n",
       "      <td>0.999122</td>\n",
       "    </tr>\n",
       "  </tbody>\n",
       "</table>\n",
       "</div>"
      ],
      "text/plain": [
       "   driving_license  response  response%\n",
       "0                0        41   0.000878\n",
       "1                1     46669   0.999122"
      ]
     },
     "execution_count": 38,
     "metadata": {},
     "output_type": "execute_result"
    }
   ],
   "source": [
    "aux = df4[['driving_license','response']].groupby( 'driving_license' ).sum().reset_index()\n",
    "aux['response%'] = aux['response'] / aux['response'].sum()\n",
    "aux"
   ]
  },
  {
   "cell_type": "code",
   "execution_count": 39,
   "id": "ccbc9388",
   "metadata": {
    "ExecuteTime": {
     "end_time": "2022-01-30T20:11:22.206388Z",
     "start_time": "2022-01-30T20:11:21.988636Z"
    },
    "hidden": true
   },
   "outputs": [
    {
     "data": {
      "image/png": "[encoded data removed]",
      "text/plain": [
       "<Figure size 936x576 with 1 Axes>"
      ]
     },
     "metadata": {},
     "output_type": "display_data"
    }
   ],
   "source": [
    "sns.barplot( data=aux, x='driving_license', y='response%', order=[1,0] );"
   ]
  },
  {
   "cell_type": "markdown",
   "id": "bbc344b7",
   "metadata": {
    "hidden": true
   },
   "source": [
    "### H2. Women are most likely to want a vehicle insurance - FALSE"
   ]
  },
  {
   "cell_type": "code",
   "execution_count": 40,
   "id": "998796b8",
   "metadata": {
    "ExecuteTime": {
     "end_time": "2022-01-30T20:11:22.547846Z",
     "start_time": "2022-01-30T20:11:22.491162Z"
    },
    "hidden": true
   },
   "outputs": [
    {
     "data": {
      "text/html": [
       "<div>\n",
       "<style scoped>\n",
       "    .dataframe tbody tr th:only-of-type {\n",
       "        vertical-align: middle;\n",
       "    }\n",
       "\n",
       "    .dataframe tbody tr th {\n",
       "        vertical-align: top;\n",
       "    }\n",
       "\n",
       "    .dataframe thead th {\n",
       "        text-align: right;\n",
       "    }\n",
       "</style>\n",
       "<table border=\"1\" class=\"dataframe\">\n",
       "  <thead>\n",
       "    <tr style=\"text-align: right;\">\n",
       "      <th></th>\n",
       "      <th>gender</th>\n",
       "      <th>response</th>\n",
       "      <th>response%</th>\n",
       "    </tr>\n",
       "  </thead>\n",
       "  <tbody>\n",
       "    <tr>\n",
       "      <th>0</th>\n",
       "      <td>Female</td>\n",
       "      <td>18185</td>\n",
       "      <td>0.389317</td>\n",
       "    </tr>\n",
       "    <tr>\n",
       "      <th>1</th>\n",
       "      <td>Male</td>\n",
       "      <td>28525</td>\n",
       "      <td>0.610683</td>\n",
       "    </tr>\n",
       "  </tbody>\n",
       "</table>\n",
       "</div>"
      ],
      "text/plain": [
       "   gender  response  response%\n",
       "0  Female     18185   0.389317\n",
       "1    Male     28525   0.610683"
      ]
     },
     "execution_count": 40,
     "metadata": {},
     "output_type": "execute_result"
    }
   ],
   "source": [
    "aux = df4[['gender','response']].groupby( 'gender' ).sum().reset_index()\n",
    "aux['response%'] = aux['response'] / aux['response'].sum()\n",
    "aux"
   ]
  },
  {
   "cell_type": "markdown",
   "id": "f88ac213",
   "metadata": {
    "ExecuteTime": {
     "end_time": "2022-01-28T22:29:21.747177Z",
     "start_time": "2022-01-28T22:29:21.742180Z"
    },
    "hidden": true
   },
   "source": [
    "### H3. Customers aged 40 and over should be more interested in  the insurance - TRUE"
   ]
  },
  {
   "cell_type": "code",
   "execution_count": 41,
   "id": "97f45857",
   "metadata": {
    "ExecuteTime": {
     "end_time": "2022-01-30T20:11:23.055151Z",
     "start_time": "2022-01-30T20:11:22.806293Z"
    },
    "hidden": true
   },
   "outputs": [
    {
     "data": {
      "text/html": [
       "<div>\n",
       "<style scoped>\n",
       "    .dataframe tbody tr th:only-of-type {\n",
       "        vertical-align: middle;\n",
       "    }\n",
       "\n",
       "    .dataframe tbody tr th {\n",
       "        vertical-align: top;\n",
       "    }\n",
       "\n",
       "    .dataframe thead th {\n",
       "        text-align: right;\n",
       "    }\n",
       "</style>\n",
       "<table border=\"1\" class=\"dataframe\">\n",
       "  <thead>\n",
       "    <tr style=\"text-align: right;\">\n",
       "      <th></th>\n",
       "      <th>more_than_40</th>\n",
       "      <th>response</th>\n",
       "    </tr>\n",
       "  </thead>\n",
       "  <tbody>\n",
       "    <tr>\n",
       "      <th>0</th>\n",
       "      <td>No</td>\n",
       "      <td>18780</td>\n",
       "    </tr>\n",
       "    <tr>\n",
       "      <th>1</th>\n",
       "      <td>Yes</td>\n",
       "      <td>27930</td>\n",
       "    </tr>\n",
       "  </tbody>\n",
       "</table>\n",
       "</div>"
      ],
      "text/plain": [
       "  more_than_40  response\n",
       "0           No     18780\n",
       "1          Yes     27930"
      ]
     },
     "execution_count": 41,
     "metadata": {},
     "output_type": "execute_result"
    }
   ],
   "source": [
    "aux = df4.copy()\n",
    "aux['more_than_40'] = aux['age'].apply( lambda x: 'Yes' if x>40 else 'No' )\n",
    "\n",
    "aux_02 = aux[['more_than_40','response']].groupby( 'more_than_40' ).sum().reset_index()\n",
    "aux_02"
   ]
  },
  {
   "cell_type": "markdown",
   "id": "a5aaca30",
   "metadata": {
    "ExecuteTime": {
     "end_time": "2022-01-28T23:02:39.586179Z",
     "start_time": "2022-01-28T23:02:39.568171Z"
    },
    "hidden": true
   },
   "source": [
    "### H4. Clients who damaged their cars are more likely to want the insurance - TRUE"
   ]
  },
  {
   "cell_type": "code",
   "execution_count": 42,
   "id": "b65067c4",
   "metadata": {
    "ExecuteTime": {
     "end_time": "2022-01-30T20:11:23.337882Z",
     "start_time": "2022-01-30T20:11:23.290924Z"
    },
    "hidden": true
   },
   "outputs": [
    {
     "data": {
      "text/html": [
       "<div>\n",
       "<style scoped>\n",
       "    .dataframe tbody tr th:only-of-type {\n",
       "        vertical-align: middle;\n",
       "    }\n",
       "\n",
       "    .dataframe tbody tr th {\n",
       "        vertical-align: top;\n",
       "    }\n",
       "\n",
       "    .dataframe thead th {\n",
       "        text-align: right;\n",
       "    }\n",
       "</style>\n",
       "<table border=\"1\" class=\"dataframe\">\n",
       "  <thead>\n",
       "    <tr style=\"text-align: right;\">\n",
       "      <th></th>\n",
       "      <th>vehicle_damage</th>\n",
       "      <th>response</th>\n",
       "    </tr>\n",
       "  </thead>\n",
       "  <tbody>\n",
       "    <tr>\n",
       "      <th>0</th>\n",
       "      <td>0</td>\n",
       "      <td>982</td>\n",
       "    </tr>\n",
       "    <tr>\n",
       "      <th>1</th>\n",
       "      <td>1</td>\n",
       "      <td>45728</td>\n",
       "    </tr>\n",
       "  </tbody>\n",
       "</table>\n",
       "</div>"
      ],
      "text/plain": [
       "   vehicle_damage  response\n",
       "0               0       982\n",
       "1               1     45728"
      ]
     },
     "execution_count": 42,
     "metadata": {},
     "output_type": "execute_result"
    }
   ],
   "source": [
    "df4[['vehicle_damage','response']].groupby( 'vehicle_damage' ).sum().reset_index()"
   ]
  },
  {
   "cell_type": "markdown",
   "id": "45176664",
   "metadata": {
    "hidden": true
   },
   "source": [
    "### H5. Clients with +100 vintage should want the insurance more than clients who hasn't - TRUE"
   ]
  },
  {
   "cell_type": "code",
   "execution_count": 43,
   "id": "0b7e31c9",
   "metadata": {
    "ExecuteTime": {
     "end_time": "2022-01-30T20:11:23.815615Z",
     "start_time": "2022-01-30T20:11:23.615765Z"
    },
    "hidden": true
   },
   "outputs": [
    {
     "data": {
      "text/html": [
       "<div>\n",
       "<style scoped>\n",
       "    .dataframe tbody tr th:only-of-type {\n",
       "        vertical-align: middle;\n",
       "    }\n",
       "\n",
       "    .dataframe tbody tr th {\n",
       "        vertical-align: top;\n",
       "    }\n",
       "\n",
       "    .dataframe thead th {\n",
       "        text-align: right;\n",
       "    }\n",
       "</style>\n",
       "<table border=\"1\" class=\"dataframe\">\n",
       "  <thead>\n",
       "    <tr style=\"text-align: right;\">\n",
       "      <th></th>\n",
       "      <th>more_than_100_vintage</th>\n",
       "      <th>response</th>\n",
       "    </tr>\n",
       "  </thead>\n",
       "  <tbody>\n",
       "    <tr>\n",
       "      <th>0</th>\n",
       "      <td>No</td>\n",
       "      <td>14508</td>\n",
       "    </tr>\n",
       "    <tr>\n",
       "      <th>1</th>\n",
       "      <td>Yes</td>\n",
       "      <td>32202</td>\n",
       "    </tr>\n",
       "  </tbody>\n",
       "</table>\n",
       "</div>"
      ],
      "text/plain": [
       "  more_than_100_vintage  response\n",
       "0                    No     14508\n",
       "1                   Yes     32202"
      ]
     },
     "execution_count": 43,
     "metadata": {},
     "output_type": "execute_result"
    }
   ],
   "source": [
    "aux = df4.copy()\n",
    "aux['more_than_100_vintage'] = aux['vintage'].apply( lambda x: 'Yes' if x>=100 else 'No' )\n",
    "\n",
    "aux[['more_than_100_vintage','response']].groupby( 'more_than_100_vintage' ).sum().reset_index()"
   ]
  },
  {
   "cell_type": "markdown",
   "id": "74fe39f6",
   "metadata": {
    "hidden": true
   },
   "source": [
    "### H6. Men has more vehicles damaged than women - TRUE"
   ]
  },
  {
   "cell_type": "code",
   "execution_count": 44,
   "id": "8efe5f06",
   "metadata": {
    "ExecuteTime": {
     "end_time": "2022-01-30T20:11:24.204385Z",
     "start_time": "2022-01-30T20:11:24.073475Z"
    },
    "hidden": true
   },
   "outputs": [
    {
     "data": {
      "text/html": [
       "<div>\n",
       "<style scoped>\n",
       "    .dataframe tbody tr th:only-of-type {\n",
       "        vertical-align: middle;\n",
       "    }\n",
       "\n",
       "    .dataframe tbody tr th {\n",
       "        vertical-align: top;\n",
       "    }\n",
       "\n",
       "    .dataframe thead th {\n",
       "        text-align: right;\n",
       "    }\n",
       "</style>\n",
       "<table border=\"1\" class=\"dataframe\">\n",
       "  <thead>\n",
       "    <tr style=\"text-align: right;\">\n",
       "      <th>vehicle_damage</th>\n",
       "      <th>0</th>\n",
       "      <th>1</th>\n",
       "    </tr>\n",
       "    <tr>\n",
       "      <th>gender</th>\n",
       "      <th></th>\n",
       "      <th></th>\n",
       "    </tr>\n",
       "  </thead>\n",
       "  <tbody>\n",
       "    <tr>\n",
       "      <th>Female</th>\n",
       "      <td>95355</td>\n",
       "      <td>79665</td>\n",
       "    </tr>\n",
       "    <tr>\n",
       "      <th>Male</th>\n",
       "      <td>93341</td>\n",
       "      <td>112748</td>\n",
       "    </tr>\n",
       "  </tbody>\n",
       "</table>\n",
       "</div>"
      ],
      "text/plain": [
       "vehicle_damage      0       1\n",
       "gender                       \n",
       "Female          95355   79665\n",
       "Male            93341  112748"
      ]
     },
     "execution_count": 44,
     "metadata": {},
     "output_type": "execute_result"
    }
   ],
   "source": [
    "pd.crosstab( df4['gender'], df4['vehicle_damage'] )"
   ]
  },
  {
   "cell_type": "code",
   "execution_count": 45,
   "id": "ad581804",
   "metadata": {
    "ExecuteTime": {
     "end_time": "2022-01-30T20:11:24.581202Z",
     "start_time": "2022-01-30T20:11:24.491691Z"
    },
    "hidden": true
   },
   "outputs": [
    {
     "data": {
      "text/html": [
       "<div>\n",
       "<style scoped>\n",
       "    .dataframe tbody tr th:only-of-type {\n",
       "        vertical-align: middle;\n",
       "    }\n",
       "\n",
       "    .dataframe tbody tr th {\n",
       "        vertical-align: top;\n",
       "    }\n",
       "\n",
       "    .dataframe thead th {\n",
       "        text-align: right;\n",
       "    }\n",
       "</style>\n",
       "<table border=\"1\" class=\"dataframe\">\n",
       "  <thead>\n",
       "    <tr style=\"text-align: right;\">\n",
       "      <th></th>\n",
       "      <th>gender</th>\n",
       "      <th>vehicle_damage</th>\n",
       "    </tr>\n",
       "  </thead>\n",
       "  <tbody>\n",
       "    <tr>\n",
       "      <th>0</th>\n",
       "      <td>Female</td>\n",
       "      <td>79665</td>\n",
       "    </tr>\n",
       "    <tr>\n",
       "      <th>1</th>\n",
       "      <td>Male</td>\n",
       "      <td>112748</td>\n",
       "    </tr>\n",
       "  </tbody>\n",
       "</table>\n",
       "</div>"
      ],
      "text/plain": [
       "   gender  vehicle_damage\n",
       "0  Female           79665\n",
       "1    Male          112748"
      ]
     },
     "execution_count": 45,
     "metadata": {},
     "output_type": "execute_result"
    }
   ],
   "source": [
    "df4[['gender','vehicle_damage']].groupby( 'gender' ).sum().reset_index()"
   ]
  },
  {
   "cell_type": "markdown",
   "id": "2e7f4706",
   "metadata": {
    "hidden": true
   },
   "source": [
    "### Final Hypotesis table"
   ]
  },
  {
   "cell_type": "code",
   "execution_count": 46,
   "id": "992fb8c2",
   "metadata": {
    "ExecuteTime": {
     "end_time": "2022-01-30T20:11:24.849034Z",
     "start_time": "2022-01-30T20:11:24.822597Z"
    },
    "hidden": true
   },
   "outputs": [
    {
     "name": "stdout",
     "output_type": "stream",
     "text": [
      "╒══════════════════════════════════════════════════════════════════════════════╤══════════════╤═════════════╕\n",
      "│ Hypothesis                                                                   │ Conclusion   │ Relevance   │\n",
      "╞══════════════════════════════════════════════════════════════════════════════╪══════════════╪═════════════╡\n",
      "│ H1 - Customers without a driving license should not want a vehicle insurance │ True         │ Low         │\n",
      "├──────────────────────────────────────────────────────────────────────────────┼──────────────┼─────────────┤\n",
      "│ H2 - Women are most likely to want a vehicle insurance                       │ False        │ High        │\n",
      "├──────────────────────────────────────────────────────────────────────────────┼──────────────┼─────────────┤\n",
      "│ H3 - Customers aged 40 and over should be more interested in  the insurance  │ True         │ Medium      │\n",
      "├──────────────────────────────────────────────────────────────────────────────┼──────────────┼─────────────┤\n",
      "│ H4 - Clients who damaged their cars are more likely to want the insurance    │ True         │ High        │\n",
      "├──────────────────────────────────────────────────────────────────────────────┼──────────────┼─────────────┤\n",
      "│ H5 - Clients with +100 vintage should want the insurance                     │ True         │ Low         │\n",
      "├──────────────────────────────────────────────────────────────────────────────┼──────────────┼─────────────┤\n",
      "│ H6 - Men has more vehicles damaged than women                                │ True         │ Low         │\n",
      "╘══════════════════════════════════════════════════════════════════════════════╧══════════════╧═════════════╛\n"
     ]
    }
   ],
   "source": [
    "tab =[['Hypothesis', 'Conclusion', 'Relevance'],\n",
    "      ['H1 - Customers without a driving license should not want a vehicle insurance', 'True', 'Low'],  \n",
    "      ['H2 - Women are most likely to want a vehicle insurance', 'False', 'High'],  \n",
    "      ['H3 - Customers aged 40 and over should be more interested in  the insurance', 'True', 'Medium'],\n",
    "      ['H4 - Clients who damaged their cars are more likely to want the insurance', 'True', 'High'],\n",
    "      ['H5 - Clients with +100 vintage should want the insurance', 'True', 'Low'],\n",
    "      ['H6 - Men has more vehicles damaged than women', 'True', 'Low']]\n",
    "\n",
    "print(tabulate(tab, headers='firstrow', tablefmt = 'fancy_grid'))"
   ]
  },
  {
   "cell_type": "markdown",
   "id": "ab400ffb",
   "metadata": {
    "hidden": true
   },
   "source": [
    "## 4.3. Multivariate analysis"
   ]
  },
  {
   "cell_type": "markdown",
   "id": "04160a9e",
   "metadata": {
    "hidden": true
   },
   "source": [
    "### 4.3.1 Numerical Attributes"
   ]
  },
  {
   "cell_type": "code",
   "execution_count": 47,
   "id": "08180bad",
   "metadata": {
    "ExecuteTime": {
     "end_time": "2022-01-30T20:11:26.346014Z",
     "start_time": "2022-01-30T20:11:25.138422Z"
    },
    "hidden": true
   },
   "outputs": [
    {
     "data": {
      "text/plain": [
       "<AxesSubplot:>"
      ]
     },
     "execution_count": 47,
     "metadata": {},
     "output_type": "execute_result"
    },
    {
     "data": {
      "image/png": "[encoded data removed]",
      "text/plain": [
       "<Figure size 936x576 with 2 Axes>"
      ]
     },
     "metadata": {},
     "output_type": "display_data"
    }
   ],
   "source": [
    "corr = num_attributes.corr( method='pearson' )\n",
    "sns.heatmap( corr, annot=True, cmap=sns.color_palette(\"ch:start=.2,rot=-.3\", as_cmap=True) )"
   ]
  },
  {
   "cell_type": "markdown",
   "id": "c2ac7b6a",
   "metadata": {
    "hidden": true
   },
   "source": [
    "### 4.3.2 Categorical Attributes"
   ]
  },
  {
   "cell_type": "code",
   "execution_count": 48,
   "id": "12f7df01",
   "metadata": {
    "ExecuteTime": {
     "end_time": "2022-01-30T20:11:26.622510Z",
     "start_time": "2022-01-30T20:11:26.599518Z"
    },
    "hidden": true
   },
   "outputs": [
    {
     "data": {
      "text/html": [
       "<div>\n",
       "<style scoped>\n",
       "    .dataframe tbody tr th:only-of-type {\n",
       "        vertical-align: middle;\n",
       "    }\n",
       "\n",
       "    .dataframe tbody tr th {\n",
       "        vertical-align: top;\n",
       "    }\n",
       "\n",
       "    .dataframe thead th {\n",
       "        text-align: right;\n",
       "    }\n",
       "</style>\n",
       "<table border=\"1\" class=\"dataframe\">\n",
       "  <thead>\n",
       "    <tr style=\"text-align: right;\">\n",
       "      <th></th>\n",
       "      <th>gender</th>\n",
       "      <th>vehicle_age</th>\n",
       "      <th>vehicle_damage</th>\n",
       "    </tr>\n",
       "  </thead>\n",
       "  <tbody>\n",
       "    <tr>\n",
       "      <th>0</th>\n",
       "      <td>Male</td>\n",
       "      <td>&gt; 2 Years</td>\n",
       "      <td>Yes</td>\n",
       "    </tr>\n",
       "    <tr>\n",
       "      <th>1</th>\n",
       "      <td>Male</td>\n",
       "      <td>1-2 Year</td>\n",
       "      <td>No</td>\n",
       "    </tr>\n",
       "    <tr>\n",
       "      <th>2</th>\n",
       "      <td>Male</td>\n",
       "      <td>&gt; 2 Years</td>\n",
       "      <td>Yes</td>\n",
       "    </tr>\n",
       "    <tr>\n",
       "      <th>3</th>\n",
       "      <td>Male</td>\n",
       "      <td>&lt; 1 Year</td>\n",
       "      <td>No</td>\n",
       "    </tr>\n",
       "    <tr>\n",
       "      <th>4</th>\n",
       "      <td>Female</td>\n",
       "      <td>&lt; 1 Year</td>\n",
       "      <td>No</td>\n",
       "    </tr>\n",
       "  </tbody>\n",
       "</table>\n",
       "</div>"
      ],
      "text/plain": [
       "   gender vehicle_age vehicle_damage\n",
       "0    Male   > 2 Years            Yes\n",
       "1    Male    1-2 Year             No\n",
       "2    Male   > 2 Years            Yes\n",
       "3    Male    < 1 Year             No\n",
       "4  Female    < 1 Year             No"
      ]
     },
     "execution_count": 48,
     "metadata": {},
     "output_type": "execute_result"
    }
   ],
   "source": [
    "cat_attributes.head()"
   ]
  },
  {
   "cell_type": "code",
   "execution_count": 49,
   "id": "d987af29",
   "metadata": {
    "ExecuteTime": {
     "end_time": "2022-01-30T20:11:28.485759Z",
     "start_time": "2022-01-30T20:11:26.894796Z"
    },
    "hidden": true
   },
   "outputs": [
    {
     "data": {
      "text/plain": [
       "<AxesSubplot:>"
      ]
     },
     "execution_count": 49,
     "metadata": {},
     "output_type": "execute_result"
    },
    {
     "data": {
      "image/png": "[encoded data removed]",
      "text/plain": [
       "<Figure size 936x576 with 2 Axes>"
      ]
     },
     "metadata": {},
     "output_type": "display_data"
    }
   ],
   "source": [
    "list_01 = []\n",
    "list_02 = []\n",
    "list_03 = []\n",
    "\n",
    "for i in range(3):\n",
    "    for j in range(3):\n",
    "        a = cramer_v( cat_attributes.iloc[:,i], cat_attributes.iloc[:,j] )\n",
    "        \n",
    "        if i==0:\n",
    "            list_01.append(a)\n",
    "            \n",
    "        elif i==1:\n",
    "            list_02.append(a)\n",
    "            \n",
    "        else:\n",
    "            list_03.append(a)\n",
    "\n",
    "aux = pd.DataFrame( [list_01,list_02,list_03], index=cat_attributes.columns, columns=cat_attributes.columns )\n",
    "\n",
    "sns.heatmap( data=aux, annot=True , cmap=sns.color_palette(\"ch:start=.2,rot=-.3\", as_cmap=True))"
   ]
  },
  {
   "cell_type": "markdown",
   "id": "e6f72e9e",
   "metadata": {
    "ExecuteTime": {
     "end_time": "2022-01-25T17:12:40.636353Z",
     "start_time": "2022-01-25T17:12:40.623357Z"
    },
    "heading_collapsed": true
   },
   "source": [
    "# 5.0. Data Preparation"
   ]
  },
  {
   "cell_type": "code",
   "execution_count": 19,
   "id": "d8a578e9",
   "metadata": {
    "ExecuteTime": {
     "end_time": "2022-01-31T16:40:26.336176Z",
     "start_time": "2022-01-31T16:40:26.166514Z"
    },
    "hidden": true
   },
   "outputs": [],
   "source": [
    "X = df4.drop( 'response', axis=1 )\n",
    "y = df4['response']\n",
    "\n",
    "X_train, X_test, y_train, y_test = train_test_split( X, y, test_size=0.2 )\n",
    "\n",
    "df5 = pd.concat( [X_train,y_train], axis=1 )"
   ]
  },
  {
   "cell_type": "markdown",
   "id": "28249bc7",
   "metadata": {
    "hidden": true
   },
   "source": [
    "## Standardization"
   ]
  },
  {
   "cell_type": "code",
   "execution_count": 20,
   "id": "cbfdd022",
   "metadata": {
    "ExecuteTime": {
     "end_time": "2022-01-31T16:40:29.724284Z",
     "start_time": "2022-01-31T16:40:29.678463Z"
    },
    "hidden": true
   },
   "outputs": [],
   "source": [
    "ss = StandardScaler()\n",
    "\n",
    "# annual_premium\n",
    "df5['annual_premium'] = ss.fit_transform( df5[['annual_premium']].values )\n",
    "pickle.dump( ss, open( 'api_class/parameters/annual_premium_scaler.pkl','wb') )"
   ]
  },
  {
   "cell_type": "markdown",
   "id": "d79b6ac5",
   "metadata": {
    "hidden": true
   },
   "source": [
    "## Rescaling"
   ]
  },
  {
   "cell_type": "code",
   "execution_count": 21,
   "id": "0abf0678",
   "metadata": {
    "ExecuteTime": {
     "end_time": "2022-01-31T16:40:30.348869Z",
     "start_time": "2022-01-31T16:40:30.287622Z"
    },
    "hidden": true
   },
   "outputs": [],
   "source": [
    "mms_age     = MinMaxScaler()\n",
    "mms_vintage = MinMaxScaler()\n",
    "# age\n",
    "df5['age'] = mms_age.fit_transform( df5[['age']].values )\n",
    "pickle.dump( mms_age, open( 'api_class/parameters/age_scaler.pkl', 'wb') )\n",
    "\n",
    "# vintage\n",
    "df5['vintage'] = mms_vintage.fit_transform( df5[['vintage']].values )\n",
    "pickle.dump( mms_vintage, open( 'api_class/parameters/vintage.pkl', 'wb') )"
   ]
  },
  {
   "cell_type": "markdown",
   "id": "9106299d",
   "metadata": {
    "hidden": true
   },
   "source": [
    "## Encoder"
   ]
  },
  {
   "cell_type": "code",
   "execution_count": 22,
   "id": "eef4f42d",
   "metadata": {
    "ExecuteTime": {
     "end_time": "2022-01-31T16:40:31.719687Z",
     "start_time": "2022-01-31T16:40:31.437603Z"
    },
    "hidden": true
   },
   "outputs": [],
   "source": [
    "# gender\n",
    "target_encoding_gender = df5.groupby( 'gender' )['response'].mean()\n",
    "df5['gender'] = df5['gender'].map( target_encoding_gender )\n",
    "pickle.dump( target_encoding_gender, open( 'api_class/parameters/gender_encoder.pkl', 'wb') )\n",
    "\n",
    "# region_code -  Target encoding\n",
    "target_encoding_region_code = df5.groupby( 'region_code' )['response'].mean()\n",
    "df5['region_code'] = df5['region_code'].map( target_encoding_region_code )\n",
    "pickle.dump( target_encoding_region_code, open( 'api_class/parameters/region_encoder.pkl', 'wb') )\n",
    "                               \n",
    "# vehicle_age - One Hot Encoding \n",
    "df5 = pd.get_dummies( df5, prefix='vehicle_age', columns=['vehicle_age'] )\n",
    "\n",
    "# policy_sales_channel - frequency enconding\n",
    "fe_policy_sales_channel = df5.groupby( 'policy_sales_channel' ).size() / len(df5)\n",
    "df5['policy_sales_channel'] = df5['policy_sales_channel'].map( fe_policy_sales_channel )\n",
    "pickle.dump( fe_policy_sales_channel, open( 'api_class/parameters/policy_sales_channel_encoder.pkl', 'wb') )"
   ]
  },
  {
   "cell_type": "markdown",
   "id": "004d5fe5",
   "metadata": {
    "ExecuteTime": {
     "end_time": "2022-01-25T17:12:23.892700Z",
     "start_time": "2022-01-25T17:12:23.884697Z"
    },
    "heading_collapsed": true
   },
   "source": [
    "# 6.0. Feature Selection"
   ]
  },
  {
   "cell_type": "markdown",
   "id": "7769a15d",
   "metadata": {
    "hidden": true
   },
   "source": [
    "## Features Importancia"
   ]
  },
  {
   "cell_type": "code",
   "execution_count": 54,
   "id": "012e15de",
   "metadata": {
    "ExecuteTime": {
     "end_time": "2022-01-30T20:12:37.560122Z",
     "start_time": "2022-01-30T20:11:30.981717Z"
    },
    "hidden": true
   },
   "outputs": [
    {
     "data": {
      "text/plain": [
       "ExtraTreesClassifier(n_estimators=250, n_jobs=-1, random_state=0)"
      ]
     },
     "execution_count": 54,
     "metadata": {},
     "output_type": "execute_result"
    }
   ],
   "source": [
    "# Model definition\n",
    "forest = ExtraTreesClassifier( n_estimators=250, random_state=0, n_jobs=-1 )\n",
    "\n",
    "# data preparation\n",
    "X_train_n = df5.drop( ['id','response'], axis=1 )\n",
    "y_train_n = df5['response'].values\n",
    "forest.fit( X_train_n, y_train_n )"
   ]
  },
  {
   "cell_type": "code",
   "execution_count": 55,
   "id": "1dc68b2f",
   "metadata": {
    "ExecuteTime": {
     "end_time": "2022-01-30T20:12:41.758630Z",
     "start_time": "2022-01-30T20:12:38.130582Z"
    },
    "hidden": true
   },
   "outputs": [
    {
     "name": "stdout",
     "output_type": "stream",
     "text": [
      "Feature Ranking\n",
      "                         feature  importance\n",
      "0                        vintage    0.274515\n",
      "0                 annual_premium    0.245646\n",
      "0                            age    0.163139\n",
      "0                    region_code    0.104287\n",
      "0                 vehicle_damage    0.068101\n",
      "0           policy_sales_channel    0.060530\n",
      "0             previously_insured    0.056161\n",
      "0       vehicle_age_below_1_year    0.013993\n",
      "0  vehicle_age_between_1_2_years    0.006256\n",
      "0                         gender    0.004762\n",
      "0       vehicle_age_over_2_years    0.002143\n",
      "0                driving_license    0.000467\n"
     ]
    },
    {
     "data": {
      "image/png": "[encoded data removed]",
      "text/plain": [
       "<Figure size 936x576 with 1 Axes>"
      ]
     },
     "metadata": {},
     "output_type": "display_data"
    }
   ],
   "source": [
    "importances = forest.feature_importances_\n",
    "std = np.std( [tree.feature_importances_ for tree in forest.estimators_], axis=1 )\n",
    "indices = np.argsort( importances )[::-1]\n",
    "\n",
    "# print the feature ranking\n",
    "print( \"Feature Ranking\" )\n",
    "df = pd.DataFrame()\n",
    "\n",
    "for i,j in zip( X_train_n, forest.feature_importances_ ):\n",
    "    aux = pd.DataFrame( {'feature': i, 'importance': j}, index=[0] )\n",
    "    df = pd.concat( [df,aux], axis=0 )\n",
    "    \n",
    "print( df.sort_values( 'importance', ascending=False ) )\n",
    "\n",
    "# plot\n",
    "features = pd.DataFrame( {'features': X_train_n.columns, 'score': importances} ).sort_values( 'score', ascending=False )\n",
    "sns.barplot( data=features, x='score', y='features', palette=pallete );"
   ]
  },
  {
   "cell_type": "code",
   "execution_count": 23,
   "id": "8e97e7c6",
   "metadata": {
    "ExecuteTime": {
     "end_time": "2022-01-31T16:40:38.186201Z",
     "start_time": "2022-01-31T16:40:38.058390Z"
    },
    "hidden": true
   },
   "outputs": [],
   "source": [
    "X = df5.drop( 'response', axis=1 )\n",
    "y = df5['response'] \n",
    "\n",
    "X_train, X_validation, y_train, y_validation = train_test_split( X, y, test_size=0.2 )"
   ]
  },
  {
   "cell_type": "code",
   "execution_count": 24,
   "id": "d06da958",
   "metadata": {
    "ExecuteTime": {
     "end_time": "2022-01-31T16:40:38.637602Z",
     "start_time": "2022-01-31T16:40:38.612033Z"
    },
    "hidden": true
   },
   "outputs": [],
   "source": [
    "cols_selected = ['vintage', 'annual_premium','age', 'region_code',  'vehicle_damage','previously_insured',\n",
    "                 'policy_sales_channel']  \n",
    "\n",
    "# data with selected columns\n",
    "X_train_selected = X_train[cols_selected].copy()\n",
    "y_train_selected = y_train.copy()\n",
    "\n",
    "X_val = X_validation[cols_selected].copy()\n",
    "y_val = y_validation.copy()"
   ]
  },
  {
   "cell_type": "markdown",
   "id": "4f199da1",
   "metadata": {},
   "source": [
    "# 7.0. Machine Learning"
   ]
  },
  {
   "cell_type": "markdown",
   "id": "75308711",
   "metadata": {},
   "source": [
    "## 7.1. KNN"
   ]
  },
  {
   "cell_type": "code",
   "execution_count": 58,
   "id": "68ff14a7",
   "metadata": {
    "ExecuteTime": {
     "end_time": "2022-01-30T20:12:43.378512Z",
     "start_time": "2022-01-30T20:12:43.355646Z"
    },
    "cell_style": "center"
   },
   "outputs": [],
   "source": [
    "# model definition\n",
    "knn = KNeighborsClassifier( n_neighbors=5 )"
   ]
  },
  {
   "cell_type": "code",
   "execution_count": 25,
   "id": "9cfea628",
   "metadata": {
    "ExecuteTime": {
     "end_time": "2022-01-31T16:41:08.000811Z",
     "start_time": "2022-01-31T16:40:51.766696Z"
    },
    "cell_style": "center"
   },
   "outputs": [
    {
     "data": {
      "image/png": "[encoded data removed]",
      "text/plain": [
       "<Figure size 1440x576 with 2 Axes>"
      ]
     },
     "metadata": {},
     "output_type": "display_data"
    }
   ],
   "source": [
    "# model definition\n",
    "knn = KNeighborsClassifier( n_neighbors=5 )\n",
    "\n",
    "# model trainijng\n",
    "knn.fit( X_train_selected, y_train_selected )\n",
    "\n",
    "# model prediction - poder de genaralização\n",
    "yhat_knn = knn.predict_proba( X_val )\n",
    "\n",
    "paletteaux = [pallete[0], pallete[8]]\n",
    "sns.set_palette( paletteaux )\n",
    "\n",
    "fig, axes = plt.subplots(1, 2, figsize = (20, 8))\n",
    "# Acumalitve gain\n",
    "plot_cumulative_gain( y_val, yhat_knn, ax=axes[0])\n",
    "plot_lift_curve( y_val, yhat_knn, ax=axes[1]);"
   ]
  },
  {
   "cell_type": "markdown",
   "id": "f99179a8",
   "metadata": {},
   "source": [
    "## 7.2. Logistic Regression"
   ]
  },
  {
   "cell_type": "code",
   "execution_count": 35,
   "id": "fe10c5d0",
   "metadata": {
    "ExecuteTime": {
     "end_time": "2022-01-31T16:45:37.542440Z",
     "start_time": "2022-01-31T16:45:34.501187Z"
    }
   },
   "outputs": [
    {
     "data": {
      "image/png": "[encoded data removed]",
      "text/plain": [
       "<Figure size 1440x576 with 2 Axes>"
      ]
     },
     "metadata": {},
     "output_type": "display_data"
    }
   ],
   "source": [
    "# model definition\n",
    "lg = LogisticRegression( random_state=42 )\n",
    "\n",
    "# model training\n",
    "lg.fit( X_train_selected, y_train_selected )\n",
    "\n",
    "# predict\n",
    "yhat_lg = lg.predict_proba( X_val )\n",
    "\n",
    "fig, axes = plt.subplots(1, 2, figsize = (20, 8))\n",
    "# Acumalitve gain\n",
    "plot_cumulative_gain( y_val, yhat_lg, ax=axes[0])\n",
    "plot_lift_curve( y_val, yhat_lg, ax=axes[1]);"
   ]
  },
  {
   "cell_type": "markdown",
   "id": "2c1837b1",
   "metadata": {},
   "source": [
    "## 7.3. Random Forest"
   ]
  },
  {
   "cell_type": "code",
   "execution_count": 61,
   "id": "da5c9f4e",
   "metadata": {
    "ExecuteTime": {
     "end_time": "2022-01-30T20:13:45.190957Z",
     "start_time": "2022-01-30T20:12:57.813421Z"
    }
   },
   "outputs": [
    {
     "data": {
      "image/png": "[encoded data removed]",
      "text/plain": [
       "<Figure size 1440x576 with 2 Axes>"
      ]
     },
     "metadata": {},
     "output_type": "display_data"
    }
   ],
   "source": [
    "# model definition\n",
    "rf = RandomForestClassifier( n_estimators=250, random_state=42, n_jobs=-1 )\n",
    "\n",
    "# model training\n",
    "rf.fit( X_train_selected, y_train_selected )\n",
    "\n",
    "# predict\n",
    "yhat_rf = rf.predict_proba( X_val )\n",
    "\n",
    "fig, axes = plt.subplots(1, 2, figsize = (20, 8))\n",
    "# Acumalitve gain\n",
    "plot_cumulative_gain( y_val, yhat_rf, ax=axes[0])\n",
    "plot_lift_curve( y_val, yhat_rf, ax=axes[1]);"
   ]
  },
  {
   "cell_type": "markdown",
   "id": "9663c0f6",
   "metadata": {},
   "source": [
    "## 7.5. Comparing the diferents performaces"
   ]
  },
  {
   "cell_type": "code",
   "execution_count": 69,
   "id": "6702ed47",
   "metadata": {
    "ExecuteTime": {
     "end_time": "2022-01-30T20:34:57.649383Z",
     "start_time": "2022-01-30T20:31:36.314431Z"
    }
   },
   "outputs": [],
   "source": [
    "precision_at_k_knn = cross_validation( X_train, y_train, knn, 10, cols_selected, 20000 )\n",
    "precision_at_k_lg  = cross_validation( X_train, y_train, lg, 10, cols_selected, 20000 )\n",
    "precision_at_k_rf  = cross_validation( X_train, y_train, rf, 10, cols_selected, 20000 )"
   ]
  },
  {
   "cell_type": "code",
   "execution_count": 70,
   "id": "a761b71a",
   "metadata": {
    "ExecuteTime": {
     "end_time": "2022-01-30T20:34:58.498547Z",
     "start_time": "2022-01-30T20:34:58.466563Z"
    }
   },
   "outputs": [
    {
     "data": {
      "text/html": [
       "<div>\n",
       "<style scoped>\n",
       "    .dataframe tbody tr th:only-of-type {\n",
       "        vertical-align: middle;\n",
       "    }\n",
       "\n",
       "    .dataframe tbody tr th {\n",
       "        vertical-align: top;\n",
       "    }\n",
       "\n",
       "    .dataframe thead th {\n",
       "        text-align: right;\n",
       "    }\n",
       "</style>\n",
       "<table border=\"1\" class=\"dataframe\">\n",
       "  <thead>\n",
       "    <tr style=\"text-align: right;\">\n",
       "      <th></th>\n",
       "      <th>0</th>\n",
       "    </tr>\n",
       "  </thead>\n",
       "  <tbody>\n",
       "    <tr>\n",
       "      <th>KNN</th>\n",
       "      <td>0.138685</td>\n",
       "    </tr>\n",
       "    <tr>\n",
       "      <th>Logistic Regression</th>\n",
       "      <td>0.140545</td>\n",
       "    </tr>\n",
       "    <tr>\n",
       "      <th>Random Forest</th>\n",
       "      <td>0.138700</td>\n",
       "    </tr>\n",
       "  </tbody>\n",
       "</table>\n",
       "</div>"
      ],
      "text/plain": [
       "                            0\n",
       "KNN                  0.138685\n",
       "Logistic Regression  0.140545\n",
       "Random Forest        0.138700"
      ]
     },
     "execution_count": 70,
     "metadata": {},
     "output_type": "execute_result"
    }
   ],
   "source": [
    "pd.DataFrame( [precision_at_k_knn,precision_at_k_lg,precision_at_k_rf], index=['KNN','Logistic Regression','Random Forest'] )"
   ]
  },
  {
   "cell_type": "markdown",
   "id": "dfab1d6a",
   "metadata": {},
   "source": [
    "# 8.0. Model Performace"
   ]
  },
  {
   "cell_type": "markdown",
   "id": "1da5cc86",
   "metadata": {},
   "source": [
    "Chosen model: Logistic Regression"
   ]
  },
  {
   "cell_type": "code",
   "execution_count": 25,
   "id": "ef63a070",
   "metadata": {
    "ExecuteTime": {
     "end_time": "2022-01-31T12:38:57.102880Z",
     "start_time": "2022-01-31T12:38:55.351335Z"
    }
   },
   "outputs": [],
   "source": [
    "# model definition\n",
    "lg = LogisticRegression( random_state=42 )\n",
    "\n",
    "# model training\n",
    "lg.fit( X_train_selected, y_train_selected )\n",
    "pickle.dump( lg, open( 'models/model.pkl', 'wb') )\n",
    "\n",
    "# predict\n",
    "yhat_lg = lg.predict_proba( X_val )"
   ]
  },
  {
   "cell_type": "markdown",
   "id": "ea964086",
   "metadata": {},
   "source": [
    "As seen the model perform well, with the information of the acumulative gain we're able to see that if I almost 20% from my dataset I'm able to reach almost 50% of the people who are interested in acquirer the new insurance.\n",
    "\n",
    "Together with the information of the lift curve I'm able to see that the model perform 2 times better than the baseline model (which is a model who choose a costumer randomly) until almost 50% of my dataset"
   ]
  },
  {
   "cell_type": "code",
   "execution_count": 58,
   "id": "1887d58d",
   "metadata": {
    "ExecuteTime": {
     "end_time": "2022-01-31T17:05:52.548565Z",
     "start_time": "2022-01-31T17:05:42.439805Z"
    }
   },
   "outputs": [
    {
     "data": {
      "image/png": "[encoded data removed]",
      "text/plain": [
       "<Figure size 1440x576 with 2 Axes>"
      ]
     },
     "metadata": {},
     "output_type": "display_data"
    },
    {
     "data": {
      "text/plain": [
       "<Figure size 864x576 with 0 Axes>"
      ]
     },
     "metadata": {},
     "output_type": "display_data"
    },
    {
     "data": {
      "text/plain": [
       "<Figure size 864x576 with 0 Axes>"
      ]
     },
     "metadata": {},
     "output_type": "display_data"
    }
   ],
   "source": [
    "fig, axes = plt.subplots( ncols=2, figsize=(20,8) )\n",
    "\n",
    "results = pd.DataFrame()\n",
    "results['prediction'] = yhat_lg[:,1].tolist()\n",
    "results['real'] = y_val.tolist()\n",
    "\n",
    "# para classe 0 altera yhat tbm\n",
    "# results['real'] = results['real'].apply( lambda x: 0 if x==1 else 1 )\n",
    "\n",
    "# ordering by prediction\n",
    "results = results.sort_values( 'prediction', ascending=False )\n",
    "\n",
    "# Percentage of intereset ( Propensity Score )\n",
    "results['real_cum'] = results['real'].cumsum() \n",
    "results['real_cum_perc'] = 100*results['real_cum']/results['real'].sum()\n",
    "\n",
    "# Percentage of Base ( Clients )\n",
    "results['base'] = range( 1, len( results ) + 1  )\n",
    "results['base_cum_perc'] = 100*results['base']/len( results )\n",
    "\n",
    "# # Basline model\n",
    "results['baseline'] = results['base_cum_perc']\n",
    "\n",
    "plt.figure( figsize=(12,8))\n",
    "sns.lineplot( x='base_cum_perc', y='real_cum_perc', data=results, label='model', ax=axes[0])\n",
    "sns.lineplot( x='base_cum_perc', y='baseline', data=results, label='baseline', ax=axes[0] )\n",
    "axes[0].set_title( 'Gain Acumulative' );\n",
    "\n",
    "################\n",
    "## lift curve ##\n",
    "################\n",
    "results = pd.DataFrame()\n",
    "results['prediction'] = yhat_lg[:,1].tolist()\n",
    "results['real'] = y_val.tolist()\n",
    "\n",
    "# ordering by prediction\n",
    "results = results.sort_values( 'prediction', ascending=False )\n",
    "\n",
    "# Percentage of intereset ( Propensity Score )\n",
    "results['real_cum'] = results['real'].cumsum() \n",
    "results['real_cum_perc'] = 100*results['real_cum']/results['real'].sum()\n",
    "\n",
    "# Percentage of Base ( Clients )\n",
    "results['base'] = range( 1, len( results ) + 1  )\n",
    "results['base_cum_perc'] = 100*results['base']/len( results )\n",
    "\n",
    "# Basline model\n",
    "results['baseline'] = results['base_cum_perc']\n",
    "\n",
    "# Lift Calculation\n",
    "results['lift'] = results['real_cum_perc'] / results['base_cum_perc']\n",
    "\n",
    "plt.figure( figsize=(12,8))\n",
    "sns.lineplot( x='base_cum_perc', y='lift', data=results, ax=axes[1] )\n",
    "axes[1].set_title( 'Lift Curve');"
   ]
  },
  {
   "cell_type": "markdown",
   "id": "c5d70737",
   "metadata": {},
   "source": [
    "Here It's shown the precision and recall at K as a metric to analyse the performace.\n",
    "\n",
    "- **precision at K** means the amount of data \"at K\" elements that are classified as 1(the wanted class to be analysed). In other words, inside of the data that I have until the K element how much I got right.\n",
    "\n",
    "\n",
    "- **recall at K** means how much data until K elements represent of all wanted data from my whole dataset."
   ]
  },
  {
   "cell_type": "code",
   "execution_count": 122,
   "id": "ec9eb18c",
   "metadata": {
    "ExecuteTime": {
     "end_time": "2022-01-31T19:16:59.695052Z",
     "start_time": "2022-01-31T19:16:59.591257Z"
    }
   },
   "outputs": [
    {
     "name": "stdout",
     "output_type": "stream",
     "text": [
      " Precision at K: 0.27583620818959054\n",
      " Recall at K: 0.0010806429825746318\n"
     ]
    }
   ],
   "source": [
    "df8 = X_validation.copy()\n",
    "df8['response'] = y_validation.copy()\n",
    "\n",
    "# propensity score\n",
    "df8['score'] = yhat_lg[:,1].tolist()\n",
    "\n",
    "df8 = df8.sort_values( 'score', ascending=False )\n",
    "\n",
    "# print precision at k\n",
    "precision_at_50 = precision_at_k( df8, k=20000 )[0]\n",
    "print(f' Precision at K: {precision_at_50}' )\n",
    "\n",
    "# print recall at k\n",
    "recall_at_50 = recall_at_k( df8, k=50 )[0]\n",
    "print(f' Recall at K: {recall_at_50}' )"
   ]
  },
  {
   "cell_type": "markdown",
   "id": "d15c0045",
   "metadata": {},
   "source": [
    "Here It's shown how the recall and precision at K run through the whole dataset. It's expected this behavior, the precision is going to decrease as going through all the data because of that:\n",
    "how much more data I cover, more unwanted points that are not classified as 1 I'll get.\n",
    "\n",
    "recall at K otherwise is increasing as going through all data because how much more data I cover more data classified as 1 I'll get."
   ]
  },
  {
   "cell_type": "code",
   "execution_count": 61,
   "id": "7e733de3",
   "metadata": {
    "ExecuteTime": {
     "end_time": "2022-01-31T17:11:33.835018Z",
     "start_time": "2022-01-31T17:11:32.959491Z"
    }
   },
   "outputs": [
    {
     "data": {
      "text/plain": [
       "<matplotlib.legend.Legend at 0x26847533a60>"
      ]
     },
     "execution_count": 61,
     "metadata": {},
     "output_type": "execute_result"
    },
    {
     "data": {
      "image/png": "[encoded data removed]",
      "text/plain": [
       "<Figure size 936x576 with 1 Axes>"
      ]
     },
     "metadata": {},
     "output_type": "display_data"
    }
   ],
   "source": [
    "recall_at_k( df8, k=20000 )[1]['recall_at_k'].plot()\n",
    "precision_at_k( df8, k=20000 )[1]['precision_at_k'].plot()\n",
    "\n",
    "plt.legend()"
   ]
  },
  {
   "cell_type": "markdown",
   "id": "e71fefbd",
   "metadata": {},
   "source": [
    "# 8.1. Test API"
   ]
  },
  {
   "cell_type": "code",
   "execution_count": 123,
   "id": "decdd9f9",
   "metadata": {
    "ExecuteTime": {
     "end_time": "2022-01-31T19:36:46.809495Z",
     "start_time": "2022-01-31T19:36:46.777272Z"
    }
   },
   "outputs": [],
   "source": [
    "df_test = X_test\n",
    "df_test['response'] = y_test\n",
    "\n",
    "df_test = df_test.sample(10, random_state=10)"
   ]
  },
  {
   "cell_type": "code",
   "execution_count": 124,
   "id": "9e595f04",
   "metadata": {
    "ExecuteTime": {
     "end_time": "2022-01-31T19:36:52.096177Z",
     "start_time": "2022-01-31T19:36:52.085405Z"
    }
   },
   "outputs": [],
   "source": [
    "data = json.dumps( df_test.to_dict( orient='records' ) )"
   ]
  },
  {
   "cell_type": "code",
   "execution_count": 126,
   "id": "aa946791",
   "metadata": {
    "ExecuteTime": {
     "end_time": "2022-01-31T19:37:21.257577Z",
     "start_time": "2022-01-31T19:37:21.159900Z"
    }
   },
   "outputs": [
    {
     "name": "stdout",
     "output_type": "stream",
     "text": [
      "Status Code 200\n"
     ]
    }
   ],
   "source": [
    "# API Call\n",
    "url = 'http://192.168.0.108:5000/predict'\n",
    "header = {'Content-type': 'application/json' }\n",
    "\n",
    "r = requests.post( url, data=data, headers=header )\n",
    "print( 'Status Code {}'.format( r.status_code ) )"
   ]
  },
  {
   "cell_type": "code",
   "execution_count": 127,
   "id": "f7e61754",
   "metadata": {
    "ExecuteTime": {
     "end_time": "2022-01-31T19:37:22.961082Z",
     "start_time": "2022-01-31T19:37:22.935769Z"
    }
   },
   "outputs": [],
   "source": [
    "df_response = pd.DataFrame( r.json(), columns=r.json()[0].keys() )"
   ]
  },
  {
   "cell_type": "code",
   "execution_count": 128,
   "id": "9ac678d1",
   "metadata": {
    "ExecuteTime": {
     "end_time": "2022-01-31T19:37:24.865334Z",
     "start_time": "2022-01-31T19:37:24.825384Z"
    }
   },
   "outputs": [
    {
     "data": {
      "text/html": [
       "<div>\n",
       "<style scoped>\n",
       "    .dataframe tbody tr th:only-of-type {\n",
       "        vertical-align: middle;\n",
       "    }\n",
       "\n",
       "    .dataframe tbody tr th {\n",
       "        vertical-align: top;\n",
       "    }\n",
       "\n",
       "    .dataframe thead th {\n",
       "        text-align: right;\n",
       "    }\n",
       "</style>\n",
       "<table border=\"1\" class=\"dataframe\">\n",
       "  <thead>\n",
       "    <tr style=\"text-align: right;\">\n",
       "      <th></th>\n",
       "      <th>id</th>\n",
       "      <th>gender</th>\n",
       "      <th>age</th>\n",
       "      <th>driving_license</th>\n",
       "      <th>region_code</th>\n",
       "      <th>previously_insured</th>\n",
       "      <th>vehicle_age</th>\n",
       "      <th>vehicle_damage</th>\n",
       "      <th>annual_premium</th>\n",
       "      <th>policy_sales_channel</th>\n",
       "      <th>vintage</th>\n",
       "      <th>response</th>\n",
       "      <th>score</th>\n",
       "    </tr>\n",
       "  </thead>\n",
       "  <tbody>\n",
       "    <tr>\n",
       "      <th>0</th>\n",
       "      <td>168358</td>\n",
       "      <td>0.138315</td>\n",
       "      <td>0.030769</td>\n",
       "      <td>1</td>\n",
       "      <td>0.187858</td>\n",
       "      <td>0</td>\n",
       "      <td>below_1_year</td>\n",
       "      <td>0</td>\n",
       "      <td>0.486661</td>\n",
       "      <td>124.0</td>\n",
       "      <td>0.820069</td>\n",
       "      <td>1</td>\n",
       "      <td>0.049419</td>\n",
       "    </tr>\n",
       "    <tr>\n",
       "      <th>1</th>\n",
       "      <td>11125</td>\n",
       "      <td>0.138315</td>\n",
       "      <td>0.015385</td>\n",
       "      <td>1</td>\n",
       "      <td>0.085767</td>\n",
       "      <td>0</td>\n",
       "      <td>below_1_year</td>\n",
       "      <td>0</td>\n",
       "      <td>0.760083</td>\n",
       "      <td>160.0</td>\n",
       "      <td>0.979239</td>\n",
       "      <td>0</td>\n",
       "      <td>0.035445</td>\n",
       "    </tr>\n",
       "    <tr>\n",
       "      <th>2</th>\n",
       "      <td>233379</td>\n",
       "      <td>0.103951</td>\n",
       "      <td>0.476923</td>\n",
       "      <td>1</td>\n",
       "      <td>0.122114</td>\n",
       "      <td>0</td>\n",
       "      <td>below_1_year</td>\n",
       "      <td>0</td>\n",
       "      <td>0.837797</td>\n",
       "      <td>124.0</td>\n",
       "      <td>0.826990</td>\n",
       "      <td>0</td>\n",
       "      <td>0.034725</td>\n",
       "    </tr>\n",
       "    <tr>\n",
       "      <th>3</th>\n",
       "      <td>103284</td>\n",
       "      <td>0.138315</td>\n",
       "      <td>0.000000</td>\n",
       "      <td>1</td>\n",
       "      <td>0.074150</td>\n",
       "      <td>0</td>\n",
       "      <td>below_1_year</td>\n",
       "      <td>0</td>\n",
       "      <td>-0.899834</td>\n",
       "      <td>160.0</td>\n",
       "      <td>0.359862</td>\n",
       "      <td>0</td>\n",
       "      <td>0.033092</td>\n",
       "    </tr>\n",
       "    <tr>\n",
       "      <th>4</th>\n",
       "      <td>143526</td>\n",
       "      <td>0.138315</td>\n",
       "      <td>0.307692</td>\n",
       "      <td>1</td>\n",
       "      <td>0.080808</td>\n",
       "      <td>0</td>\n",
       "      <td>below_1_year</td>\n",
       "      <td>0</td>\n",
       "      <td>0.260425</td>\n",
       "      <td>124.0</td>\n",
       "      <td>0.224913</td>\n",
       "      <td>0</td>\n",
       "      <td>0.029708</td>\n",
       "    </tr>\n",
       "    <tr>\n",
       "      <th>5</th>\n",
       "      <td>203884</td>\n",
       "      <td>0.103951</td>\n",
       "      <td>0.769231</td>\n",
       "      <td>1</td>\n",
       "      <td>0.095786</td>\n",
       "      <td>0</td>\n",
       "      <td>below_1_year</td>\n",
       "      <td>0</td>\n",
       "      <td>1.110407</td>\n",
       "      <td>26.0</td>\n",
       "      <td>0.044983</td>\n",
       "      <td>0</td>\n",
       "      <td>0.029469</td>\n",
       "    </tr>\n",
       "    <tr>\n",
       "      <th>6</th>\n",
       "      <td>109777</td>\n",
       "      <td>0.138315</td>\n",
       "      <td>0.384615</td>\n",
       "      <td>1</td>\n",
       "      <td>0.187858</td>\n",
       "      <td>1</td>\n",
       "      <td>below_1_year</td>\n",
       "      <td>0</td>\n",
       "      <td>2.275309</td>\n",
       "      <td>122.0</td>\n",
       "      <td>0.335640</td>\n",
       "      <td>0</td>\n",
       "      <td>0.001133</td>\n",
       "    </tr>\n",
       "    <tr>\n",
       "      <th>7</th>\n",
       "      <td>378203</td>\n",
       "      <td>0.103951</td>\n",
       "      <td>0.676923</td>\n",
       "      <td>1</td>\n",
       "      <td>0.187858</td>\n",
       "      <td>1</td>\n",
       "      <td>below_1_year</td>\n",
       "      <td>0</td>\n",
       "      <td>0.191939</td>\n",
       "      <td>26.0</td>\n",
       "      <td>0.207612</td>\n",
       "      <td>0</td>\n",
       "      <td>0.000902</td>\n",
       "    </tr>\n",
       "    <tr>\n",
       "      <th>8</th>\n",
       "      <td>172125</td>\n",
       "      <td>0.103951</td>\n",
       "      <td>0.061538</td>\n",
       "      <td>1</td>\n",
       "      <td>0.122114</td>\n",
       "      <td>1</td>\n",
       "      <td>below_1_year</td>\n",
       "      <td>0</td>\n",
       "      <td>1.425675</td>\n",
       "      <td>152.0</td>\n",
       "      <td>0.754325</td>\n",
       "      <td>0</td>\n",
       "      <td>0.000675</td>\n",
       "    </tr>\n",
       "    <tr>\n",
       "      <th>9</th>\n",
       "      <td>4088</td>\n",
       "      <td>0.103951</td>\n",
       "      <td>0.030769</td>\n",
       "      <td>1</td>\n",
       "      <td>0.045094</td>\n",
       "      <td>1</td>\n",
       "      <td>below_1_year</td>\n",
       "      <td>0</td>\n",
       "      <td>-0.088274</td>\n",
       "      <td>152.0</td>\n",
       "      <td>0.975779</td>\n",
       "      <td>0</td>\n",
       "      <td>0.000467</td>\n",
       "    </tr>\n",
       "  </tbody>\n",
       "</table>\n",
       "</div>"
      ],
      "text/plain": [
       "       id    gender       age  driving_license  region_code  \\\n",
       "0  168358  0.138315  0.030769                1     0.187858   \n",
       "1   11125  0.138315  0.015385                1     0.085767   \n",
       "2  233379  0.103951  0.476923                1     0.122114   \n",
       "3  103284  0.138315  0.000000                1     0.074150   \n",
       "4  143526  0.138315  0.307692                1     0.080808   \n",
       "5  203884  0.103951  0.769231                1     0.095786   \n",
       "6  109777  0.138315  0.384615                1     0.187858   \n",
       "7  378203  0.103951  0.676923                1     0.187858   \n",
       "8  172125  0.103951  0.061538                1     0.122114   \n",
       "9    4088  0.103951  0.030769                1     0.045094   \n",
       "\n",
       "   previously_insured   vehicle_age  vehicle_damage  annual_premium  \\\n",
       "0                   0  below_1_year               0        0.486661   \n",
       "1                   0  below_1_year               0        0.760083   \n",
       "2                   0  below_1_year               0        0.837797   \n",
       "3                   0  below_1_year               0       -0.899834   \n",
       "4                   0  below_1_year               0        0.260425   \n",
       "5                   0  below_1_year               0        1.110407   \n",
       "6                   1  below_1_year               0        2.275309   \n",
       "7                   1  below_1_year               0        0.191939   \n",
       "8                   1  below_1_year               0        1.425675   \n",
       "9                   1  below_1_year               0       -0.088274   \n",
       "\n",
       "   policy_sales_channel   vintage  response     score  \n",
       "0                 124.0  0.820069         1  0.049419  \n",
       "1                 160.0  0.979239         0  0.035445  \n",
       "2                 124.0  0.826990         0  0.034725  \n",
       "3                 160.0  0.359862         0  0.033092  \n",
       "4                 124.0  0.224913         0  0.029708  \n",
       "5                  26.0  0.044983         0  0.029469  \n",
       "6                 122.0  0.335640         0  0.001133  \n",
       "7                  26.0  0.207612         0  0.000902  \n",
       "8                 152.0  0.754325         0  0.000675  \n",
       "9                 152.0  0.975779         0  0.000467  "
      ]
     },
     "execution_count": 128,
     "metadata": {},
     "output_type": "execute_result"
    }
   ],
   "source": [
    "df_response"
   ]
  },
  {
   "cell_type": "markdown",
   "id": "2433ceb4",
   "metadata": {},
   "source": [
    "# 9.0. Simulate the production environment"
   ]
  },
  {
   "cell_type": "markdown",
   "id": "4a8e5e25",
   "metadata": {},
   "source": [
    "Getting  the parameter to access the database"
   ]
  },
  {
   "cell_type": "code",
   "execution_count": 192,
   "id": "7ba998a1",
   "metadata": {
    "ExecuteTime": {
     "end_time": "2022-01-31T20:02:10.402514Z",
     "start_time": "2022-01-31T20:02:10.384931Z"
    }
   },
   "outputs": [],
   "source": [
    "# get access credentials\n",
    "params = config()\n",
    "\n",
    "host     = params['host']\n",
    "database = params['database']\n",
    "user     = params['user']\n",
    "pwd      = params['password']\n",
    "port     = params['port']\n",
    "\n",
    "url = 'postgresql://'+ user + ':' + pwd + '@' + host + ':' + port + '/' + database"
   ]
  },
  {
   "cell_type": "code",
   "execution_count": 193,
   "id": "c5cdf2ed",
   "metadata": {
    "ExecuteTime": {
     "end_time": "2022-01-31T20:02:39.532969Z",
     "start_time": "2022-01-31T20:02:11.145314Z"
    }
   },
   "outputs": [],
   "source": [
    "db = create_engine( url )\n",
    "conn = db.connect()\n",
    "\n",
    "query = \"\"\"\n",
    "    SELECT * \n",
    "    FROM pa004.users u LEFT JOIN pa004.vehicle   v on ( u.id = v.id )\n",
    "                       LEFT JOIN pa004.insurance i on ( u.id = i.id )\n",
    "\"\"\"\n",
    "\n",
    "df = pd.read_sql( query, conn )\n",
    "\n",
    "# close the conection\n",
    "conn.close()"
   ]
  },
  {
   "cell_type": "code",
   "execution_count": 194,
   "id": "9d28f9e4",
   "metadata": {
    "ExecuteTime": {
     "end_time": "2022-01-31T20:02:40.424898Z",
     "start_time": "2022-01-31T20:02:40.335368Z"
    }
   },
   "outputs": [],
   "source": [
    "df = df.loc[:,~df.columns.duplicated()]"
   ]
  },
  {
   "cell_type": "code",
   "execution_count": 195,
   "id": "ed10b9a3",
   "metadata": {
    "ExecuteTime": {
     "end_time": "2022-01-31T20:02:52.399706Z",
     "start_time": "2022-01-31T20:02:41.273729Z"
    }
   },
   "outputs": [],
   "source": [
    "data = json.dumps( df.to_dict( orient='records' ) )"
   ]
  },
  {
   "cell_type": "code",
   "execution_count": 196,
   "id": "315611f4",
   "metadata": {
    "ExecuteTime": {
     "end_time": "2022-01-31T20:03:00.087137Z",
     "start_time": "2022-01-31T20:02:53.084730Z"
    }
   },
   "outputs": [
    {
     "name": "stdout",
     "output_type": "stream",
     "text": [
      "Status Code 500\n"
     ]
    }
   ],
   "source": [
    "# API Call\n",
    "url = 'http://192.168.0.108:5000/predict'\n",
    "header = {'Content-type': 'application/json' }\n",
    "\n",
    "r = requests.post( url, data=data, headers=header )\n",
    "print( 'Status Code {}'.format( r.status_code ) )"
   ]
  },
  {
   "cell_type": "code",
   "execution_count": 197,
   "id": "ddc7ad32",
   "metadata": {
    "ExecuteTime": {
     "end_time": "2022-01-31T20:03:01.699169Z",
     "start_time": "2022-01-31T20:03:00.879606Z"
    }
   },
   "outputs": [
    {
     "ename": "JSONDecodeError",
     "evalue": "[Errno Expecting value] <!DOCTYPE HTML PUBLIC \"-//W3C//DTD HTML 4.01 Transitional//EN\"\n  \"http://www.w3.org/TR/html4/loose.dtd\">\n<html>\n  <head>\n    <title>ValueError: Input contains NaN, infinity or a value too large for dtype(&#x27;float64&#x27;). // Werkzeug Debugger</title>\n    <link rel=\"stylesheet\" href=\"?__debugger__=yes&amp;cmd=resource&amp;f=style.css\"\n        type=\"text/css\">\n    <!-- We need to make sure this has a favicon so that the debugger does\n         not accidentally trigger a request to /favicon.ico which might\n         change the application's state. -->\n    <link rel=\"shortcut icon\"\n        href=\"?__debugger__=yes&amp;cmd=resource&amp;f=console.png\">\n    <script src=\"?__debugger__=yes&amp;cmd=resource&amp;f=debugger.js\"></script>\n    <script type=\"text/javascript\">\n      var TRACEBACK = 2199114161264,\n          CONSOLE_MODE = false,\n          EVALEX = true,\n          EVALEX_TRUSTED = false,\n          SECRET = \"MmniOsTR6kO3ALuJshVu\";\n    </script>\n  </head>\n  <body style=\"background-color: #fff\">\n    <div class=\"debugger\">\n<h1>ValueError</h1>\n<div class=\"detail\">\n  <p class=\"errormsg\">ValueError: Input contains NaN, infinity or a value too large for dtype(&#x27;float64&#x27;).</p>\n</div>\n<h2 class=\"traceback\">Traceback <em>(most recent call last)</em></h2>\n<div class=\"traceback\">\n  <h3></h3>\n  <ul><li><div class=\"frame\" id=\"frame-2200119870752\">\n  <h4>File <cite class=\"filename\">\"C:\\Users\\Marcos\\Projects\\HI_Cross_sell\\env\\Lib\\site-packages\\flask\\app.py\"</cite>,\n      line <em class=\"line\">2091</em>,\n      in <code class=\"function\">__call__</code></h4>\n  <div class=\"source library\"><pre class=\"line before\"><span class=\"ws\">    </span>def __call__(self, environ: dict, start_response: t.Callable) -&gt; t.Any:</pre>\n<pre class=\"line before\"><span class=\"ws\">        </span>&quot;&quot;&quot;The WSGI server calls the Flask application object as the</pre>\n<pre class=\"line before\"><span class=\"ws\">        </span>WSGI application. This calls :meth:`wsgi_app`, which can be</pre>\n<pre class=\"line before\"><span class=\"ws\">        </span>wrapped to apply middleware.</pre>\n<pre class=\"line before\"><span class=\"ws\">        </span>&quot;&quot;&quot;</pre>\n<pre class=\"line current\"><span class=\"ws\">        </span>return self.wsgi_app(environ, start_response)</pre></div>\n</div>\n\n<li><div class=\"frame\" id=\"frame-2200119872048\">\n  <h4>File <cite class=\"filename\">\"C:\\Users\\Marcos\\Projects\\HI_Cross_sell\\env\\Lib\\site-packages\\flask\\app.py\"</cite>,\n      line <em class=\"line\">2076</em>,\n      in <code class=\"function\">wsgi_app</code></h4>\n  <div class=\"source library\"><pre class=\"line before\"><span class=\"ws\">            </span>try:</pre>\n<pre class=\"line before\"><span class=\"ws\">                </span>ctx.push()</pre>\n<pre class=\"line before\"><span class=\"ws\">                </span>response = self.full_dispatch_request()</pre>\n<pre class=\"line before\"><span class=\"ws\">            </span>except Exception as e:</pre>\n<pre class=\"line before\"><span class=\"ws\">                </span>error = e</pre>\n<pre class=\"line current\"><span class=\"ws\">                </span>response = self.handle_exception(e)</pre>\n<pre class=\"line after\"><span class=\"ws\">            </span>except:  # noqa: B001</pre>\n<pre class=\"line after\"><span class=\"ws\">                </span>error = sys.exc_info()[1]</pre>\n<pre class=\"line after\"><span class=\"ws\">                </span>raise</pre>\n<pre class=\"line after\"><span class=\"ws\">            </span>return response(environ, start_response)</pre>\n<pre class=\"line after\"><span class=\"ws\">        </span>finally:</pre></div>\n</div>\n\n<li><div class=\"frame\" id=\"frame-2200119871760\">\n  <h4>File <cite class=\"filename\">\"C:\\Users\\Marcos\\Projects\\HI_Cross_sell\\env\\Lib\\site-packages\\flask\\app.py\"</cite>,\n      line <em class=\"line\">2073</em>,\n      in <code class=\"function\">wsgi_app</code></h4>\n  <div class=\"source library\"><pre class=\"line before\"><span class=\"ws\">        </span>ctx = self.request_context(environ)</pre>\n<pre class=\"line before\"><span class=\"ws\">        </span>error: t.Optional[BaseException] = None</pre>\n<pre class=\"line before\"><span class=\"ws\">        </span>try:</pre>\n<pre class=\"line before\"><span class=\"ws\">            </span>try:</pre>\n<pre class=\"line before\"><span class=\"ws\">                </span>ctx.push()</pre>\n<pre class=\"line current\"><span class=\"ws\">                </span>response = self.full_dispatch_request()</pre>\n<pre class=\"line after\"><span class=\"ws\">            </span>except Exception as e:</pre>\n<pre class=\"line after\"><span class=\"ws\">                </span>error = e</pre>\n<pre class=\"line after\"><span class=\"ws\">                </span>response = self.handle_exception(e)</pre>\n<pre class=\"line after\"><span class=\"ws\">            </span>except:  # noqa: B001</pre>\n<pre class=\"line after\"><span class=\"ws\">                </span>error = sys.exc_info()[1]</pre></div>\n</div>\n\n<li><div class=\"frame\" id=\"frame-2200119870800\">\n  <h4>File <cite class=\"filename\">\"C:\\Users\\Marcos\\Projects\\HI_Cross_sell\\env\\Lib\\site-packages\\flask\\app.py\"</cite>,\n      line <em class=\"line\">1518</em>,\n      in <code class=\"function\">full_dispatch_request</code></h4>\n  <div class=\"source library\"><pre class=\"line before\"><span class=\"ws\">            </span>request_started.send(self)</pre>\n<pre class=\"line before\"><span class=\"ws\">            </span>rv = self.preprocess_request()</pre>\n<pre class=\"line before\"><span class=\"ws\">            </span>if rv is None:</pre>\n<pre class=\"line before\"><span class=\"ws\">                </span>rv = self.dispatch_request()</pre>\n<pre class=\"line before\"><span class=\"ws\">        </span>except Exception as e:</pre>\n<pre class=\"line current\"><span class=\"ws\">            </span>rv = self.handle_user_exception(e)</pre>\n<pre class=\"line after\"><span class=\"ws\">        </span>return self.finalize_request(rv)</pre>\n<pre class=\"line after\"><span class=\"ws\"></span> </pre>\n<pre class=\"line after\"><span class=\"ws\">    </span>def finalize_request(</pre>\n<pre class=\"line after\"><span class=\"ws\">        </span>self,</pre>\n<pre class=\"line after\"><span class=\"ws\">        </span>rv: t.Union[ResponseReturnValue, HTTPException],</pre></div>\n</div>\n\n<li><div class=\"frame\" id=\"frame-2200119872192\">\n  <h4>File <cite class=\"filename\">\"C:\\Users\\Marcos\\Projects\\HI_Cross_sell\\env\\Lib\\site-packages\\flask\\app.py\"</cite>,\n      line <em class=\"line\">1516</em>,\n      in <code class=\"function\">full_dispatch_request</code></h4>\n  <div class=\"source library\"><pre class=\"line before\"><span class=\"ws\">        </span>self.try_trigger_before_first_request_functions()</pre>\n<pre class=\"line before\"><span class=\"ws\">        </span>try:</pre>\n<pre class=\"line before\"><span class=\"ws\">            </span>request_started.send(self)</pre>\n<pre class=\"line before\"><span class=\"ws\">            </span>rv = self.preprocess_request()</pre>\n<pre class=\"line before\"><span class=\"ws\">            </span>if rv is None:</pre>\n<pre class=\"line current\"><span class=\"ws\">                </span>rv = self.dispatch_request()</pre>\n<pre class=\"line after\"><span class=\"ws\">        </span>except Exception as e:</pre>\n<pre class=\"line after\"><span class=\"ws\">            </span>rv = self.handle_user_exception(e)</pre>\n<pre class=\"line after\"><span class=\"ws\">        </span>return self.finalize_request(rv)</pre>\n<pre class=\"line after\"><span class=\"ws\"></span> </pre>\n<pre class=\"line after\"><span class=\"ws\">    </span>def finalize_request(</pre></div>\n</div>\n\n<li><div class=\"frame\" id=\"frame-2200119870704\">\n  <h4>File <cite class=\"filename\">\"C:\\Users\\Marcos\\Projects\\HI_Cross_sell\\env\\Lib\\site-packages\\flask\\app.py\"</cite>,\n      line <em class=\"line\">1502</em>,\n      in <code class=\"function\">dispatch_request</code></h4>\n  <div class=\"source library\"><pre class=\"line before\"><span class=\"ws\">            </span>getattr(rule, &quot;provide_automatic_options&quot;, False)</pre>\n<pre class=\"line before\"><span class=\"ws\">            </span>and req.method == &quot;OPTIONS&quot;</pre>\n<pre class=\"line before\"><span class=\"ws\">        </span>):</pre>\n<pre class=\"line before\"><span class=\"ws\">            </span>return self.make_default_options_response()</pre>\n<pre class=\"line before\"><span class=\"ws\">        </span># otherwise dispatch to the handler for that endpoint</pre>\n<pre class=\"line current\"><span class=\"ws\">        </span>return self.ensure_sync(self.view_functions[rule.endpoint])(**req.view_args)</pre>\n<pre class=\"line after\"><span class=\"ws\"></span> </pre>\n<pre class=\"line after\"><span class=\"ws\">    </span>def full_dispatch_request(self) -&gt; Response:</pre>\n<pre class=\"line after\"><span class=\"ws\">        </span>&quot;&quot;&quot;Dispatches the request and on top of that performs request</pre>\n<pre class=\"line after\"><span class=\"ws\">        </span>pre and postprocessing as well as HTTP exception catching and</pre>\n<pre class=\"line after\"><span class=\"ws\">        </span>error handling.</pre></div>\n</div>\n\n<li><div class=\"frame\" id=\"frame-2200119870464\">\n  <h4>File <cite class=\"filename\">\"C:\\Users\\Marcos\\Projects\\HI_Cross_sell\\api_class\\handler.py\"</cite>,\n      line <em class=\"line\">35</em>,\n      in <code class=\"function\">health_insurance_predict</code></h4>\n  <div class=\"source \"><pre class=\"line before\"><span class=\"ws\"></span> </pre>\n<pre class=\"line before\"><span class=\"ws\">        </span># data preparation</pre>\n<pre class=\"line before\"><span class=\"ws\">        </span>df3 = pipeline.data_preparation( df2 )</pre>\n<pre class=\"line before\"><span class=\"ws\"></span> </pre>\n<pre class=\"line before\"><span class=\"ws\">        </span># prediction</pre>\n<pre class=\"line current\"><span class=\"ws\">        </span>df_response = pipeline.get_predictions( model, test_raw, df3 )</pre>\n<pre class=\"line after\"><span class=\"ws\"></span> </pre>\n<pre class=\"line after\"><span class=\"ws\">        </span>return df_response</pre>\n<pre class=\"line after\"><span class=\"ws\"></span> </pre>\n<pre class=\"line after\"><span class=\"ws\">    </span>else:</pre>\n<pre class=\"line after\"><span class=\"ws\">        </span>return Response( &#x27;{}&#x27;, status=200, mimetype=&#x27;application/json&#x27; )</pre></div>\n</div>\n\n<li><div class=\"frame\" id=\"frame-2200119872480\">\n  <h4>File <cite class=\"filename\">\"C:\\Users\\Marcos\\Projects\\HI_Cross_sell\\api_class\\healthinsurance\\HealthInsurance.py\"</cite>,\n      line <em class=\"line\">69</em>,\n      in <code class=\"function\">get_predictions</code></h4>\n  <div class=\"source \"><pre class=\"line before\"><span class=\"ws\"></span> </pre>\n<pre class=\"line before\"><span class=\"ws\">        </span>return df5</pre>\n<pre class=\"line before\"><span class=\"ws\"></span> </pre>\n<pre class=\"line before\"><span class=\"ws\">    </span>def get_predictions( self, model, original_data, test_data ):</pre>\n<pre class=\"line before\"><span class=\"ws\"></span> </pre>\n<pre class=\"line current\"><span class=\"ws\">        </span>pred = pd.DataFrame( model.predict_proba( test_data ) )[1]</pre>\n<pre class=\"line after\"><span class=\"ws\"></span> </pre>\n<pre class=\"line after\"><span class=\"ws\">        </span>original_data[&#x27;score&#x27;] = pred</pre>\n<pre class=\"line after\"><span class=\"ws\">        </span>original_data = original_data.sort_values( &#x27;score&#x27;, ascending=False )</pre>\n<pre class=\"line after\"><span class=\"ws\"></span> </pre>\n<pre class=\"line after\"><span class=\"ws\">        </span>return original_data.to_json( orient=&#x27;records&#x27;, date_format=&#x27;iso&#x27; )</pre></div>\n</div>\n\n<li><div class=\"frame\" id=\"frame-2200119870416\">\n  <h4>File <cite class=\"filename\">\"C:\\Users\\Marcos\\Projects\\HI_Cross_sell\\env\\Lib\\site-packages\\sklearn\\linear_model\\_logistic.py\"</cite>,\n      line <em class=\"line\">1670</em>,\n      in <code class=\"function\">predict_proba</code></h4>\n  <div class=\"source library\"><pre class=\"line before\"><span class=\"ws\">        </span>ovr = self.multi_class in [&quot;ovr&quot;, &quot;warn&quot;] or (</pre>\n<pre class=\"line before\"><span class=\"ws\">            </span>self.multi_class == &quot;auto&quot;</pre>\n<pre class=\"line before\"><span class=\"ws\">            </span>and (self.classes_.size &lt;= 2 or self.solver == &quot;liblinear&quot;)</pre>\n<pre class=\"line before\"><span class=\"ws\">        </span>)</pre>\n<pre class=\"line before\"><span class=\"ws\">        </span>if ovr:</pre>\n<pre class=\"line current\"><span class=\"ws\">            </span>return super()._predict_proba_lr(X)</pre>\n<pre class=\"line after\"><span class=\"ws\">        </span>else:</pre>\n<pre class=\"line after\"><span class=\"ws\">            </span>decision = self.decision_function(X)</pre>\n<pre class=\"line after\"><span class=\"ws\">            </span>if decision.ndim == 1:</pre>\n<pre class=\"line after\"><span class=\"ws\">                </span># Workaround for multi_class=&quot;multinomial&quot; and binary outcomes</pre>\n<pre class=\"line after\"><span class=\"ws\">                </span># which requires softmax prediction with only a 1D decision.</pre></div>\n</div>\n\n<li><div class=\"frame\" id=\"frame-2200119871280\">\n  <h4>File <cite class=\"filename\">\"C:\\Users\\Marcos\\Projects\\HI_Cross_sell\\env\\Lib\\site-packages\\sklearn\\linear_model\\_base.py\"</cite>,\n      line <em class=\"line\">439</em>,\n      in <code class=\"function\">_predict_proba_lr</code></h4>\n  <div class=\"source library\"><pre class=\"line before\"><span class=\"ws\"></span> </pre>\n<pre class=\"line before\"><span class=\"ws\">        </span>Positive class probabilities are computed as</pre>\n<pre class=\"line before\"><span class=\"ws\">        </span>1. / (1. + np.exp(-self.decision_function(X)));</pre>\n<pre class=\"line before\"><span class=\"ws\">        </span>multiclass is handled by normalizing that over all classes.</pre>\n<pre class=\"line before\"><span class=\"ws\">        </span>&quot;&quot;&quot;</pre>\n<pre class=\"line current\"><span class=\"ws\">        </span>prob = self.decision_function(X)</pre>\n<pre class=\"line after\"><span class=\"ws\">        </span>expit(prob, out=prob)</pre>\n<pre class=\"line after\"><span class=\"ws\">        </span>if prob.ndim == 1:</pre>\n<pre class=\"line after\"><span class=\"ws\">            </span>return np.vstack([1 - prob, prob]).T</pre>\n<pre class=\"line after\"><span class=\"ws\">        </span>else:</pre>\n<pre class=\"line after\"><span class=\"ws\">            </span># OvR normalization, like LibLinear&#x27;s predict_probability</pre></div>\n</div>\n\n<li><div class=\"frame\" id=\"frame-2200119871184\">\n  <h4>File <cite class=\"filename\">\"C:\\Users\\Marcos\\Projects\\HI_Cross_sell\\env\\Lib\\site-packages\\sklearn\\linear_model\\_base.py\"</cite>,\n      line <em class=\"line\">407</em>,\n      in <code class=\"function\">decision_function</code></h4>\n  <div class=\"source library\"><pre class=\"line before\"><span class=\"ws\">            </span>binary case, confidence score for `self.classes_[1]` where &gt;0 means</pre>\n<pre class=\"line before\"><span class=\"ws\">            </span>this class would be predicted.</pre>\n<pre class=\"line before\"><span class=\"ws\">        </span>&quot;&quot;&quot;</pre>\n<pre class=\"line before\"><span class=\"ws\">        </span>check_is_fitted(self)</pre>\n<pre class=\"line before\"><span class=\"ws\"></span> </pre>\n<pre class=\"line current\"><span class=\"ws\">        </span>X = self._validate_data(X, accept_sparse=&quot;csr&quot;, reset=False)</pre>\n<pre class=\"line after\"><span class=\"ws\">        </span>scores = safe_sparse_dot(X, self.coef_.T, dense_output=True) + self.intercept_</pre>\n<pre class=\"line after\"><span class=\"ws\">        </span>return scores.ravel() if scores.shape[1] == 1 else scores</pre>\n<pre class=\"line after\"><span class=\"ws\"></span> </pre>\n<pre class=\"line after\"><span class=\"ws\">    </span>def predict(self, X):</pre>\n<pre class=\"line after\"><span class=\"ws\">        </span>&quot;&quot;&quot;</pre></div>\n</div>\n\n<li><div class=\"frame\" id=\"frame-2200119872144\">\n  <h4>File <cite class=\"filename\">\"C:\\Users\\Marcos\\Projects\\HI_Cross_sell\\env\\Lib\\site-packages\\sklearn\\base.py\"</cite>,\n      line <em class=\"line\">566</em>,\n      in <code class=\"function\">_validate_data</code></h4>\n  <div class=\"source library\"><pre class=\"line before\"><span class=\"ws\">        </span>no_val_y = y is None or isinstance(y, str) and y == &quot;no_validation&quot;</pre>\n<pre class=\"line before\"><span class=\"ws\"></span> </pre>\n<pre class=\"line before\"><span class=\"ws\">        </span>if no_val_X and no_val_y:</pre>\n<pre class=\"line before\"><span class=\"ws\">            </span>raise ValueError(&quot;Validation should be done on X, y or both.&quot;)</pre>\n<pre class=\"line before\"><span class=\"ws\">        </span>elif not no_val_X and no_val_y:</pre>\n<pre class=\"line current\"><span class=\"ws\">            </span>X = check_array(X, **check_params)</pre>\n<pre class=\"line after\"><span class=\"ws\">            </span>out = X</pre>\n<pre class=\"line after\"><span class=\"ws\">        </span>elif no_val_X and not no_val_y:</pre>\n<pre class=\"line after\"><span class=\"ws\">            </span>y = _check_y(y, **check_params)</pre>\n<pre class=\"line after\"><span class=\"ws\">            </span>out = y</pre>\n<pre class=\"line after\"><span class=\"ws\">        </span>else:</pre></div>\n</div>\n\n<li><div class=\"frame\" id=\"frame-2200119872096\">\n  <h4>File <cite class=\"filename\">\"C:\\Users\\Marcos\\Projects\\HI_Cross_sell\\env\\Lib\\site-packages\\sklearn\\utils\\validation.py\"</cite>,\n      line <em class=\"line\">800</em>,\n      in <code class=\"function\">check_array</code></h4>\n  <div class=\"source library\"><pre class=\"line before\"><span class=\"ws\">                </span>&quot;Found array with dim %d. %s expected &lt;= 2.&quot;</pre>\n<pre class=\"line before\"><span class=\"ws\">                </span>% (array.ndim, estimator_name)</pre>\n<pre class=\"line before\"><span class=\"ws\">            </span>)</pre>\n<pre class=\"line before\"><span class=\"ws\"></span> </pre>\n<pre class=\"line before\"><span class=\"ws\">        </span>if force_all_finite:</pre>\n<pre class=\"line current\"><span class=\"ws\">            </span>_assert_all_finite(array, allow_nan=force_all_finite == &quot;allow-nan&quot;)</pre>\n<pre class=\"line after\"><span class=\"ws\"></span> </pre>\n<pre class=\"line after\"><span class=\"ws\">    </span>if ensure_min_samples &gt; 0:</pre>\n<pre class=\"line after\"><span class=\"ws\">        </span>n_samples = _num_samples(array)</pre>\n<pre class=\"line after\"><span class=\"ws\">        </span>if n_samples &lt; ensure_min_samples:</pre>\n<pre class=\"line after\"><span class=\"ws\">            </span>raise ValueError(</pre></div>\n</div>\n\n<li><div class=\"frame\" id=\"frame-2200119871328\">\n  <h4>File <cite class=\"filename\">\"C:\\Users\\Marcos\\Projects\\HI_Cross_sell\\env\\Lib\\site-packages\\sklearn\\utils\\validation.py\"</cite>,\n      line <em class=\"line\">114</em>,\n      in <code class=\"function\">_assert_all_finite</code></h4>\n  <div class=\"source library\"><pre class=\"line before\"><span class=\"ws\">            </span>and np.isinf(X).any()</pre>\n<pre class=\"line before\"><span class=\"ws\">            </span>or not allow_nan</pre>\n<pre class=\"line before\"><span class=\"ws\">            </span>and not np.isfinite(X).all()</pre>\n<pre class=\"line before\"><span class=\"ws\">        </span>):</pre>\n<pre class=\"line before\"><span class=\"ws\">            </span>type_err = &quot;infinity&quot; if allow_nan else &quot;NaN, infinity&quot;</pre>\n<pre class=\"line current\"><span class=\"ws\">            </span>raise ValueError(</pre>\n<pre class=\"line after\"><span class=\"ws\">                </span>msg_err.format(</pre>\n<pre class=\"line after\"><span class=\"ws\">                    </span>type_err, msg_dtype if msg_dtype is not None else X.dtype</pre>\n<pre class=\"line after\"><span class=\"ws\">                </span>)</pre>\n<pre class=\"line after\"><span class=\"ws\">            </span>)</pre>\n<pre class=\"line after\"><span class=\"ws\">    </span># for object dtype data, we only check for NaNs (GH-13254)</pre></div>\n</div>\n</ul>\n  <blockquote>ValueError: Input contains NaN, infinity or a value too large for dtype(&#x27;float64&#x27;).</blockquote>\n</div>\n\n<div class=\"plain\">\n    <p>\n      This is the Copy/Paste friendly version of the traceback.\n    </p>\n    <textarea cols=\"50\" rows=\"10\" name=\"code\" readonly>Traceback (most recent call last):\n  File &quot;C:\\Users\\Marcos\\Projects\\HI_Cross_sell\\env\\Lib\\site-packages\\flask\\app.py&quot;, line 2091, in __call__\n    return self.wsgi_app(environ, start_response)\n  File &quot;C:\\Users\\Marcos\\Projects\\HI_Cross_sell\\env\\Lib\\site-packages\\flask\\app.py&quot;, line 2076, in wsgi_app\n    response = self.handle_exception(e)\n  File &quot;C:\\Users\\Marcos\\Projects\\HI_Cross_sell\\env\\Lib\\site-packages\\flask\\app.py&quot;, line 2073, in wsgi_app\n    response = self.full_dispatch_request()\n  File &quot;C:\\Users\\Marcos\\Projects\\HI_Cross_sell\\env\\Lib\\site-packages\\flask\\app.py&quot;, line 1518, in full_dispatch_request\n    rv = self.handle_user_exception(e)\n  File &quot;C:\\Users\\Marcos\\Projects\\HI_Cross_sell\\env\\Lib\\site-packages\\flask\\app.py&quot;, line 1516, in full_dispatch_request\n    rv = self.dispatch_request()\n  File &quot;C:\\Users\\Marcos\\Projects\\HI_Cross_sell\\env\\Lib\\site-packages\\flask\\app.py&quot;, line 1502, in dispatch_request\n    return self.ensure_sync(self.view_functions[rule.endpoint])(**req.view_args)\n  File &quot;C:\\Users\\Marcos\\Projects\\HI_Cross_sell\\api_class\\handler.py&quot;, line 35, in health_insurance_predict\n    df_response = pipeline.get_predictions( model, test_raw, df3 )\n  File &quot;C:\\Users\\Marcos\\Projects\\HI_Cross_sell\\api_class\\healthinsurance\\HealthInsurance.py&quot;, line 69, in get_predictions\n    pred = pd.DataFrame( model.predict_proba( test_data ) )[1]\n  File &quot;C:\\Users\\Marcos\\Projects\\HI_Cross_sell\\env\\Lib\\site-packages\\sklearn\\linear_model\\_logistic.py&quot;, line 1670, in predict_proba\n    return super()._predict_proba_lr(X)\n  File &quot;C:\\Users\\Marcos\\Projects\\HI_Cross_sell\\env\\Lib\\site-packages\\sklearn\\linear_model\\_base.py&quot;, line 439, in _predict_proba_lr\n    prob = self.decision_function(X)\n  File &quot;C:\\Users\\Marcos\\Projects\\HI_Cross_sell\\env\\Lib\\site-packages\\sklearn\\linear_model\\_base.py&quot;, line 407, in decision_function\n    X = self._validate_data(X, accept_sparse=&quot;csr&quot;, reset=False)\n  File &quot;C:\\Users\\Marcos\\Projects\\HI_Cross_sell\\env\\Lib\\site-packages\\sklearn\\base.py&quot;, line 566, in _validate_data\n    X = check_array(X, **check_params)\n  File &quot;C:\\Users\\Marcos\\Projects\\HI_Cross_sell\\env\\Lib\\site-packages\\sklearn\\utils\\validation.py&quot;, line 800, in check_array\n    _assert_all_finite(array, allow_nan=force_all_finite == &quot;allow-nan&quot;)\n  File &quot;C:\\Users\\Marcos\\Projects\\HI_Cross_sell\\env\\Lib\\site-packages\\sklearn\\utils\\validation.py&quot;, line 114, in _assert_all_finite\n    raise ValueError(\nValueError: Input contains NaN, infinity or a value too large for dtype(&#x27;float64&#x27;).</textarea>\n</div>\n<div class=\"explanation\">\n  The debugger caught an exception in your WSGI application.  You can now\n  look at the traceback which led to the error.  <span class=\"nojavascript\">\n  If you enable JavaScript you can also use additional features such as code\n  execution (if the evalex feature is enabled), automatic pasting of the\n  exceptions and much more.</span>\n</div>\n      <div class=\"footer\">\n        Brought to you by <strong class=\"arthur\">DON'T PANIC</strong>, your\n        friendly Werkzeug powered traceback interpreter.\n      </div>\n    </div>\n\n    <div class=\"pin-prompt\">\n      <div class=\"inner\">\n        <h3>Console Locked</h3>\n        <p>\n          The console is locked and needs to be unlocked by entering the PIN.\n          You can find the PIN printed out on the standard output of your\n          shell that runs the server.\n        <form>\n          <p>PIN:\n            <input type=text name=pin size=14>\n            <input type=submit name=btn value=\"Confirm Pin\">\n        </form>\n      </div>\n    </div>\n  </body>\n</html>\n\n<!--\n\nTraceback (most recent call last):\n  File \"C:\\Users\\Marcos\\Projects\\HI_Cross_sell\\env\\Lib\\site-packages\\flask\\app.py\", line 2091, in __call__\n    return self.wsgi_app(environ, start_response)\n  File \"C:\\Users\\Marcos\\Projects\\HI_Cross_sell\\env\\Lib\\site-packages\\flask\\app.py\", line 2076, in wsgi_app\n    response = self.handle_exception(e)\n  File \"C:\\Users\\Marcos\\Projects\\HI_Cross_sell\\env\\Lib\\site-packages\\flask\\app.py\", line 2073, in wsgi_app\n    response = self.full_dispatch_request()\n  File \"C:\\Users\\Marcos\\Projects\\HI_Cross_sell\\env\\Lib\\site-packages\\flask\\app.py\", line 1518, in full_dispatch_request\n    rv = self.handle_user_exception(e)\n  File \"C:\\Users\\Marcos\\Projects\\HI_Cross_sell\\env\\Lib\\site-packages\\flask\\app.py\", line 1516, in full_dispatch_request\n    rv = self.dispatch_request()\n  File \"C:\\Users\\Marcos\\Projects\\HI_Cross_sell\\env\\Lib\\site-packages\\flask\\app.py\", line 1502, in dispatch_request\n    return self.ensure_sync(self.view_functions[rule.endpoint])(**req.view_args)\n  File \"C:\\Users\\Marcos\\Projects\\HI_Cross_sell\\api_class\\handler.py\", line 35, in health_insurance_predict\n    df_response = pipeline.get_predictions( model, test_raw, df3 )\n  File \"C:\\Users\\Marcos\\Projects\\HI_Cross_sell\\api_class\\healthinsurance\\HealthInsurance.py\", line 69, in get_predictions\n    pred = pd.DataFrame( model.predict_proba( test_data ) )[1]\n  File \"C:\\Users\\Marcos\\Projects\\HI_Cross_sell\\env\\Lib\\site-packages\\sklearn\\linear_model\\_logistic.py\", line 1670, in predict_proba\n    return super()._predict_proba_lr(X)\n  File \"C:\\Users\\Marcos\\Projects\\HI_Cross_sell\\env\\Lib\\site-packages\\sklearn\\linear_model\\_base.py\", line 439, in _predict_proba_lr\n    prob = self.decision_function(X)\n  File \"C:\\Users\\Marcos\\Projects\\HI_Cross_sell\\env\\Lib\\site-packages\\sklearn\\linear_model\\_base.py\", line 407, in decision_function\n    X = self._validate_data(X, accept_sparse=\"csr\", reset=False)\n  File \"C:\\Users\\Marcos\\Projects\\HI_Cross_sell\\env\\Lib\\site-packages\\sklearn\\base.py\", line 566, in _validate_data\n    X = check_array(X, **check_params)\n  File \"C:\\Users\\Marcos\\Projects\\HI_Cross_sell\\env\\Lib\\site-packages\\sklearn\\utils\\validation.py\", line 800, in check_array\n    _assert_all_finite(array, allow_nan=force_all_finite == \"allow-nan\")\n  File \"C:\\Users\\Marcos\\Projects\\HI_Cross_sell\\env\\Lib\\site-packages\\sklearn\\utils\\validation.py\", line 114, in _assert_all_finite\n    raise ValueError(\nValueError: Input contains NaN, infinity or a value too large for dtype('float64').\n\n-->\n: 0",
     "output_type": "error",
     "traceback": [
      "\u001b[1;31m---------------------------------------------------------------------------\u001b[0m",
      "\u001b[1;31mJSONDecodeError\u001b[0m                           Traceback (most recent call last)",
      "File \u001b[1;32m~\\Projects\\HI_Cross_sell\\env\\lib\\site-packages\\requests\\models.py:910\u001b[0m, in \u001b[0;36mResponse.json\u001b[1;34m(self, **kwargs)\u001b[0m\n\u001b[0;32m    909\u001b[0m \u001b[38;5;28;01mtry\u001b[39;00m:\n\u001b[1;32m--> 910\u001b[0m     \u001b[38;5;28;01mreturn\u001b[39;00m complexjson\u001b[38;5;241m.\u001b[39mloads(\u001b[38;5;28mself\u001b[39m\u001b[38;5;241m.\u001b[39mtext, \u001b[38;5;241m*\u001b[39m\u001b[38;5;241m*\u001b[39mkwargs)\n\u001b[0;32m    911\u001b[0m \u001b[38;5;28;01mexcept\u001b[39;00m JSONDecodeError \u001b[38;5;28;01mas\u001b[39;00m e:\n\u001b[0;32m    912\u001b[0m     \u001b[38;5;66;03m# Catch JSON-related errors and raise as requests.JSONDecodeError\u001b[39;00m\n\u001b[0;32m    913\u001b[0m     \u001b[38;5;66;03m# This aliases json.JSONDecodeError and simplejson.JSONDecodeError\u001b[39;00m\n",
      "File \u001b[1;32m~\\AppData\\Local\\Programs\\Python\\Python39\\lib\\json\\__init__.py:346\u001b[0m, in \u001b[0;36mloads\u001b[1;34m(s, cls, object_hook, parse_float, parse_int, parse_constant, object_pairs_hook, **kw)\u001b[0m\n\u001b[0;32m    343\u001b[0m \u001b[38;5;28;01mif\u001b[39;00m (\u001b[38;5;28mcls\u001b[39m \u001b[38;5;129;01mis\u001b[39;00m \u001b[38;5;28;01mNone\u001b[39;00m \u001b[38;5;129;01mand\u001b[39;00m object_hook \u001b[38;5;129;01mis\u001b[39;00m \u001b[38;5;28;01mNone\u001b[39;00m \u001b[38;5;129;01mand\u001b[39;00m\n\u001b[0;32m    344\u001b[0m         parse_int \u001b[38;5;129;01mis\u001b[39;00m \u001b[38;5;28;01mNone\u001b[39;00m \u001b[38;5;129;01mand\u001b[39;00m parse_float \u001b[38;5;129;01mis\u001b[39;00m \u001b[38;5;28;01mNone\u001b[39;00m \u001b[38;5;129;01mand\u001b[39;00m\n\u001b[0;32m    345\u001b[0m         parse_constant \u001b[38;5;129;01mis\u001b[39;00m \u001b[38;5;28;01mNone\u001b[39;00m \u001b[38;5;129;01mand\u001b[39;00m object_pairs_hook \u001b[38;5;129;01mis\u001b[39;00m \u001b[38;5;28;01mNone\u001b[39;00m \u001b[38;5;129;01mand\u001b[39;00m \u001b[38;5;129;01mnot\u001b[39;00m kw):\n\u001b[1;32m--> 346\u001b[0m     \u001b[38;5;28;01mreturn\u001b[39;00m \u001b[43m_default_decoder\u001b[49m\u001b[38;5;241;43m.\u001b[39;49m\u001b[43mdecode\u001b[49m\u001b[43m(\u001b[49m\u001b[43ms\u001b[49m\u001b[43m)\u001b[49m\n\u001b[0;32m    347\u001b[0m \u001b[38;5;28;01mif\u001b[39;00m \u001b[38;5;28mcls\u001b[39m \u001b[38;5;129;01mis\u001b[39;00m \u001b[38;5;28;01mNone\u001b[39;00m:\n",
      "File \u001b[1;32m~\\AppData\\Local\\Programs\\Python\\Python39\\lib\\json\\decoder.py:337\u001b[0m, in \u001b[0;36mJSONDecoder.decode\u001b[1;34m(self, s, _w)\u001b[0m\n\u001b[0;32m    333\u001b[0m \u001b[38;5;124;03m\"\"\"Return the Python representation of ``s`` (a ``str`` instance\u001b[39;00m\n\u001b[0;32m    334\u001b[0m \u001b[38;5;124;03mcontaining a JSON document).\u001b[39;00m\n\u001b[0;32m    335\u001b[0m \n\u001b[0;32m    336\u001b[0m \u001b[38;5;124;03m\"\"\"\u001b[39;00m\n\u001b[1;32m--> 337\u001b[0m obj, end \u001b[38;5;241m=\u001b[39m \u001b[38;5;28;43mself\u001b[39;49m\u001b[38;5;241;43m.\u001b[39;49m\u001b[43mraw_decode\u001b[49m\u001b[43m(\u001b[49m\u001b[43ms\u001b[49m\u001b[43m,\u001b[49m\u001b[43m \u001b[49m\u001b[43midx\u001b[49m\u001b[38;5;241;43m=\u001b[39;49m\u001b[43m_w\u001b[49m\u001b[43m(\u001b[49m\u001b[43ms\u001b[49m\u001b[43m,\u001b[49m\u001b[43m \u001b[49m\u001b[38;5;241;43m0\u001b[39;49m\u001b[43m)\u001b[49m\u001b[38;5;241;43m.\u001b[39;49m\u001b[43mend\u001b[49m\u001b[43m(\u001b[49m\u001b[43m)\u001b[49m\u001b[43m)\u001b[49m\n\u001b[0;32m    338\u001b[0m end \u001b[38;5;241m=\u001b[39m _w(s, end)\u001b[38;5;241m.\u001b[39mend()\n",
      "File \u001b[1;32m~\\AppData\\Local\\Programs\\Python\\Python39\\lib\\json\\decoder.py:355\u001b[0m, in \u001b[0;36mJSONDecoder.raw_decode\u001b[1;34m(self, s, idx)\u001b[0m\n\u001b[0;32m    354\u001b[0m \u001b[38;5;28;01mexcept\u001b[39;00m \u001b[38;5;167;01mStopIteration\u001b[39;00m \u001b[38;5;28;01mas\u001b[39;00m err:\n\u001b[1;32m--> 355\u001b[0m     \u001b[38;5;28;01mraise\u001b[39;00m JSONDecodeError(\u001b[38;5;124m\"\u001b[39m\u001b[38;5;124mExpecting value\u001b[39m\u001b[38;5;124m\"\u001b[39m, s, err\u001b[38;5;241m.\u001b[39mvalue) \u001b[38;5;28;01mfrom\u001b[39;00m \u001b[38;5;28mNone\u001b[39m\n\u001b[0;32m    356\u001b[0m \u001b[38;5;28;01mreturn\u001b[39;00m obj, end\n",
      "\u001b[1;31mJSONDecodeError\u001b[0m: Expecting value: line 1 column 1 (char 0)",
      "\nDuring handling of the above exception, another exception occurred:\n",
      "\u001b[1;31mJSONDecodeError\u001b[0m                           Traceback (most recent call last)",
      "Input \u001b[1;32mIn [197]\u001b[0m, in \u001b[0;36m<module>\u001b[1;34m\u001b[0m\n\u001b[1;32m----> 1\u001b[0m \u001b[43mr\u001b[49m\u001b[38;5;241;43m.\u001b[39;49m\u001b[43mjson\u001b[49m\u001b[43m(\u001b[49m\u001b[43m)\u001b[49m\n",
      "File \u001b[1;32m~\\Projects\\HI_Cross_sell\\env\\lib\\site-packages\\requests\\models.py:917\u001b[0m, in \u001b[0;36mResponse.json\u001b[1;34m(self, **kwargs)\u001b[0m\n\u001b[0;32m    915\u001b[0m     \u001b[38;5;28;01mraise\u001b[39;00m RequestsJSONDecodeError(e\u001b[38;5;241m.\u001b[39mmessage)\n\u001b[0;32m    916\u001b[0m \u001b[38;5;28;01melse\u001b[39;00m:\n\u001b[1;32m--> 917\u001b[0m     \u001b[38;5;28;01mraise\u001b[39;00m RequestsJSONDecodeError(e\u001b[38;5;241m.\u001b[39mmsg, e\u001b[38;5;241m.\u001b[39mdoc, e\u001b[38;5;241m.\u001b[39mpos)\n",
      "\u001b[1;31mJSONDecodeError\u001b[0m: [Errno Expecting value] <!DOCTYPE HTML PUBLIC \"-//W3C//DTD HTML 4.01 Transitional//EN\"\n  \"http://www.w3.org/TR/html4/loose.dtd\">\n<html>\n  <head>\n    <title>ValueError: Input contains NaN, infinity or a value too large for dtype(&#x27;float64&#x27;). // Werkzeug Debugger</title>\n    <link rel=\"stylesheet\" href=\"?__debugger__=yes&amp;cmd=resource&amp;f=style.css\"\n        type=\"text/css\">\n    <!-- We need to make sure this has a favicon so that the debugger does\n         not accidentally trigger a request to /favicon.ico which might\n         change the application's state. -->\n    <link rel=\"shortcut icon\"\n        href=\"?__debugger__=yes&amp;cmd=resource&amp;f=console.png\">\n    <script src=\"?__debugger__=yes&amp;cmd=resource&amp;f=debugger.js\"></script>\n    <script type=\"text/javascript\">\n      var TRACEBACK = 2199114161264,\n          CONSOLE_MODE = false,\n          EVALEX = true,\n          EVALEX_TRUSTED = false,\n          SECRET = \"MmniOsTR6kO3ALuJshVu\";\n    </script>\n  </head>\n  <body style=\"background-color: #fff\">\n    <div class=\"debugger\">\n<h1>ValueError</h1>\n<div class=\"detail\">\n  <p class=\"errormsg\">ValueError: Input contains NaN, infinity or a value too large for dtype(&#x27;float64&#x27;).</p>\n</div>\n<h2 class=\"traceback\">Traceback <em>(most recent call last)</em></h2>\n<div class=\"traceback\">\n  <h3></h3>\n  <ul><li><div class=\"frame\" id=\"frame-2200119870752\">\n  <h4>File <cite class=\"filename\">\"C:\\Users\\Marcos\\Projects\\HI_Cross_sell\\env\\Lib\\site-packages\\flask\\app.py\"</cite>,\n      line <em class=\"line\">2091</em>,\n      in <code class=\"function\">__call__</code></h4>\n  <div class=\"source library\"><pre class=\"line before\"><span class=\"ws\">    </span>def __call__(self, environ: dict, start_response: t.Callable) -&gt; t.Any:</pre>\n<pre class=\"line before\"><span class=\"ws\">        </span>&quot;&quot;&quot;The WSGI server calls the Flask application object as the</pre>\n<pre class=\"line before\"><span class=\"ws\">        </span>WSGI application. This calls :meth:`wsgi_app`, which can be</pre>\n<pre class=\"line before\"><span class=\"ws\">        </span>wrapped to apply middleware.</pre>\n<pre class=\"line before\"><span class=\"ws\">        </span>&quot;&quot;&quot;</pre>\n<pre class=\"line current\"><span class=\"ws\">        </span>return self.wsgi_app(environ, start_response)</pre></div>\n</div>\n\n<li><div class=\"frame\" id=\"frame-2200119872048\">\n  <h4>File <cite class=\"filename\">\"C:\\Users\\Marcos\\Projects\\HI_Cross_sell\\env\\Lib\\site-packages\\flask\\app.py\"</cite>,\n      line <em class=\"line\">2076</em>,\n      in <code class=\"function\">wsgi_app</code></h4>\n  <div class=\"source library\"><pre class=\"line before\"><span class=\"ws\">            </span>try:</pre>\n<pre class=\"line before\"><span class=\"ws\">                </span>ctx.push()</pre>\n<pre class=\"line before\"><span class=\"ws\">                </span>response = self.full_dispatch_request()</pre>\n<pre class=\"line before\"><span class=\"ws\">            </span>except Exception as e:</pre>\n<pre class=\"line before\"><span class=\"ws\">                </span>error = e</pre>\n<pre class=\"line current\"><span class=\"ws\">                </span>response = self.handle_exception(e)</pre>\n<pre class=\"line after\"><span class=\"ws\">            </span>except:  # noqa: B001</pre>\n<pre class=\"line after\"><span class=\"ws\">                </span>error = sys.exc_info()[1]</pre>\n<pre class=\"line after\"><span class=\"ws\">                </span>raise</pre>\n<pre class=\"line after\"><span class=\"ws\">            </span>return response(environ, start_response)</pre>\n<pre class=\"line after\"><span class=\"ws\">        </span>finally:</pre></div>\n</div>\n\n<li><div class=\"frame\" id=\"frame-2200119871760\">\n  <h4>File <cite class=\"filename\">\"C:\\Users\\Marcos\\Projects\\HI_Cross_sell\\env\\Lib\\site-packages\\flask\\app.py\"</cite>,\n      line <em class=\"line\">2073</em>,\n      in <code class=\"function\">wsgi_app</code></h4>\n  <div class=\"source library\"><pre class=\"line before\"><span class=\"ws\">        </span>ctx = self.request_context(environ)</pre>\n<pre class=\"line before\"><span class=\"ws\">        </span>error: t.Optional[BaseException] = None</pre>\n<pre class=\"line before\"><span class=\"ws\">        </span>try:</pre>\n<pre class=\"line before\"><span class=\"ws\">            </span>try:</pre>\n<pre class=\"line before\"><span class=\"ws\">                </span>ctx.push()</pre>\n<pre class=\"line current\"><span class=\"ws\">                </span>response = self.full_dispatch_request()</pre>\n<pre class=\"line after\"><span class=\"ws\">            </span>except Exception as e:</pre>\n<pre class=\"line after\"><span class=\"ws\">                </span>error = e</pre>\n<pre class=\"line after\"><span class=\"ws\">                </span>response = self.handle_exception(e)</pre>\n<pre class=\"line after\"><span class=\"ws\">            </span>except:  # noqa: B001</pre>\n<pre class=\"line after\"><span class=\"ws\">                </span>error = sys.exc_info()[1]</pre></div>\n</div>\n\n<li><div class=\"frame\" id=\"frame-2200119870800\">\n  <h4>File <cite class=\"filename\">\"C:\\Users\\Marcos\\Projects\\HI_Cross_sell\\env\\Lib\\site-packages\\flask\\app.py\"</cite>,\n      line <em class=\"line\">1518</em>,\n      in <code class=\"function\">full_dispatch_request</code></h4>\n  <div class=\"source library\"><pre class=\"line before\"><span class=\"ws\">            </span>request_started.send(self)</pre>\n<pre class=\"line before\"><span class=\"ws\">            </span>rv = self.preprocess_request()</pre>\n<pre class=\"line before\"><span class=\"ws\">            </span>if rv is None:</pre>\n<pre class=\"line before\"><span class=\"ws\">                </span>rv = self.dispatch_request()</pre>\n<pre class=\"line before\"><span class=\"ws\">        </span>except Exception as e:</pre>\n<pre class=\"line current\"><span class=\"ws\">            </span>rv = self.handle_user_exception(e)</pre>\n<pre class=\"line after\"><span class=\"ws\">        </span>return self.finalize_request(rv)</pre>\n<pre class=\"line after\"><span class=\"ws\"></span> </pre>\n<pre class=\"line after\"><span class=\"ws\">    </span>def finalize_request(</pre>\n<pre class=\"line after\"><span class=\"ws\">        </span>self,</pre>\n<pre class=\"line after\"><span class=\"ws\">        </span>rv: t.Union[ResponseReturnValue, HTTPException],</pre></div>\n</div>\n\n<li><div class=\"frame\" id=\"frame-2200119872192\">\n  <h4>File <cite class=\"filename\">\"C:\\Users\\Marcos\\Projects\\HI_Cross_sell\\env\\Lib\\site-packages\\flask\\app.py\"</cite>,\n      line <em class=\"line\">1516</em>,\n      in <code class=\"function\">full_dispatch_request</code></h4>\n  <div class=\"source library\"><pre class=\"line before\"><span class=\"ws\">        </span>self.try_trigger_before_first_request_functions()</pre>\n<pre class=\"line before\"><span class=\"ws\">        </span>try:</pre>\n<pre class=\"line before\"><span class=\"ws\">            </span>request_started.send(self)</pre>\n<pre class=\"line before\"><span class=\"ws\">            </span>rv = self.preprocess_request()</pre>\n<pre class=\"line before\"><span class=\"ws\">            </span>if rv is None:</pre>\n<pre class=\"line current\"><span class=\"ws\">                </span>rv = self.dispatch_request()</pre>\n<pre class=\"line after\"><span class=\"ws\">        </span>except Exception as e:</pre>\n<pre class=\"line after\"><span class=\"ws\">            </span>rv = self.handle_user_exception(e)</pre>\n<pre class=\"line after\"><span class=\"ws\">        </span>return self.finalize_request(rv)</pre>\n<pre class=\"line after\"><span class=\"ws\"></span> </pre>\n<pre class=\"line after\"><span class=\"ws\">    </span>def finalize_request(</pre></div>\n</div>\n\n<li><div class=\"frame\" id=\"frame-2200119870704\">\n  <h4>File <cite class=\"filename\">\"C:\\Users\\Marcos\\Projects\\HI_Cross_sell\\env\\Lib\\site-packages\\flask\\app.py\"</cite>,\n      line <em class=\"line\">1502</em>,\n      in <code class=\"function\">dispatch_request</code></h4>\n  <div class=\"source library\"><pre class=\"line before\"><span class=\"ws\">            </span>getattr(rule, &quot;provide_automatic_options&quot;, False)</pre>\n<pre class=\"line before\"><span class=\"ws\">            </span>and req.method == &quot;OPTIONS&quot;</pre>\n<pre class=\"line before\"><span class=\"ws\">        </span>):</pre>\n<pre class=\"line before\"><span class=\"ws\">            </span>return self.make_default_options_response()</pre>\n<pre class=\"line before\"><span class=\"ws\">        </span># otherwise dispatch to the handler for that endpoint</pre>\n<pre class=\"line current\"><span class=\"ws\">        </span>return self.ensure_sync(self.view_functions[rule.endpoint])(**req.view_args)</pre>\n<pre class=\"line after\"><span class=\"ws\"></span> </pre>\n<pre class=\"line after\"><span class=\"ws\">    </span>def full_dispatch_request(self) -&gt; Response:</pre>\n<pre class=\"line after\"><span class=\"ws\">        </span>&quot;&quot;&quot;Dispatches the request and on top of that performs request</pre>\n<pre class=\"line after\"><span class=\"ws\">        </span>pre and postprocessing as well as HTTP exception catching and</pre>\n<pre class=\"line after\"><span class=\"ws\">        </span>error handling.</pre></div>\n</div>\n\n<li><div class=\"frame\" id=\"frame-2200119870464\">\n  <h4>File <cite class=\"filename\">\"C:\\Users\\Marcos\\Projects\\HI_Cross_sell\\api_class\\handler.py\"</cite>,\n      line <em class=\"line\">35</em>,\n      in <code class=\"function\">health_insurance_predict</code></h4>\n  <div class=\"source \"><pre class=\"line before\"><span class=\"ws\"></span> </pre>\n<pre class=\"line before\"><span class=\"ws\">        </span># data preparation</pre>\n<pre class=\"line before\"><span class=\"ws\">        </span>df3 = pipeline.data_preparation( df2 )</pre>\n<pre class=\"line before\"><span class=\"ws\"></span> </pre>\n<pre class=\"line before\"><span class=\"ws\">        </span># prediction</pre>\n<pre class=\"line current\"><span class=\"ws\">        </span>df_response = pipeline.get_predictions( model, test_raw, df3 )</pre>\n<pre class=\"line after\"><span class=\"ws\"></span> </pre>\n<pre class=\"line after\"><span class=\"ws\">        </span>return df_response</pre>\n<pre class=\"line after\"><span class=\"ws\"></span> </pre>\n<pre class=\"line after\"><span class=\"ws\">    </span>else:</pre>\n<pre class=\"line after\"><span class=\"ws\">        </span>return Response( &#x27;{}&#x27;, status=200, mimetype=&#x27;application/json&#x27; )</pre></div>\n</div>\n\n<li><div class=\"frame\" id=\"frame-2200119872480\">\n  <h4>File <cite class=\"filename\">\"C:\\Users\\Marcos\\Projects\\HI_Cross_sell\\api_class\\healthinsurance\\HealthInsurance.py\"</cite>,\n      line <em class=\"line\">69</em>,\n      in <code class=\"function\">get_predictions</code></h4>\n  <div class=\"source \"><pre class=\"line before\"><span class=\"ws\"></span> </pre>\n<pre class=\"line before\"><span class=\"ws\">        </span>return df5</pre>\n<pre class=\"line before\"><span class=\"ws\"></span> </pre>\n<pre class=\"line before\"><span class=\"ws\">    </span>def get_predictions( self, model, original_data, test_data ):</pre>\n<pre class=\"line before\"><span class=\"ws\"></span> </pre>\n<pre class=\"line current\"><span class=\"ws\">        </span>pred = pd.DataFrame( model.predict_proba( test_data ) )[1]</pre>\n<pre class=\"line after\"><span class=\"ws\"></span> </pre>\n<pre class=\"line after\"><span class=\"ws\">        </span>original_data[&#x27;score&#x27;] = pred</pre>\n<pre class=\"line after\"><span class=\"ws\">        </span>original_data = original_data.sort_values( &#x27;score&#x27;, ascending=False )</pre>\n<pre class=\"line after\"><span class=\"ws\"></span> </pre>\n<pre class=\"line after\"><span class=\"ws\">        </span>return original_data.to_json( orient=&#x27;records&#x27;, date_format=&#x27;iso&#x27; )</pre></div>\n</div>\n\n<li><div class=\"frame\" id=\"frame-2200119870416\">\n  <h4>File <cite class=\"filename\">\"C:\\Users\\Marcos\\Projects\\HI_Cross_sell\\env\\Lib\\site-packages\\sklearn\\linear_model\\_logistic.py\"</cite>,\n      line <em class=\"line\">1670</em>,\n      in <code class=\"function\">predict_proba</code></h4>\n  <div class=\"source library\"><pre class=\"line before\"><span class=\"ws\">        </span>ovr = self.multi_class in [&quot;ovr&quot;, &quot;warn&quot;] or (</pre>\n<pre class=\"line before\"><span class=\"ws\">            </span>self.multi_class == &quot;auto&quot;</pre>\n<pre class=\"line before\"><span class=\"ws\">            </span>and (self.classes_.size &lt;= 2 or self.solver == &quot;liblinear&quot;)</pre>\n<pre class=\"line before\"><span class=\"ws\">        </span>)</pre>\n<pre class=\"line before\"><span class=\"ws\">        </span>if ovr:</pre>\n<pre class=\"line current\"><span class=\"ws\">            </span>return super()._predict_proba_lr(X)</pre>\n<pre class=\"line after\"><span class=\"ws\">        </span>else:</pre>\n<pre class=\"line after\"><span class=\"ws\">            </span>decision = self.decision_function(X)</pre>\n<pre class=\"line after\"><span class=\"ws\">            </span>if decision.ndim == 1:</pre>\n<pre class=\"line after\"><span class=\"ws\">                </span># Workaround for multi_class=&quot;multinomial&quot; and binary outcomes</pre>\n<pre class=\"line after\"><span class=\"ws\">                </span># which requires softmax prediction with only a 1D decision.</pre></div>\n</div>\n\n<li><div class=\"frame\" id=\"frame-2200119871280\">\n  <h4>File <cite class=\"filename\">\"C:\\Users\\Marcos\\Projects\\HI_Cross_sell\\env\\Lib\\site-packages\\sklearn\\linear_model\\_base.py\"</cite>,\n      line <em class=\"line\">439</em>,\n      in <code class=\"function\">_predict_proba_lr</code></h4>\n  <div class=\"source library\"><pre class=\"line before\"><span class=\"ws\"></span> </pre>\n<pre class=\"line before\"><span class=\"ws\">        </span>Positive class probabilities are computed as</pre>\n<pre class=\"line before\"><span class=\"ws\">        </span>1. / (1. + np.exp(-self.decision_function(X)));</pre>\n<pre class=\"line before\"><span class=\"ws\">        </span>multiclass is handled by normalizing that over all classes.</pre>\n<pre class=\"line before\"><span class=\"ws\">        </span>&quot;&quot;&quot;</pre>\n<pre class=\"line current\"><span class=\"ws\">        </span>prob = self.decision_function(X)</pre>\n<pre class=\"line after\"><span class=\"ws\">        </span>expit(prob, out=prob)</pre>\n<pre class=\"line after\"><span class=\"ws\">        </span>if prob.ndim == 1:</pre>\n<pre class=\"line after\"><span class=\"ws\">            </span>return np.vstack([1 - prob, prob]).T</pre>\n<pre class=\"line after\"><span class=\"ws\">        </span>else:</pre>\n<pre class=\"line after\"><span class=\"ws\">            </span># OvR normalization, like LibLinear&#x27;s predict_probability</pre></div>\n</div>\n\n<li><div class=\"frame\" id=\"frame-2200119871184\">\n  <h4>File <cite class=\"filename\">\"C:\\Users\\Marcos\\Projects\\HI_Cross_sell\\env\\Lib\\site-packages\\sklearn\\linear_model\\_base.py\"</cite>,\n      line <em class=\"line\">407</em>,\n      in <code class=\"function\">decision_function</code></h4>\n  <div class=\"source library\"><pre class=\"line before\"><span class=\"ws\">            </span>binary case, confidence score for `self.classes_[1]` where &gt;0 means</pre>\n<pre class=\"line before\"><span class=\"ws\">            </span>this class would be predicted.</pre>\n<pre class=\"line before\"><span class=\"ws\">        </span>&quot;&quot;&quot;</pre>\n<pre class=\"line before\"><span class=\"ws\">        </span>check_is_fitted(self)</pre>\n<pre class=\"line before\"><span class=\"ws\"></span> </pre>\n<pre class=\"line current\"><span class=\"ws\">        </span>X = self._validate_data(X, accept_sparse=&quot;csr&quot;, reset=False)</pre>\n<pre class=\"line after\"><span class=\"ws\">        </span>scores = safe_sparse_dot(X, self.coef_.T, dense_output=True) + self.intercept_</pre>\n<pre class=\"line after\"><span class=\"ws\">        </span>return scores.ravel() if scores.shape[1] == 1 else scores</pre>\n<pre class=\"line after\"><span class=\"ws\"></span> </pre>\n<pre class=\"line after\"><span class=\"ws\">    </span>def predict(self, X):</pre>\n<pre class=\"line after\"><span class=\"ws\">        </span>&quot;&quot;&quot;</pre></div>\n</div>\n\n<li><div class=\"frame\" id=\"frame-2200119872144\">\n  <h4>File <cite class=\"filename\">\"C:\\Users\\Marcos\\Projects\\HI_Cross_sell\\env\\Lib\\site-packages\\sklearn\\base.py\"</cite>,\n      line <em class=\"line\">566</em>,\n      in <code class=\"function\">_validate_data</code></h4>\n  <div class=\"source library\"><pre class=\"line before\"><span class=\"ws\">        </span>no_val_y = y is None or isinstance(y, str) and y == &quot;no_validation&quot;</pre>\n<pre class=\"line before\"><span class=\"ws\"></span> </pre>\n<pre class=\"line before\"><span class=\"ws\">        </span>if no_val_X and no_val_y:</pre>\n<pre class=\"line before\"><span class=\"ws\">            </span>raise ValueError(&quot;Validation should be done on X, y or both.&quot;)</pre>\n<pre class=\"line before\"><span class=\"ws\">        </span>elif not no_val_X and no_val_y:</pre>\n<pre class=\"line current\"><span class=\"ws\">            </span>X = check_array(X, **check_params)</pre>\n<pre class=\"line after\"><span class=\"ws\">            </span>out = X</pre>\n<pre class=\"line after\"><span class=\"ws\">        </span>elif no_val_X and not no_val_y:</pre>\n<pre class=\"line after\"><span class=\"ws\">            </span>y = _check_y(y, **check_params)</pre>\n<pre class=\"line after\"><span class=\"ws\">            </span>out = y</pre>\n<pre class=\"line after\"><span class=\"ws\">        </span>else:</pre></div>\n</div>\n\n<li><div class=\"frame\" id=\"frame-2200119872096\">\n  <h4>File <cite class=\"filename\">\"C:\\Users\\Marcos\\Projects\\HI_Cross_sell\\env\\Lib\\site-packages\\sklearn\\utils\\validation.py\"</cite>,\n      line <em class=\"line\">800</em>,\n      in <code class=\"function\">check_array</code></h4>\n  <div class=\"source library\"><pre class=\"line before\"><span class=\"ws\">                </span>&quot;Found array with dim %d. %s expected &lt;= 2.&quot;</pre>\n<pre class=\"line before\"><span class=\"ws\">                </span>% (array.ndim, estimator_name)</pre>\n<pre class=\"line before\"><span class=\"ws\">            </span>)</pre>\n<pre class=\"line before\"><span class=\"ws\"></span> </pre>\n<pre class=\"line before\"><span class=\"ws\">        </span>if force_all_finite:</pre>\n<pre class=\"line current\"><span class=\"ws\">            </span>_assert_all_finite(array, allow_nan=force_all_finite == &quot;allow-nan&quot;)</pre>\n<pre class=\"line after\"><span class=\"ws\"></span> </pre>\n<pre class=\"line after\"><span class=\"ws\">    </span>if ensure_min_samples &gt; 0:</pre>\n<pre class=\"line after\"><span class=\"ws\">        </span>n_samples = _num_samples(array)</pre>\n<pre class=\"line after\"><span class=\"ws\">        </span>if n_samples &lt; ensure_min_samples:</pre>\n<pre class=\"line after\"><span class=\"ws\">            </span>raise ValueError(</pre></div>\n</div>\n\n<li><div class=\"frame\" id=\"frame-2200119871328\">\n  <h4>File <cite class=\"filename\">\"C:\\Users\\Marcos\\Projects\\HI_Cross_sell\\env\\Lib\\site-packages\\sklearn\\utils\\validation.py\"</cite>,\n      line <em class=\"line\">114</em>,\n      in <code class=\"function\">_assert_all_finite</code></h4>\n  <div class=\"source library\"><pre class=\"line before\"><span class=\"ws\">            </span>and np.isinf(X).any()</pre>\n<pre class=\"line before\"><span class=\"ws\">            </span>or not allow_nan</pre>\n<pre class=\"line before\"><span class=\"ws\">            </span>and not np.isfinite(X).all()</pre>\n<pre class=\"line before\"><span class=\"ws\">        </span>):</pre>\n<pre class=\"line before\"><span class=\"ws\">            </span>type_err = &quot;infinity&quot; if allow_nan else &quot;NaN, infinity&quot;</pre>\n<pre class=\"line current\"><span class=\"ws\">            </span>raise ValueError(</pre>\n<pre class=\"line after\"><span class=\"ws\">                </span>msg_err.format(</pre>\n<pre class=\"line after\"><span class=\"ws\">                    </span>type_err, msg_dtype if msg_dtype is not None else X.dtype</pre>\n<pre class=\"line after\"><span class=\"ws\">                </span>)</pre>\n<pre class=\"line after\"><span class=\"ws\">            </span>)</pre>\n<pre class=\"line after\"><span class=\"ws\">    </span># for object dtype data, we only check for NaNs (GH-13254)</pre></div>\n</div>\n</ul>\n  <blockquote>ValueError: Input contains NaN, infinity or a value too large for dtype(&#x27;float64&#x27;).</blockquote>\n</div>\n\n<div class=\"plain\">\n    <p>\n      This is the Copy/Paste friendly version of the traceback.\n    </p>\n    <textarea cols=\"50\" rows=\"10\" name=\"code\" readonly>Traceback (most recent call last):\n  File &quot;C:\\Users\\Marcos\\Projects\\HI_Cross_sell\\env\\Lib\\site-packages\\flask\\app.py&quot;, line 2091, in __call__\n    return self.wsgi_app(environ, start_response)\n  File &quot;C:\\Users\\Marcos\\Projects\\HI_Cross_sell\\env\\Lib\\site-packages\\flask\\app.py&quot;, line 2076, in wsgi_app\n    response = self.handle_exception(e)\n  File &quot;C:\\Users\\Marcos\\Projects\\HI_Cross_sell\\env\\Lib\\site-packages\\flask\\app.py&quot;, line 2073, in wsgi_app\n    response = self.full_dispatch_request()\n  File &quot;C:\\Users\\Marcos\\Projects\\HI_Cross_sell\\env\\Lib\\site-packages\\flask\\app.py&quot;, line 1518, in full_dispatch_request\n    rv = self.handle_user_exception(e)\n  File &quot;C:\\Users\\Marcos\\Projects\\HI_Cross_sell\\env\\Lib\\site-packages\\flask\\app.py&quot;, line 1516, in full_dispatch_request\n    rv = self.dispatch_request()\n  File &quot;C:\\Users\\Marcos\\Projects\\HI_Cross_sell\\env\\Lib\\site-packages\\flask\\app.py&quot;, line 1502, in dispatch_request\n    return self.ensure_sync(self.view_functions[rule.endpoint])(**req.view_args)\n  File &quot;C:\\Users\\Marcos\\Projects\\HI_Cross_sell\\api_class\\handler.py&quot;, line 35, in health_insurance_predict\n    df_response = pipeline.get_predictions( model, test_raw, df3 )\n  File &quot;C:\\Users\\Marcos\\Projects\\HI_Cross_sell\\api_class\\healthinsurance\\HealthInsurance.py&quot;, line 69, in get_predictions\n    pred = pd.DataFrame( model.predict_proba( test_data ) )[1]\n  File &quot;C:\\Users\\Marcos\\Projects\\HI_Cross_sell\\env\\Lib\\site-packages\\sklearn\\linear_model\\_logistic.py&quot;, line 1670, in predict_proba\n    return super()._predict_proba_lr(X)\n  File &quot;C:\\Users\\Marcos\\Projects\\HI_Cross_sell\\env\\Lib\\site-packages\\sklearn\\linear_model\\_base.py&quot;, line 439, in _predict_proba_lr\n    prob = self.decision_function(X)\n  File &quot;C:\\Users\\Marcos\\Projects\\HI_Cross_sell\\env\\Lib\\site-packages\\sklearn\\linear_model\\_base.py&quot;, line 407, in decision_function\n    X = self._validate_data(X, accept_sparse=&quot;csr&quot;, reset=False)\n  File &quot;C:\\Users\\Marcos\\Projects\\HI_Cross_sell\\env\\Lib\\site-packages\\sklearn\\base.py&quot;, line 566, in _validate_data\n    X = check_array(X, **check_params)\n  File &quot;C:\\Users\\Marcos\\Projects\\HI_Cross_sell\\env\\Lib\\site-packages\\sklearn\\utils\\validation.py&quot;, line 800, in check_array\n    _assert_all_finite(array, allow_nan=force_all_finite == &quot;allow-nan&quot;)\n  File &quot;C:\\Users\\Marcos\\Projects\\HI_Cross_sell\\env\\Lib\\site-packages\\sklearn\\utils\\validation.py&quot;, line 114, in _assert_all_finite\n    raise ValueError(\nValueError: Input contains NaN, infinity or a value too large for dtype(&#x27;float64&#x27;).</textarea>\n</div>\n<div class=\"explanation\">\n  The debugger caught an exception in your WSGI application.  You can now\n  look at the traceback which led to the error.  <span class=\"nojavascript\">\n  If you enable JavaScript you can also use additional features such as code\n  execution (if the evalex feature is enabled), automatic pasting of the\n  exceptions and much more.</span>\n</div>\n      <div class=\"footer\">\n        Brought to you by <strong class=\"arthur\">DON'T PANIC</strong>, your\n        friendly Werkzeug powered traceback interpreter.\n      </div>\n    </div>\n\n    <div class=\"pin-prompt\">\n      <div class=\"inner\">\n        <h3>Console Locked</h3>\n        <p>\n          The console is locked and needs to be unlocked by entering the PIN.\n          You can find the PIN printed out on the standard output of your\n          shell that runs the server.\n        <form>\n          <p>PIN:\n            <input type=text name=pin size=14>\n            <input type=submit name=btn value=\"Confirm Pin\">\n        </form>\n      </div>\n    </div>\n  </body>\n</html>\n\n<!--\n\nTraceback (most recent call last):\n  File \"C:\\Users\\Marcos\\Projects\\HI_Cross_sell\\env\\Lib\\site-packages\\flask\\app.py\", line 2091, in __call__\n    return self.wsgi_app(environ, start_response)\n  File \"C:\\Users\\Marcos\\Projects\\HI_Cross_sell\\env\\Lib\\site-packages\\flask\\app.py\", line 2076, in wsgi_app\n    response = self.handle_exception(e)\n  File \"C:\\Users\\Marcos\\Projects\\HI_Cross_sell\\env\\Lib\\site-packages\\flask\\app.py\", line 2073, in wsgi_app\n    response = self.full_dispatch_request()\n  File \"C:\\Users\\Marcos\\Projects\\HI_Cross_sell\\env\\Lib\\site-packages\\flask\\app.py\", line 1518, in full_dispatch_request\n    rv = self.handle_user_exception(e)\n  File \"C:\\Users\\Marcos\\Projects\\HI_Cross_sell\\env\\Lib\\site-packages\\flask\\app.py\", line 1516, in full_dispatch_request\n    rv = self.dispatch_request()\n  File \"C:\\Users\\Marcos\\Projects\\HI_Cross_sell\\env\\Lib\\site-packages\\flask\\app.py\", line 1502, in dispatch_request\n    return self.ensure_sync(self.view_functions[rule.endpoint])(**req.view_args)\n  File \"C:\\Users\\Marcos\\Projects\\HI_Cross_sell\\api_class\\handler.py\", line 35, in health_insurance_predict\n    df_response = pipeline.get_predictions( model, test_raw, df3 )\n  File \"C:\\Users\\Marcos\\Projects\\HI_Cross_sell\\api_class\\healthinsurance\\HealthInsurance.py\", line 69, in get_predictions\n    pred = pd.DataFrame( model.predict_proba( test_data ) )[1]\n  File \"C:\\Users\\Marcos\\Projects\\HI_Cross_sell\\env\\Lib\\site-packages\\sklearn\\linear_model\\_logistic.py\", line 1670, in predict_proba\n    return super()._predict_proba_lr(X)\n  File \"C:\\Users\\Marcos\\Projects\\HI_Cross_sell\\env\\Lib\\site-packages\\sklearn\\linear_model\\_base.py\", line 439, in _predict_proba_lr\n    prob = self.decision_function(X)\n  File \"C:\\Users\\Marcos\\Projects\\HI_Cross_sell\\env\\Lib\\site-packages\\sklearn\\linear_model\\_base.py\", line 407, in decision_function\n    X = self._validate_data(X, accept_sparse=\"csr\", reset=False)\n  File \"C:\\Users\\Marcos\\Projects\\HI_Cross_sell\\env\\Lib\\site-packages\\sklearn\\base.py\", line 566, in _validate_data\n    X = check_array(X, **check_params)\n  File \"C:\\Users\\Marcos\\Projects\\HI_Cross_sell\\env\\Lib\\site-packages\\sklearn\\utils\\validation.py\", line 800, in check_array\n    _assert_all_finite(array, allow_nan=force_all_finite == \"allow-nan\")\n  File \"C:\\Users\\Marcos\\Projects\\HI_Cross_sell\\env\\Lib\\site-packages\\sklearn\\utils\\validation.py\", line 114, in _assert_all_finite\n    raise ValueError(\nValueError: Input contains NaN, infinity or a value too large for dtype('float64').\n\n-->\n: 0"
     ]
    }
   ],
   "source": [
    "r.json()"
   ]
  },
  {
   "cell_type": "code",
   "execution_count": null,
   "id": "85c49676",
   "metadata": {
    "ExecuteTime": {
     "end_time": "2022-01-31T20:03:01.710799Z",
     "start_time": "2022-01-31T20:03:01.710799Z"
    }
   },
   "outputs": [],
   "source": [
    "df_response = pd.DataFrame( r.json(), columns=r.json()[0].keys() )\n",
    "df_response.head()"
   ]
  },
  {
   "cell_type": "code",
   "execution_count": null,
   "id": "8bba9975",
   "metadata": {},
   "outputs": [],
   "source": []
  }
 ],
 "metadata": {
  "kernelspec": {
   "display_name": "Python 3 (ipykernel)",
   "language": "python",
   "name": "python3"
  },
  "language_info": {
   "codemirror_mode": {
    "name": "ipython",
    "version": 3
   },
   "file_extension": ".py",
   "mimetype": "text/x-python",
   "name": "python",
   "nbconvert_exporter": "python",
   "pygments_lexer": "ipython3",
   "version": "3.9.6"
  },
  "varInspector": {
   "cols": {
    "lenName": 16,
    "lenType": 16,
    "lenVar": 40
   },
   "kernels_config": {
    "python": {
     "delete_cmd_postfix": "",
     "delete_cmd_prefix": "del ",
     "library": "var_list.py",
     "varRefreshCmd": "print(var_dic_list())"
    },
    "r": {
     "delete_cmd_postfix": ") ",
     "delete_cmd_prefix": "rm(",
     "library": "var_list.r",
     "varRefreshCmd": "cat(var_dic_list()) "
    }
   },
   "types_to_exclude": [
    "module",
    "function",
    "builtin_function_or_method",
    "instance",
    "_Feature"
   ],
   "window_display": false
  }
 },
 "nbformat": 4,
 "nbformat_minor": 5
}
