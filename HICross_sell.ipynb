{
 "cells": [
  {
   "cell_type": "markdown",
   "id": "68bb6d5a",
   "metadata": {},
   "source": [
    "# 0.0. Imports"
   ]
  },
  {
   "cell_type": "code",
   "execution_count": 1,
   "id": "f4bb05ed",
   "metadata": {
    "ExecuteTime": {
     "end_time": "2022-01-27T16:03:11.864750Z",
     "start_time": "2022-01-27T16:03:08.003339Z"
    }
   },
   "outputs": [],
   "source": [
    "import inflection\n",
    "\n",
    "import pandas            as pd\n",
    "import numpy             as np\n",
    "import seaborn           as sns\n",
    "import matplotlib.pyplot as plt\n",
    "\n",
    "from config     import config\n",
    "from sqlalchemy import create_engine"
   ]
  },
  {
   "cell_type": "code",
   "execution_count": 2,
   "id": "53ffbea8",
   "metadata": {
    "ExecuteTime": {
     "end_time": "2022-01-27T16:03:11.926034Z",
     "start_time": "2022-01-27T16:03:11.882749Z"
    }
   },
   "outputs": [],
   "source": [
    "pallete  = sns.color_palette(sns.diverging_palette(250, 10, s=75, l=45, n=9))\n",
    "pallete2 = sns.color_palette(sns.diverging_palette(45, 200, s=75, l=45, n=9)) \n",
    "\n",
    "%matplotlib inline\n",
    "plt.rcParams['figure.figsize'] = [13, 8]\n",
    "\n",
    "sns.set_palette( pallete )\n",
    "sns.set_style('darkgrid')"
   ]
  },
  {
   "cell_type": "markdown",
   "id": "a374ab10",
   "metadata": {},
   "source": [
    "# 0.1. Help Functions "
   ]
  },
  {
   "cell_type": "code",
   "execution_count": 3,
   "id": "07600d27",
   "metadata": {
    "ExecuteTime": {
     "end_time": "2022-01-27T16:03:11.957053Z",
     "start_time": "2022-01-27T16:03:11.946786Z"
    }
   },
   "outputs": [],
   "source": [
    "def numeric_statistics( df ):\n",
    "    dic = {\n",
    "        \"type\": df.dtypes.values,\n",
    "        \"Unique_Values\": df.nunique().values,\n",
    "        \"Mean\": df.mean(),\n",
    "        \"Median\": df.median(),\n",
    "        \"Std\": df.std(),\n",
    "        \"Min\": df.min(),\n",
    "        \"Max\": df.max(),\n",
    "        \"Range\": df.max() - df.min(),\n",
    "        \"Skew\": df.skew(),\n",
    "        \"Kurtosis\": df.kurtosis()\n",
    "    }\n",
    "    \n",
    "    return pd.DataFrame( dic, index=df.columns )"
   ]
  },
  {
   "cell_type": "markdown",
   "id": "782eeeec",
   "metadata": {},
   "source": [
    "# 0.2. Loading Data"
   ]
  },
  {
   "cell_type": "code",
   "execution_count": 4,
   "id": "db0f5530",
   "metadata": {
    "ExecuteTime": {
     "end_time": "2022-01-27T16:03:13.590186Z",
     "start_time": "2022-01-27T16:03:12.814964Z"
    }
   },
   "outputs": [],
   "source": [
    "df_raw = pd.read_csv( 'data/train.csv' )"
   ]
  },
  {
   "cell_type": "markdown",
   "id": "534d84b1",
   "metadata": {},
   "source": [
    "# 1.0. Data Description"
   ]
  },
  {
   "cell_type": "code",
   "execution_count": 5,
   "id": "cb2f42a7",
   "metadata": {
    "ExecuteTime": {
     "end_time": "2022-01-27T16:03:15.079345Z",
     "start_time": "2022-01-27T16:03:15.061183Z"
    }
   },
   "outputs": [],
   "source": [
    "df1 = df_raw.copy()"
   ]
  },
  {
   "cell_type": "code",
   "execution_count": 6,
   "id": "9e2bf13b",
   "metadata": {
    "ExecuteTime": {
     "end_time": "2022-01-27T16:03:15.388636Z",
     "start_time": "2022-01-27T16:03:15.376104Z"
    }
   },
   "outputs": [],
   "source": [
    "# rename columns\n",
    "old_columns = ['id', 'Gender', 'Age', 'Driving_License', 'Region_Code',\n",
    "       'Previously_Insured', 'Vehicle_Age', 'Vehicle_Damage', 'Annual_Premium',\n",
    "       'Policy_Sales_Channel', 'Vintage', 'Response']\n",
    "\n",
    "snakecase = lambda x: inflection.underscore( x )\n",
    "new_columns = list( map( snakecase, old_columns ) )\n",
    "\n",
    "df1.columns = new_columns"
   ]
  },
  {
   "cell_type": "markdown",
   "id": "7438e750",
   "metadata": {},
   "source": [
    "## 1.1. Data Dimension"
   ]
  },
  {
   "cell_type": "code",
   "execution_count": 7,
   "id": "1f108819",
   "metadata": {
    "ExecuteTime": {
     "end_time": "2022-01-27T16:03:16.138025Z",
     "start_time": "2022-01-27T16:03:16.126083Z"
    }
   },
   "outputs": [
    {
     "name": "stdout",
     "output_type": "stream",
     "text": [
      "Number of Rows: 381109\n",
      "Number of Columns: 12\n"
     ]
    }
   ],
   "source": [
    "print( f'Number of Rows: {df1.shape[0]}' )\n",
    "print( f'Number of Columns: {df1.shape[1]}' )"
   ]
  },
  {
   "cell_type": "markdown",
   "id": "b2400926",
   "metadata": {},
   "source": [
    "## 1.2. Data Types"
   ]
  },
  {
   "cell_type": "code",
   "execution_count": 8,
   "id": "7e342746",
   "metadata": {
    "ExecuteTime": {
     "end_time": "2022-01-27T16:03:18.615951Z",
     "start_time": "2022-01-27T16:03:18.591098Z"
    }
   },
   "outputs": [
    {
     "data": {
      "text/plain": [
       "id                        int64\n",
       "gender                   object\n",
       "age                       int64\n",
       "driving_license           int64\n",
       "region_code             float64\n",
       "previously_insured        int64\n",
       "vehicle_age              object\n",
       "vehicle_damage           object\n",
       "annual_premium          float64\n",
       "policy_sales_channel    float64\n",
       "vintage                   int64\n",
       "response                  int64\n",
       "dtype: object"
      ]
     },
     "execution_count": 8,
     "metadata": {},
     "output_type": "execute_result"
    }
   ],
   "source": [
    "df1.dtypes"
   ]
  },
  {
   "cell_type": "markdown",
   "id": "740bd278",
   "metadata": {},
   "source": [
    "## 1.3. Check NA"
   ]
  },
  {
   "cell_type": "code",
   "execution_count": 9,
   "id": "1fd0082f",
   "metadata": {
    "ExecuteTime": {
     "end_time": "2022-01-27T16:03:22.808982Z",
     "start_time": "2022-01-27T16:03:22.528842Z"
    }
   },
   "outputs": [
    {
     "data": {
      "text/plain": [
       "id                      0\n",
       "gender                  0\n",
       "age                     0\n",
       "driving_license         0\n",
       "region_code             0\n",
       "previously_insured      0\n",
       "vehicle_age             0\n",
       "vehicle_damage          0\n",
       "annual_premium          0\n",
       "policy_sales_channel    0\n",
       "vintage                 0\n",
       "response                0\n",
       "dtype: int64"
      ]
     },
     "execution_count": 9,
     "metadata": {},
     "output_type": "execute_result"
    }
   ],
   "source": [
    "df1.isnull().sum()"
   ]
  },
  {
   "cell_type": "markdown",
   "id": "08d57dc6",
   "metadata": {},
   "source": [
    "## 1.4. Data Descriptive"
   ]
  },
  {
   "cell_type": "code",
   "execution_count": 10,
   "id": "a14e88c4",
   "metadata": {
    "ExecuteTime": {
     "end_time": "2022-01-27T16:03:23.073897Z",
     "start_time": "2022-01-27T16:03:23.052895Z"
    }
   },
   "outputs": [],
   "source": [
    "num_attributes = df1.select_dtypes( include=['int64','float64'] )\n",
    "cat_attributes = df1.select_dtypes( exclude=['int64','float64'] )"
   ]
  },
  {
   "cell_type": "markdown",
   "id": "c4fa33f2",
   "metadata": {},
   "source": [
    "Descriptive Analysis for each numeric variable. It might be important to take a look at some behavior that a variable might have initially.\n",
    "\n",
    "1. For instance, I'm able to see the variable 'age' has 66 different values which start from 20 years to 85, and it has its mean and median value close.\n",
    "\n",
    "2. As seen the target variable has a binary result ( '0' or '1' )"
   ]
  },
  {
   "cell_type": "code",
   "execution_count": 11,
   "id": "80d41075",
   "metadata": {
    "ExecuteTime": {
     "end_time": "2022-01-27T16:03:24.696254Z",
     "start_time": "2022-01-27T16:03:24.098373Z"
    }
   },
   "outputs": [
    {
     "data": {
      "text/html": [
       "<div>\n",
       "<style scoped>\n",
       "    .dataframe tbody tr th:only-of-type {\n",
       "        vertical-align: middle;\n",
       "    }\n",
       "\n",
       "    .dataframe tbody tr th {\n",
       "        vertical-align: top;\n",
       "    }\n",
       "\n",
       "    .dataframe thead th {\n",
       "        text-align: right;\n",
       "    }\n",
       "</style>\n",
       "<table border=\"1\" class=\"dataframe\">\n",
       "  <thead>\n",
       "    <tr style=\"text-align: right;\">\n",
       "      <th></th>\n",
       "      <th>type</th>\n",
       "      <th>Unique_Values</th>\n",
       "      <th>Mean</th>\n",
       "      <th>Median</th>\n",
       "      <th>Std</th>\n",
       "      <th>Min</th>\n",
       "      <th>Max</th>\n",
       "      <th>Range</th>\n",
       "      <th>Skew</th>\n",
       "      <th>Kurtosis</th>\n",
       "    </tr>\n",
       "  </thead>\n",
       "  <tbody>\n",
       "    <tr>\n",
       "      <th>id</th>\n",
       "      <td>int64</td>\n",
       "      <td>381109</td>\n",
       "      <td>190555.000000</td>\n",
       "      <td>190555.0</td>\n",
       "      <td>110016.836208</td>\n",
       "      <td>1.0</td>\n",
       "      <td>381109.0</td>\n",
       "      <td>381108.0</td>\n",
       "      <td>9.443274e-16</td>\n",
       "      <td>-1.200000</td>\n",
       "    </tr>\n",
       "    <tr>\n",
       "      <th>age</th>\n",
       "      <td>int64</td>\n",
       "      <td>66</td>\n",
       "      <td>38.822584</td>\n",
       "      <td>36.0</td>\n",
       "      <td>15.511611</td>\n",
       "      <td>20.0</td>\n",
       "      <td>85.0</td>\n",
       "      <td>65.0</td>\n",
       "      <td>6.725390e-01</td>\n",
       "      <td>-0.565655</td>\n",
       "    </tr>\n",
       "    <tr>\n",
       "      <th>driving_license</th>\n",
       "      <td>int64</td>\n",
       "      <td>2</td>\n",
       "      <td>0.997869</td>\n",
       "      <td>1.0</td>\n",
       "      <td>0.046110</td>\n",
       "      <td>0.0</td>\n",
       "      <td>1.0</td>\n",
       "      <td>1.0</td>\n",
       "      <td>-2.159518e+01</td>\n",
       "      <td>464.354302</td>\n",
       "    </tr>\n",
       "    <tr>\n",
       "      <th>region_code</th>\n",
       "      <td>float64</td>\n",
       "      <td>53</td>\n",
       "      <td>26.388807</td>\n",
       "      <td>28.0</td>\n",
       "      <td>13.229888</td>\n",
       "      <td>0.0</td>\n",
       "      <td>52.0</td>\n",
       "      <td>52.0</td>\n",
       "      <td>-1.152664e-01</td>\n",
       "      <td>-0.867857</td>\n",
       "    </tr>\n",
       "    <tr>\n",
       "      <th>previously_insured</th>\n",
       "      <td>int64</td>\n",
       "      <td>2</td>\n",
       "      <td>0.458210</td>\n",
       "      <td>0.0</td>\n",
       "      <td>0.498251</td>\n",
       "      <td>0.0</td>\n",
       "      <td>1.0</td>\n",
       "      <td>1.0</td>\n",
       "      <td>1.677471e-01</td>\n",
       "      <td>-1.971871</td>\n",
       "    </tr>\n",
       "    <tr>\n",
       "      <th>annual_premium</th>\n",
       "      <td>float64</td>\n",
       "      <td>48838</td>\n",
       "      <td>30564.389581</td>\n",
       "      <td>31669.0</td>\n",
       "      <td>17213.155057</td>\n",
       "      <td>2630.0</td>\n",
       "      <td>540165.0</td>\n",
       "      <td>537535.0</td>\n",
       "      <td>1.766087e+00</td>\n",
       "      <td>34.004569</td>\n",
       "    </tr>\n",
       "    <tr>\n",
       "      <th>policy_sales_channel</th>\n",
       "      <td>float64</td>\n",
       "      <td>155</td>\n",
       "      <td>112.034295</td>\n",
       "      <td>133.0</td>\n",
       "      <td>54.203995</td>\n",
       "      <td>1.0</td>\n",
       "      <td>163.0</td>\n",
       "      <td>162.0</td>\n",
       "      <td>-9.000081e-01</td>\n",
       "      <td>-0.970810</td>\n",
       "    </tr>\n",
       "    <tr>\n",
       "      <th>vintage</th>\n",
       "      <td>int64</td>\n",
       "      <td>290</td>\n",
       "      <td>154.347397</td>\n",
       "      <td>154.0</td>\n",
       "      <td>83.671304</td>\n",
       "      <td>10.0</td>\n",
       "      <td>299.0</td>\n",
       "      <td>289.0</td>\n",
       "      <td>3.029517e-03</td>\n",
       "      <td>-1.200688</td>\n",
       "    </tr>\n",
       "    <tr>\n",
       "      <th>response</th>\n",
       "      <td>int64</td>\n",
       "      <td>2</td>\n",
       "      <td>0.122563</td>\n",
       "      <td>0.0</td>\n",
       "      <td>0.327936</td>\n",
       "      <td>0.0</td>\n",
       "      <td>1.0</td>\n",
       "      <td>1.0</td>\n",
       "      <td>2.301906e+00</td>\n",
       "      <td>3.298788</td>\n",
       "    </tr>\n",
       "  </tbody>\n",
       "</table>\n",
       "</div>"
      ],
      "text/plain": [
       "                         type  Unique_Values           Mean    Median  \\\n",
       "id                      int64         381109  190555.000000  190555.0   \n",
       "age                     int64             66      38.822584      36.0   \n",
       "driving_license         int64              2       0.997869       1.0   \n",
       "region_code           float64             53      26.388807      28.0   \n",
       "previously_insured      int64              2       0.458210       0.0   \n",
       "annual_premium        float64          48838   30564.389581   31669.0   \n",
       "policy_sales_channel  float64            155     112.034295     133.0   \n",
       "vintage                 int64            290     154.347397     154.0   \n",
       "response                int64              2       0.122563       0.0   \n",
       "\n",
       "                                Std     Min       Max     Range          Skew  \\\n",
       "id                    110016.836208     1.0  381109.0  381108.0  9.443274e-16   \n",
       "age                       15.511611    20.0      85.0      65.0  6.725390e-01   \n",
       "driving_license            0.046110     0.0       1.0       1.0 -2.159518e+01   \n",
       "region_code               13.229888     0.0      52.0      52.0 -1.152664e-01   \n",
       "previously_insured         0.498251     0.0       1.0       1.0  1.677471e-01   \n",
       "annual_premium         17213.155057  2630.0  540165.0  537535.0  1.766087e+00   \n",
       "policy_sales_channel      54.203995     1.0     163.0     162.0 -9.000081e-01   \n",
       "vintage                   83.671304    10.0     299.0     289.0  3.029517e-03   \n",
       "response                   0.327936     0.0       1.0       1.0  2.301906e+00   \n",
       "\n",
       "                        Kurtosis  \n",
       "id                     -1.200000  \n",
       "age                    -0.565655  \n",
       "driving_license       464.354302  \n",
       "region_code            -0.867857  \n",
       "previously_insured     -1.971871  \n",
       "annual_premium         34.004569  \n",
       "policy_sales_channel   -0.970810  \n",
       "vintage                -1.200688  \n",
       "response                3.298788  "
      ]
     },
     "execution_count": 11,
     "metadata": {},
     "output_type": "execute_result"
    }
   ],
   "source": [
    "numeric_statistics( num_attributes )"
   ]
  },
  {
   "cell_type": "markdown",
   "id": "ab9acd1f",
   "metadata": {},
   "source": [
    "# 2.0. Feature Engineering"
   ]
  },
  {
   "cell_type": "code",
   "execution_count": 12,
   "id": "a249d37d",
   "metadata": {
    "ExecuteTime": {
     "end_time": "2022-01-27T16:03:27.055919Z",
     "start_time": "2022-01-27T16:03:27.035858Z"
    }
   },
   "outputs": [],
   "source": [
    "df2 = df1.copy()"
   ]
  },
  {
   "cell_type": "code",
   "execution_count": 13,
   "id": "1a75f3f1",
   "metadata": {
    "ExecuteTime": {
     "end_time": "2022-01-27T16:03:27.256159Z",
     "start_time": "2022-01-27T16:03:27.216903Z"
    }
   },
   "outputs": [
    {
     "data": {
      "text/html": [
       "<div>\n",
       "<style scoped>\n",
       "    .dataframe tbody tr th:only-of-type {\n",
       "        vertical-align: middle;\n",
       "    }\n",
       "\n",
       "    .dataframe tbody tr th {\n",
       "        vertical-align: top;\n",
       "    }\n",
       "\n",
       "    .dataframe thead th {\n",
       "        text-align: right;\n",
       "    }\n",
       "</style>\n",
       "<table border=\"1\" class=\"dataframe\">\n",
       "  <thead>\n",
       "    <tr style=\"text-align: right;\">\n",
       "      <th></th>\n",
       "      <th>id</th>\n",
       "      <th>gender</th>\n",
       "      <th>age</th>\n",
       "      <th>driving_license</th>\n",
       "      <th>region_code</th>\n",
       "      <th>previously_insured</th>\n",
       "      <th>vehicle_age</th>\n",
       "      <th>vehicle_damage</th>\n",
       "      <th>annual_premium</th>\n",
       "      <th>policy_sales_channel</th>\n",
       "      <th>vintage</th>\n",
       "      <th>response</th>\n",
       "    </tr>\n",
       "  </thead>\n",
       "  <tbody>\n",
       "    <tr>\n",
       "      <th>0</th>\n",
       "      <td>1</td>\n",
       "      <td>Male</td>\n",
       "      <td>44</td>\n",
       "      <td>1</td>\n",
       "      <td>28.0</td>\n",
       "      <td>0</td>\n",
       "      <td>&gt; 2 Years</td>\n",
       "      <td>Yes</td>\n",
       "      <td>40454.0</td>\n",
       "      <td>26.0</td>\n",
       "      <td>217</td>\n",
       "      <td>1</td>\n",
       "    </tr>\n",
       "    <tr>\n",
       "      <th>1</th>\n",
       "      <td>2</td>\n",
       "      <td>Male</td>\n",
       "      <td>76</td>\n",
       "      <td>1</td>\n",
       "      <td>3.0</td>\n",
       "      <td>0</td>\n",
       "      <td>1-2 Year</td>\n",
       "      <td>No</td>\n",
       "      <td>33536.0</td>\n",
       "      <td>26.0</td>\n",
       "      <td>183</td>\n",
       "      <td>0</td>\n",
       "    </tr>\n",
       "    <tr>\n",
       "      <th>2</th>\n",
       "      <td>3</td>\n",
       "      <td>Male</td>\n",
       "      <td>47</td>\n",
       "      <td>1</td>\n",
       "      <td>28.0</td>\n",
       "      <td>0</td>\n",
       "      <td>&gt; 2 Years</td>\n",
       "      <td>Yes</td>\n",
       "      <td>38294.0</td>\n",
       "      <td>26.0</td>\n",
       "      <td>27</td>\n",
       "      <td>1</td>\n",
       "    </tr>\n",
       "    <tr>\n",
       "      <th>3</th>\n",
       "      <td>4</td>\n",
       "      <td>Male</td>\n",
       "      <td>21</td>\n",
       "      <td>1</td>\n",
       "      <td>11.0</td>\n",
       "      <td>1</td>\n",
       "      <td>&lt; 1 Year</td>\n",
       "      <td>No</td>\n",
       "      <td>28619.0</td>\n",
       "      <td>152.0</td>\n",
       "      <td>203</td>\n",
       "      <td>0</td>\n",
       "    </tr>\n",
       "    <tr>\n",
       "      <th>4</th>\n",
       "      <td>5</td>\n",
       "      <td>Female</td>\n",
       "      <td>29</td>\n",
       "      <td>1</td>\n",
       "      <td>41.0</td>\n",
       "      <td>1</td>\n",
       "      <td>&lt; 1 Year</td>\n",
       "      <td>No</td>\n",
       "      <td>27496.0</td>\n",
       "      <td>152.0</td>\n",
       "      <td>39</td>\n",
       "      <td>0</td>\n",
       "    </tr>\n",
       "  </tbody>\n",
       "</table>\n",
       "</div>"
      ],
      "text/plain": [
       "   id  gender  age  driving_license  region_code  previously_insured  \\\n",
       "0   1    Male   44                1         28.0                   0   \n",
       "1   2    Male   76                1          3.0                   0   \n",
       "2   3    Male   47                1         28.0                   0   \n",
       "3   4    Male   21                1         11.0                   1   \n",
       "4   5  Female   29                1         41.0                   1   \n",
       "\n",
       "  vehicle_age vehicle_damage  annual_premium  policy_sales_channel  vintage  \\\n",
       "0   > 2 Years            Yes         40454.0                  26.0      217   \n",
       "1    1-2 Year             No         33536.0                  26.0      183   \n",
       "2   > 2 Years            Yes         38294.0                  26.0       27   \n",
       "3    < 1 Year             No         28619.0                 152.0      203   \n",
       "4    < 1 Year             No         27496.0                 152.0       39   \n",
       "\n",
       "   response  \n",
       "0         1  \n",
       "1         0  \n",
       "2         1  \n",
       "3         0  \n",
       "4         0  "
      ]
     },
     "execution_count": 13,
     "metadata": {},
     "output_type": "execute_result"
    }
   ],
   "source": [
    "df2.head()"
   ]
  },
  {
   "cell_type": "markdown",
   "id": "f8273027",
   "metadata": {},
   "source": [
    "Rename columns"
   ]
  },
  {
   "cell_type": "code",
   "execution_count": 14,
   "id": "151f39b5",
   "metadata": {
    "ExecuteTime": {
     "end_time": "2022-01-27T16:03:32.728767Z",
     "start_time": "2022-01-27T16:03:32.325104Z"
    }
   },
   "outputs": [],
   "source": [
    "# vehicle age\n",
    "df2['vehicle_age'] = df2['vehicle_age'].apply( lambda x: 'over_2_years' if x == '> 2 Years' else 'between_1_2_years' \n",
    "                                                                        if x == '1-2 Year' else 'below_1_year')\n",
    "# vehicle damage\n",
    "df2['vehicle_damage'] = df2['vehicle_damage'].apply( lambda x: 1 if x == 'Yes' else 0 )"
   ]
  },
  {
   "cell_type": "markdown",
   "id": "081f8955",
   "metadata": {},
   "source": [
    "# 3.0. Data Filtering"
   ]
  },
  {
   "cell_type": "markdown",
   "id": "247c13ac",
   "metadata": {},
   "source": [
    "initially, I didn't add any filter here."
   ]
  },
  {
   "cell_type": "code",
   "execution_count": 15,
   "id": "e1aaa463",
   "metadata": {
    "ExecuteTime": {
     "end_time": "2022-01-27T16:04:02.912226Z",
     "start_time": "2022-01-27T16:04:02.845920Z"
    }
   },
   "outputs": [],
   "source": [
    "df3 = df2.copy()"
   ]
  },
  {
   "cell_type": "markdown",
   "id": "abacdbf4",
   "metadata": {},
   "source": [
    "# 4.0. EDA"
   ]
  },
  {
   "cell_type": "code",
   "execution_count": 16,
   "id": "54bfc398",
   "metadata": {
    "ExecuteTime": {
     "end_time": "2022-01-27T16:04:03.506112Z",
     "start_time": "2022-01-27T16:04:03.484688Z"
    }
   },
   "outputs": [],
   "source": [
    "df4 = df3.copy()"
   ]
  },
  {
   "cell_type": "code",
   "execution_count": 17,
   "id": "ec85dc87",
   "metadata": {
    "ExecuteTime": {
     "end_time": "2022-01-27T16:04:03.814941Z",
     "start_time": "2022-01-27T16:04:03.797951Z"
    }
   },
   "outputs": [
    {
     "data": {
      "text/plain": [
       "Index(['id', 'gender', 'age', 'driving_license', 'region_code',\n",
       "       'previously_insured', 'vehicle_age', 'vehicle_damage', 'annual_premium',\n",
       "       'policy_sales_channel', 'vintage', 'response'],\n",
       "      dtype='object')"
      ]
     },
     "execution_count": 17,
     "metadata": {},
     "output_type": "execute_result"
    }
   ],
   "source": [
    "df4.columns"
   ]
  },
  {
   "cell_type": "markdown",
   "id": "4a668907",
   "metadata": {},
   "source": [
    "As seen, in this variable there is an equal distribution of gender "
   ]
  },
  {
   "cell_type": "code",
   "execution_count": 18,
   "id": "4dfbacfe",
   "metadata": {
    "ExecuteTime": {
     "end_time": "2022-01-27T16:04:07.658040Z",
     "start_time": "2022-01-27T16:04:07.303393Z"
    }
   },
   "outputs": [
    {
     "data": {
      "image/png": "[encoded data removed]",
      "text/plain": [
       "<Figure size 936x576 with 1 Axes>"
      ]
     },
     "metadata": {},
     "output_type": "display_data"
    }
   ],
   "source": [
    "# gender\n",
    "gender_pallete = [pallete[0], pallete[8]]\n",
    "\n",
    "aux = df4['gender'].value_counts()\n",
    "plt.pie( aux,  autopct = '%0.0f%%', colors=gender_pallete )\n",
    "plt.legend( labels=aux.index, fontsize=15, loc='upper left' );"
   ]
  },
  {
   "cell_type": "markdown",
   "id": "dc0e5783",
   "metadata": {},
   "source": [
    "As shown here below, there's a distribution that seems to be really close in their behavior related to the target variable. The age doesn't change too much from each category. But the median of the ages for the category '1' is a little bit higher than the median value from the category '0' "
   ]
  },
  {
   "cell_type": "code",
   "execution_count": 19,
   "id": "c46df0f9",
   "metadata": {
    "ExecuteTime": {
     "end_time": "2022-01-27T16:04:08.916923Z",
     "start_time": "2022-01-27T16:04:08.535579Z"
    }
   },
   "outputs": [
    {
     "data": {
      "image/png": "[encoded data removed]",
      "text/plain": [
       "<Figure size 936x576 with 1 Axes>"
      ]
     },
     "metadata": {},
     "output_type": "display_data"
    }
   ],
   "source": [
    "# 'age'\n",
    "age_pallete = [pallete[0], pallete[2]]\n",
    "sns.boxplot( data= df4, y='age', x='response', palette=age_pallete );"
   ]
  },
  {
   "cell_type": "code",
   "execution_count": 20,
   "id": "f1f381b9",
   "metadata": {
    "ExecuteTime": {
     "end_time": "2022-01-27T16:04:10.069894Z",
     "start_time": "2022-01-27T16:04:09.045232Z"
    },
    "cell_style": "split"
   },
   "outputs": [
    {
     "data": {
      "image/png": "[encoded data removed]",
      "text/plain": [
       "<Figure size 936x576 with 1 Axes>"
      ]
     },
     "metadata": {},
     "output_type": "display_data"
    }
   ],
   "source": [
    "aux00 = df4.loc[df4['response'] == 0, 'age']\n",
    "sns.histplot( data=aux00, palette=age_pallete[0]);"
   ]
  },
  {
   "cell_type": "code",
   "execution_count": 21,
   "id": "7e3cf551",
   "metadata": {
    "ExecuteTime": {
     "end_time": "2022-01-27T16:04:11.035614Z",
     "start_time": "2022-01-27T16:04:10.214504Z"
    },
    "cell_style": "split"
   },
   "outputs": [
    {
     "data": {
      "image/png": "[encoded data removed]",
      "text/plain": [
       "<Figure size 936x576 with 1 Axes>"
      ]
     },
     "metadata": {},
     "output_type": "display_data"
    }
   ],
   "source": [
    "aux00 = df4.loc[df4['response'] == 1, 'age']\n",
    "sns.histplot( data=aux00, color=age_pallete[1]);"
   ]
  },
  {
   "cell_type": "markdown",
   "id": "653a08e3",
   "metadata": {},
   "source": [
    "without a filter is hard to catch the behavior of this variable, It's hard to understand how the distribution of the variable actually is. Because there are lots of points shown as an outlier on this boxplot"
   ]
  },
  {
   "cell_type": "code",
   "execution_count": 91,
   "id": "415fe311",
   "metadata": {
    "ExecuteTime": {
     "end_time": "2022-01-27T16:57:17.449581Z",
     "start_time": "2022-01-27T16:57:17.094601Z"
    }
   },
   "outputs": [
    {
     "data": {
      "image/png": "[encoded data removed]",
      "text/plain": [
       "<Figure size 936x576 with 1 Axes>"
      ]
     },
     "metadata": {},
     "output_type": "display_data"
    }
   ],
   "source": [
    "# 'annual_premium'\n",
    "annual_premium_pallete = [pallete2[0], pallete2[8]]\n",
    "\n",
    "sns.boxplot( data= df4, y='annual_premium', x='response', palette=annual_premium_pallete );"
   ]
  },
  {
   "cell_type": "markdown",
   "id": "2e5bc073",
   "metadata": {},
   "source": [
    "Applying a filter makes this job easier. Now I'm able to see that this variable doesn't bring me lots of information alone. Because its behavior doesn't change from each category from the target variable"
   ]
  },
  {
   "cell_type": "code",
   "execution_count": 92,
   "id": "c1007f8f",
   "metadata": {
    "ExecuteTime": {
     "end_time": "2022-01-27T16:57:18.049897Z",
     "start_time": "2022-01-27T16:57:17.569707Z"
    }
   },
   "outputs": [
    {
     "data": {
      "image/png": "[encoded data removed]",
      "text/plain": [
       "<Figure size 936x576 with 1 Axes>"
      ]
     },
     "metadata": {},
     "output_type": "display_data"
    }
   ],
   "source": [
    "# 'annual_premium'\n",
    "annual_premium_pallete = [pallete2[0], pallete2[8]]\n",
    "\n",
    "aux = df4[df4['annual_premium']<80000]\n",
    "sns.boxplot( data= aux, y='annual_premium', x='response', palette=annual_premium_pallete );"
   ]
  },
  {
   "cell_type": "markdown",
   "id": "696d2bd8",
   "metadata": {},
   "source": [
    "Applying another filter to see how the distribution of the data in this variable behavior alone through these histograms."
   ]
  },
  {
   "cell_type": "code",
   "execution_count": 93,
   "id": "019b0d8d",
   "metadata": {
    "ExecuteTime": {
     "end_time": "2022-01-27T16:57:19.640309Z",
     "start_time": "2022-01-27T16:57:18.302050Z"
    },
    "cell_style": "split"
   },
   "outputs": [
    {
     "data": {
      "image/png": "[encoded data removed]",
      "text/plain": [
       "<Figure size 936x576 with 1 Axes>"
      ]
     },
     "metadata": {},
     "output_type": "display_data"
    }
   ],
   "source": [
    "aux = df4[ (df4['annual_premium']<80000) & (df4['annual_premium']>10000)]\n",
    "\n",
    "aux00 = aux.loc[aux['response'] == 0, 'annual_premium']\n",
    "sns.histplot( data=aux00, color=annual_premium_pallete[0] );"
   ]
  },
  {
   "cell_type": "code",
   "execution_count": 94,
   "id": "98d9be41",
   "metadata": {
    "ExecuteTime": {
     "end_time": "2022-01-27T16:57:20.614213Z",
     "start_time": "2022-01-27T16:57:19.762241Z"
    },
    "cell_style": "split"
   },
   "outputs": [
    {
     "data": {
      "image/png": "[encoded data removed]",
      "text/plain": [
       "<Figure size 936x576 with 1 Axes>"
      ]
     },
     "metadata": {},
     "output_type": "display_data"
    }
   ],
   "source": [
    "aux = df4[ (df4['annual_premium']<80000) & (df4['annual_premium']>10000)]\n",
    "\n",
    "aux00 = aux.loc[aux['response'] == 1, 'annual_premium']\n",
    "sns.histplot( data=aux00, color=annual_premium_pallete[1] );"
   ]
  },
  {
   "cell_type": "markdown",
   "id": "2009b18a",
   "metadata": {},
   "source": [
    "For this variable \"driving license\" which is a categorical variable such as the target variable, I decided to make a frequency table to show how much time the occurring happen for this variable related to each categorical value from the target variable. The table is shown in terms of the percentage\n",
    "\n",
    "The result sounds right or at least makes sense. Because it's expected that, people who already have their license might have a vehicle already and if the people have a vehicle makes sense they already have insurance. But it's not a statement yet, it's just the initial feeling. "
   ]
  },
  {
   "cell_type": "code",
   "execution_count": 95,
   "id": "8729cc4e",
   "metadata": {
    "ExecuteTime": {
     "end_time": "2022-01-27T16:57:20.879606Z",
     "start_time": "2022-01-27T16:57:20.746299Z"
    }
   },
   "outputs": [
    {
     "data": {
      "text/html": [
       "<div>\n",
       "<style scoped>\n",
       "    .dataframe tbody tr th:only-of-type {\n",
       "        vertical-align: middle;\n",
       "    }\n",
       "\n",
       "    .dataframe tbody tr th {\n",
       "        vertical-align: top;\n",
       "    }\n",
       "\n",
       "    .dataframe thead th {\n",
       "        text-align: right;\n",
       "    }\n",
       "</style>\n",
       "<table border=\"1\" class=\"dataframe\">\n",
       "  <thead>\n",
       "    <tr style=\"text-align: right;\">\n",
       "      <th>response</th>\n",
       "      <th>0</th>\n",
       "      <th>1</th>\n",
       "    </tr>\n",
       "    <tr>\n",
       "      <th>driving_license</th>\n",
       "      <th></th>\n",
       "      <th></th>\n",
       "    </tr>\n",
       "  </thead>\n",
       "  <tbody>\n",
       "    <tr>\n",
       "      <th>0</th>\n",
       "      <td>0.002023</td>\n",
       "      <td>0.000108</td>\n",
       "    </tr>\n",
       "    <tr>\n",
       "      <th>1</th>\n",
       "      <td>0.875414</td>\n",
       "      <td>0.122456</td>\n",
       "    </tr>\n",
       "  </tbody>\n",
       "</table>\n",
       "</div>"
      ],
      "text/plain": [
       "response                0         1\n",
       "driving_license                    \n",
       "0                0.002023  0.000108\n",
       "1                0.875414  0.122456"
      ]
     },
     "execution_count": 95,
     "metadata": {},
     "output_type": "execute_result"
    }
   ],
   "source": [
    "# driving_license\n",
    "pd.crosstab( df4['driving_license'], df4['response'], normalize=True )"
   ]
  },
  {
   "cell_type": "markdown",
   "id": "8a61c9f4",
   "metadata": {},
   "source": [
    "In this step, the central idea was to identify for each region how many people answered the target variable as 0 or 1. \n",
    "\n",
    "As seen in the scatterplot below it's hard to separate the people who marked the response as 1 from the people who marked it as 0. The number of people that answered 1 or 0 is really close.\n",
    "\n",
    "It might mean that this variable alone doesn't bring a lot of information."
   ]
  },
  {
   "cell_type": "code",
   "execution_count": 23,
   "id": "5c444d3e",
   "metadata": {
    "ExecuteTime": {
     "end_time": "2022-01-27T16:04:14.702360Z",
     "start_time": "2022-01-27T16:04:14.180971Z"
    }
   },
   "outputs": [
    {
     "data": {
      "image/png": "[encoded data removed]",
      "text/plain": [
       "<Figure size 936x576 with 1 Axes>"
      ]
     },
     "metadata": {},
     "output_type": "display_data"
    }
   ],
   "source": [
    "# region_code\n",
    "region_pallete = [pallete2[0], pallete2[8]]\n",
    "\n",
    "aux = df4[['id','region_code','response']].groupby( ['region_code','response'] ).count().reset_index()\n",
    "sns.scatterplot( x='region_code', y='id', hue='response', data=aux, palette=region_pallete );"
   ]
  },
  {
   "cell_type": "markdown",
   "id": "275c62db",
   "metadata": {},
   "source": [
    "for this variable, I decided to make a frequency table as well to show in terms of percentage the number of people who are already insured or not and who answered 0 or 1."
   ]
  },
  {
   "cell_type": "code",
   "execution_count": 24,
   "id": "5cf32bab",
   "metadata": {
    "ExecuteTime": {
     "end_time": "2022-01-27T16:04:14.952709Z",
     "start_time": "2022-01-27T16:04:14.829885Z"
    }
   },
   "outputs": [
    {
     "data": {
      "text/html": [
       "<div>\n",
       "<style scoped>\n",
       "    .dataframe tbody tr th:only-of-type {\n",
       "        vertical-align: middle;\n",
       "    }\n",
       "\n",
       "    .dataframe tbody tr th {\n",
       "        vertical-align: top;\n",
       "    }\n",
       "\n",
       "    .dataframe thead th {\n",
       "        text-align: right;\n",
       "    }\n",
       "</style>\n",
       "<table border=\"1\" class=\"dataframe\">\n",
       "  <thead>\n",
       "    <tr style=\"text-align: right;\">\n",
       "      <th>response</th>\n",
       "      <th>0</th>\n",
       "      <th>1</th>\n",
       "    </tr>\n",
       "    <tr>\n",
       "      <th>previously_insured</th>\n",
       "      <th></th>\n",
       "      <th></th>\n",
       "    </tr>\n",
       "  </thead>\n",
       "  <tbody>\n",
       "    <tr>\n",
       "      <th>0</th>\n",
       "      <td>0.774546</td>\n",
       "      <td>0.225454</td>\n",
       "    </tr>\n",
       "    <tr>\n",
       "      <th>1</th>\n",
       "      <td>0.999095</td>\n",
       "      <td>0.000905</td>\n",
       "    </tr>\n",
       "  </tbody>\n",
       "</table>\n",
       "</div>"
      ],
      "text/plain": [
       "response                   0         1\n",
       "previously_insured                    \n",
       "0                   0.774546  0.225454\n",
       "1                   0.999095  0.000905"
      ]
     },
     "execution_count": 24,
     "metadata": {},
     "output_type": "execute_result"
    }
   ],
   "source": [
    "# previously_insured on the rows\n",
    "pd.crosstab( df4['previously_insured'], df4['response'], normalize='index' )"
   ]
  },
  {
   "cell_type": "code",
   "execution_count": 25,
   "id": "475ac989",
   "metadata": {
    "ExecuteTime": {
     "end_time": "2022-01-27T16:04:15.495624Z",
     "start_time": "2022-01-27T16:04:15.382935Z"
    }
   },
   "outputs": [
    {
     "data": {
      "text/html": [
       "<div>\n",
       "<style scoped>\n",
       "    .dataframe tbody tr th:only-of-type {\n",
       "        vertical-align: middle;\n",
       "    }\n",
       "\n",
       "    .dataframe tbody tr th {\n",
       "        vertical-align: top;\n",
       "    }\n",
       "\n",
       "    .dataframe thead th {\n",
       "        text-align: right;\n",
       "    }\n",
       "</style>\n",
       "<table border=\"1\" class=\"dataframe\">\n",
       "  <thead>\n",
       "    <tr style=\"text-align: right;\">\n",
       "      <th>response</th>\n",
       "      <th>0</th>\n",
       "      <th>1</th>\n",
       "    </tr>\n",
       "    <tr>\n",
       "      <th>previously_insured</th>\n",
       "      <th></th>\n",
       "      <th></th>\n",
       "    </tr>\n",
       "  </thead>\n",
       "  <tbody>\n",
       "    <tr>\n",
       "      <th>0</th>\n",
       "      <td>0.419641</td>\n",
       "      <td>0.122149</td>\n",
       "    </tr>\n",
       "    <tr>\n",
       "      <th>1</th>\n",
       "      <td>0.457796</td>\n",
       "      <td>0.000415</td>\n",
       "    </tr>\n",
       "  </tbody>\n",
       "</table>\n",
       "</div>"
      ],
      "text/plain": [
       "response                   0         1\n",
       "previously_insured                    \n",
       "0                   0.419641  0.122149\n",
       "1                   0.457796  0.000415"
      ]
     },
     "execution_count": 25,
     "metadata": {},
     "output_type": "execute_result"
    }
   ],
   "source": [
    "# previously_insured as a whole\n",
    "pd.crosstab( df4['previously_insured'], df4['response'], normalize=True )"
   ]
  },
  {
   "cell_type": "markdown",
   "id": "6d23b02f",
   "metadata": {},
   "source": [
    "A frequency table was done to count the occurrence of people who answer the target variable for each vehicle age listed.\n",
    "\n",
    "As shown, below_1_year and between_1_2_years are the variables that concentrate the most percentage of people who answered and these people answered 0."
   ]
  },
  {
   "cell_type": "code",
   "execution_count": 26,
   "id": "18b43790",
   "metadata": {
    "ExecuteTime": {
     "end_time": "2022-01-27T16:04:16.188940Z",
     "start_time": "2022-01-27T16:04:16.061685Z"
    }
   },
   "outputs": [
    {
     "data": {
      "text/html": [
       "<div>\n",
       "<style scoped>\n",
       "    .dataframe tbody tr th:only-of-type {\n",
       "        vertical-align: middle;\n",
       "    }\n",
       "\n",
       "    .dataframe tbody tr th {\n",
       "        vertical-align: top;\n",
       "    }\n",
       "\n",
       "    .dataframe thead th {\n",
       "        text-align: right;\n",
       "    }\n",
       "</style>\n",
       "<table border=\"1\" class=\"dataframe\">\n",
       "  <thead>\n",
       "    <tr style=\"text-align: right;\">\n",
       "      <th></th>\n",
       "      <th>vehicle_age</th>\n",
       "      <th>response</th>\n",
       "      <th>0</th>\n",
       "    </tr>\n",
       "  </thead>\n",
       "  <tbody>\n",
       "    <tr>\n",
       "      <th>1</th>\n",
       "      <td>below_1_year</td>\n",
       "      <td>0</td>\n",
       "      <td>0.413488</td>\n",
       "    </tr>\n",
       "    <tr>\n",
       "      <th>4</th>\n",
       "      <td>below_1_year</td>\n",
       "      <td>1</td>\n",
       "      <td>0.018897</td>\n",
       "    </tr>\n",
       "    <tr>\n",
       "      <th>0</th>\n",
       "      <td>between_1_2_years</td>\n",
       "      <td>0</td>\n",
       "      <td>0.434285</td>\n",
       "    </tr>\n",
       "    <tr>\n",
       "      <th>2</th>\n",
       "      <td>between_1_2_years</td>\n",
       "      <td>1</td>\n",
       "      <td>0.091328</td>\n",
       "    </tr>\n",
       "    <tr>\n",
       "      <th>3</th>\n",
       "      <td>over_2_years</td>\n",
       "      <td>0</td>\n",
       "      <td>0.029663</td>\n",
       "    </tr>\n",
       "    <tr>\n",
       "      <th>5</th>\n",
       "      <td>over_2_years</td>\n",
       "      <td>1</td>\n",
       "      <td>0.012338</td>\n",
       "    </tr>\n",
       "  </tbody>\n",
       "</table>\n",
       "</div>"
      ],
      "text/plain": [
       "         vehicle_age  response         0\n",
       "1       below_1_year         0  0.413488\n",
       "4       below_1_year         1  0.018897\n",
       "0  between_1_2_years         0  0.434285\n",
       "2  between_1_2_years         1  0.091328\n",
       "3       over_2_years         0  0.029663\n",
       "5       over_2_years         1  0.012338"
      ]
     },
     "execution_count": 26,
     "metadata": {},
     "output_type": "execute_result"
    }
   ],
   "source": [
    "# vehicle_age\n",
    "df4[['vehicle_age','response']].value_counts( normalize=True ).reset_index().sort_values( 'vehicle_age' )"
   ]
  },
  {
   "cell_type": "markdown",
   "id": "f5cbe2b9",
   "metadata": {},
   "source": [
    "For this variable, if I don't apply any filter makes the job harder. So, below I'm going to filter the data to visualize it better."
   ]
  },
  {
   "cell_type": "code",
   "execution_count": 59,
   "id": "da967465",
   "metadata": {
    "ExecuteTime": {
     "end_time": "2022-01-27T16:32:59.455071Z",
     "start_time": "2022-01-27T16:32:57.197833Z"
    }
   },
   "outputs": [
    {
     "data": {
      "image/png": "[encoded data removed]",
      "text/plain": [
       "<Figure size 936x576 with 1 Axes>"
      ]
     },
     "metadata": {},
     "output_type": "display_data"
    }
   ],
   "source": [
    "# policy_sales_channel\n",
    "aux = df4['policy_sales_channel'].astype( 'object' ).value_counts().reset_index().sort_values( 'index' )\n",
    "sns.barplot( data=aux, x='index', y='policy_sales_channel' )\n",
    "plt.xticks( range(0,161,10), rotation=45 );"
   ]
  },
  {
   "cell_type": "markdown",
   "id": "73f4f35b",
   "metadata": {},
   "source": [
    "As seen the policy sales channel with more people as seen in the graph above are:\n",
    "- 152\n",
    "- 26\n",
    "- 124\n",
    "- 160"
   ]
  },
  {
   "cell_type": "code",
   "execution_count": 115,
   "id": "984912a2",
   "metadata": {
    "ExecuteTime": {
     "end_time": "2022-01-27T17:06:42.502964Z",
     "start_time": "2022-01-27T17:06:42.470980Z"
    }
   },
   "outputs": [
    {
     "data": {
      "text/plain": [
       "152.0    0.353663\n",
       "26.0     0.209127\n",
       "124.0    0.194157\n",
       "160.0    0.057146\n",
       "Name: policy_sales_channel, dtype: float64"
      ]
     },
     "execution_count": 115,
     "metadata": {},
     "output_type": "execute_result"
    }
   ],
   "source": [
    "aux_ = df4['policy_sales_channel'].value_counts( normalize=True ).head(4)\n",
    "aux_"
   ]
  },
  {
   "cell_type": "markdown",
   "id": "2f59fe6f",
   "metadata": {},
   "source": [
    "These four channels together represent more than 80% of the people in the dataset. In other words, more than 80% of the people choose one of these channels"
   ]
  },
  {
   "cell_type": "code",
   "execution_count": 149,
   "id": "e98c78f2",
   "metadata": {
    "ExecuteTime": {
     "end_time": "2022-01-27T18:09:40.726014Z",
     "start_time": "2022-01-27T18:09:40.710914Z"
    }
   },
   "outputs": [
    {
     "data": {
      "text/plain": [
       "152.0    0.353663\n",
       "26.0     0.562789\n",
       "124.0    0.756946\n",
       "160.0    0.814093\n",
       "Name: policy_sales_channel, dtype: float64"
      ]
     },
     "execution_count": 149,
     "metadata": {},
     "output_type": "execute_result"
    }
   ],
   "source": [
    "aux_.cumsum()"
   ]
  },
  {
   "cell_type": "code",
   "execution_count": 148,
   "id": "681f8aea",
   "metadata": {
    "ExecuteTime": {
     "end_time": "2022-01-27T17:21:32.786775Z",
     "start_time": "2022-01-27T17:21:31.334914Z"
    }
   },
   "outputs": [
    {
     "data": {
      "image/png": "[encoded data removed]",
      "text/plain": [
       "<Figure size 936x576 with 1 Axes>"
      ]
     },
     "metadata": {},
     "output_type": "display_data"
    }
   ],
   "source": [
    "# palette definition\n",
    "palette_aux = pallete[:4]\n",
    "\n",
    "for i in range(151):\n",
    "    palette_aux.append( pallete[8] )\n",
    "\n",
    "# aux dataframe\n",
    "aux = df4.copy()\n",
    "aux['policy_sales_channel'] = aux['policy_sales_channel'].astype( 'object' )\n",
    "\n",
    "df = pd.DataFrame( aux['policy_sales_channel'].value_counts( normalize=True ) ).T \n",
    "\n",
    "# legend\n",
    "legend = aux_.index.to_list()\n",
    "legend.append( 'Below fourth place' )\n",
    "\n",
    "df.plot( kind='barh', stacked=True, color=palette_aux )\n",
    "plt.title( '% Of each different Policy Sales Channel' )\n",
    "plt.xlabel( '%', fontsize=15 )\n",
    "plt.xticks( aux_.cumsum() )\n",
    "plt.legend( legend );"
   ]
  },
  {
   "cell_type": "markdown",
   "id": "761a8b1d",
   "metadata": {},
   "source": [
    "This has a uniform behavior, it might suggest that this variable might not be useful to our prediction model."
   ]
  },
  {
   "cell_type": "code",
   "execution_count": 152,
   "id": "fb5b54f7",
   "metadata": {
    "ExecuteTime": {
     "end_time": "2022-01-27T18:15:01.450734Z",
     "start_time": "2022-01-27T18:15:01.014170Z"
    }
   },
   "outputs": [
    {
     "data": {
      "image/png": "[encoded data removed]",
      "text/plain": [
       "<Figure size 936x576 with 1 Axes>"
      ]
     },
     "metadata": {},
     "output_type": "display_data"
    }
   ],
   "source": [
    "# vintage\n",
    "vintage_pallete = [pallete2[0], pallete2[8]]\n",
    "\n",
    "sns.boxplot( data= df4, y='vintage', x='response', palette=vintage_pallete );"
   ]
  },
  {
   "cell_type": "code",
   "execution_count": 153,
   "id": "c269ef56",
   "metadata": {
    "ExecuteTime": {
     "end_time": "2022-01-27T18:15:19.508787Z",
     "start_time": "2022-01-27T18:15:18.541666Z"
    },
    "cell_style": "split"
   },
   "outputs": [
    {
     "data": {
      "image/png": "[encoded data removed]",
      "text/plain": [
       "<Figure size 936x576 with 1 Axes>"
      ]
     },
     "metadata": {},
     "output_type": "display_data"
    }
   ],
   "source": [
    "aux00 = df4.loc[df4['response'] == 0, 'vintage']\n",
    "sns.histplot( data=aux00, color=vintage_pallete[0] );"
   ]
  },
  {
   "cell_type": "code",
   "execution_count": 154,
   "id": "ea517e97",
   "metadata": {
    "ExecuteTime": {
     "end_time": "2022-01-27T18:15:34.804636Z",
     "start_time": "2022-01-27T18:15:30.565304Z"
    },
    "cell_style": "split"
   },
   "outputs": [
    {
     "data": {
      "image/png": "[encoded data removed]",
      "text/plain": [
       "<Figure size 936x576 with 1 Axes>"
      ]
     },
     "metadata": {},
     "output_type": "display_data"
    }
   ],
   "source": [
    "aux00 = df4.loc[df4['response'] == 1, 'vintage']\n",
    "sns.histplot( data=aux00, color=vintage_pallete[1] );"
   ]
  },
  {
   "cell_type": "markdown",
   "id": "0f8d6078",
   "metadata": {},
   "source": [
    "these variables are very balanced."
   ]
  },
  {
   "cell_type": "code",
   "execution_count": 172,
   "id": "fcd13cb4",
   "metadata": {
    "ExecuteTime": {
     "end_time": "2022-01-27T18:25:15.848660Z",
     "start_time": "2022-01-27T18:25:15.574841Z"
    }
   },
   "outputs": [
    {
     "data": {
      "image/png": "[encoded data removed]",
      "text/plain": [
       "<Figure size 936x576 with 1 Axes>"
      ]
     },
     "metadata": {},
     "output_type": "display_data"
    }
   ],
   "source": [
    "# vehicle_damage\n",
    "aux = df4['vehicle_damage'].value_counts( normalize=True ).reset_index()\n",
    "sns.barplot( data=aux, x='index', y='vehicle_damage', palette=gender_pallete );"
   ]
  },
  {
   "cell_type": "markdown",
   "id": "f08b790d",
   "metadata": {},
   "source": [
    "Applying a filter for each target category(0 or 1) it's possible to see some behavior... when the variable target chosen is 1 there is a clearly unbalanced in this variable.\n",
    "\n",
    "What I understand was that most people who have had an accident (vehicle damage) are more close to accepting the insurance. That's might suggest that people have knowledge of how bad an accident might be, and then they become more careful."
   ]
  },
  {
   "cell_type": "code",
   "execution_count": 174,
   "id": "7b2a548e",
   "metadata": {
    "ExecuteTime": {
     "end_time": "2022-01-27T18:27:49.276614Z",
     "start_time": "2022-01-27T18:27:49.018216Z"
    },
    "cell_style": "split"
   },
   "outputs": [
    {
     "data": {
      "image/png": "[encoded data removed]",
      "text/plain": [
       "<Figure size 936x576 with 1 Axes>"
      ]
     },
     "metadata": {},
     "output_type": "display_data"
    }
   ],
   "source": [
    "aux = df4.loc[ df4['response']==1, 'vehicle_damage'].value_counts( normalize=True ).reset_index()\n",
    "sns.barplot( data=aux, x='index', y='vehicle_damage', palette=gender_pallete );"
   ]
  },
  {
   "cell_type": "code",
   "execution_count": 175,
   "id": "556da734",
   "metadata": {
    "ExecuteTime": {
     "end_time": "2022-01-27T18:28:11.717396Z",
     "start_time": "2022-01-27T18:28:11.455732Z"
    },
    "cell_style": "split"
   },
   "outputs": [
    {
     "data": {
      "image/png": "[encoded data removed]",
      "text/plain": [
       "<Figure size 936x576 with 1 Axes>"
      ]
     },
     "metadata": {},
     "output_type": "display_data"
    }
   ],
   "source": [
    "aux = df4.loc[ df4['response']==0, 'vehicle_damage'].value_counts( normalize=True ).reset_index()\n",
    "sns.barplot( data=aux, x='index', y='vehicle_damage', palette=gender_pallete );"
   ]
  },
  {
   "cell_type": "markdown",
   "id": "68d0b663",
   "metadata": {},
   "source": [
    "In the target variable is visible that there are clearly unbalanced data here."
   ]
  },
  {
   "cell_type": "code",
   "execution_count": 159,
   "id": "952b8b6f",
   "metadata": {
    "ExecuteTime": {
     "end_time": "2022-01-27T18:19:35.022555Z",
     "start_time": "2022-01-27T18:19:34.664416Z"
    }
   },
   "outputs": [
    {
     "data": {
      "image/png": "[encoded data removed]",
      "text/plain": [
       "<Figure size 936x576 with 1 Axes>"
      ]
     },
     "metadata": {},
     "output_type": "display_data"
    }
   ],
   "source": [
    "# response\n",
    "sns.countplot( x='response', data=df4 );"
   ]
  },
  {
   "cell_type": "code",
   "execution_count": null,
   "id": "7865019e",
   "metadata": {},
   "outputs": [],
   "source": []
  },
  {
   "cell_type": "markdown",
   "id": "004d5fe5",
   "metadata": {
    "ExecuteTime": {
     "end_time": "2022-01-25T17:12:23.892700Z",
     "start_time": "2022-01-25T17:12:23.884697Z"
    }
   },
   "source": [
    "# 5.0. Feature Selection"
   ]
  },
  {
   "cell_type": "markdown",
   "id": "e6f72e9e",
   "metadata": {
    "ExecuteTime": {
     "end_time": "2022-01-25T17:12:40.636353Z",
     "start_time": "2022-01-25T17:12:40.623357Z"
    }
   },
   "source": [
    "# 6.0. Data Preparation"
   ]
  },
  {
   "cell_type": "markdown",
   "id": "4f199da1",
   "metadata": {},
   "source": [
    "# 7.0. Machine Learning"
   ]
  }
 ],
 "metadata": {
  "kernelspec": {
   "display_name": "Python 3 (ipykernel)",
   "language": "python",
   "name": "python3"
  },
  "language_info": {
   "codemirror_mode": {
    "name": "ipython",
    "version": 3
   },
   "file_extension": ".py",
   "mimetype": "text/x-python",
   "name": "python",
   "nbconvert_exporter": "python",
   "pygments_lexer": "ipython3",
   "version": "3.9.6"
  },
  "varInspector": {
   "cols": {
    "lenName": 16,
    "lenType": 16,
    "lenVar": 40
   },
   "kernels_config": {
    "python": {
     "delete_cmd_postfix": "",
     "delete_cmd_prefix": "del ",
     "library": "var_list.py",
     "varRefreshCmd": "print(var_dic_list())"
    },
    "r": {
     "delete_cmd_postfix": ") ",
     "delete_cmd_prefix": "rm(",
     "library": "var_list.r",
     "varRefreshCmd": "cat(var_dic_list()) "
    }
   },
   "types_to_exclude": [
    "module",
    "function",
    "builtin_function_or_method",
    "instance",
    "_Feature"
   ],
   "window_display": false
  }
 },
 "nbformat": 4,
 "nbformat_minor": 5
}
