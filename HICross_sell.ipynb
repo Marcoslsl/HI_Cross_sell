{
 "cells": [
  {
   "cell_type": "markdown",
   "id": "68bb6d5a",
   "metadata": {},
   "source": [
    "# 0.0. Imports"
   ]
  },
  {
   "cell_type": "code",
   "execution_count": null,
   "id": "f4bb05ed",
   "metadata": {
    "ExecuteTime": {
     "end_time": "2022-01-28T17:07:08.768565Z",
     "start_time": "2022-01-28T17:07:08.755776Z"
    }
   },
   "outputs": [],
   "source": [
    "import inflection\n",
    "\n",
    "import pandas            as pd\n",
    "import numpy             as np\n",
    "import seaborn           as sns\n",
    "import matplotlib.pyplot as plt\n",
    "\n",
    "\n",
    "\n",
    "from config                  import config\n",
    "from sqlalchemy              import create_engine\n",
    "\n",
    "from sklearn.preprocessing   import StandardScaler, MinMaxScaler, OneHotEncoder\n",
    "from sklearn.model_selection import train_test_split\n",
    "from sklearn.ensemble        import ExtraTreesClassifier, RandomForestClassifier\n",
    "from sklearn.neighbors       import KNeighborsClassifier\n",
    "from sklearn.linear_model    import LogisticRegression\n",
    "from sklearn.svm             import SVC\n",
    "\n",
    "from scikitplot.metrics      import plot_cumulative_gain "
   ]
  },
  {
   "cell_type": "code",
   "execution_count": null,
   "id": "53ffbea8",
   "metadata": {
    "ExecuteTime": {
     "end_time": "2022-01-28T17:07:09.046424Z",
     "start_time": "2022-01-28T17:07:09.009598Z"
    }
   },
   "outputs": [],
   "source": [
    "pallete  = sns.color_palette(sns.diverging_palette(250, 10, s=75, l=45, n=9))\n",
    "pallete2 = sns.color_palette(sns.diverging_palette(45, 200, s=75, l=45, n=9)) \n",
    "\n",
    "%matplotlib inline\n",
    "plt.rcParams['figure.figsize'] = [13, 8]\n",
    "\n",
    "sns.set_palette( pallete )\n",
    "sns.set_style('darkgrid')"
   ]
  },
  {
   "cell_type": "markdown",
   "id": "a374ab10",
   "metadata": {},
   "source": [
    "# 0.1. Help Functions "
   ]
  },
  {
   "cell_type": "code",
   "execution_count": null,
   "id": "07600d27",
   "metadata": {
    "ExecuteTime": {
     "end_time": "2022-01-28T17:07:09.637145Z",
     "start_time": "2022-01-28T17:07:09.620992Z"
    }
   },
   "outputs": [],
   "source": [
    "def numeric_statistics( df ):\n",
    "    dic = {\n",
    "        \"type\": df.dtypes.values,\n",
    "        \"Unique_Values\": df.nunique().values,\n",
    "        \"Mean\": df.mean(),\n",
    "        \"Median\": df.median(),\n",
    "        \"Std\": df.std(),\n",
    "        \"Min\": df.min(),\n",
    "        \"Max\": df.max(),\n",
    "        \"Range\": df.max() - df.min(),\n",
    "        \"Skew\": df.skew(),\n",
    "        \"Kurtosis\": df.kurtosis()\n",
    "    }\n",
    "    \n",
    "    return pd.DataFrame( dic, index=df.columns )"
   ]
  },
  {
   "cell_type": "markdown",
   "id": "782eeeec",
   "metadata": {},
   "source": [
    "# 0.2. Loading Data"
   ]
  },
  {
   "cell_type": "code",
   "execution_count": null,
   "id": "db0f5530",
   "metadata": {
    "ExecuteTime": {
     "end_time": "2022-01-28T17:07:11.120417Z",
     "start_time": "2022-01-28T17:07:10.224261Z"
    }
   },
   "outputs": [],
   "source": [
    "df_raw = pd.read_csv( 'data/train.csv' )"
   ]
  },
  {
   "cell_type": "markdown",
   "id": "534d84b1",
   "metadata": {},
   "source": [
    "# 1.0. Data Description"
   ]
  },
  {
   "cell_type": "code",
   "execution_count": null,
   "id": "cb2f42a7",
   "metadata": {
    "ExecuteTime": {
     "end_time": "2022-01-28T17:07:11.283604Z",
     "start_time": "2022-01-28T17:07:11.242794Z"
    }
   },
   "outputs": [],
   "source": [
    "df1 = df_raw.copy()"
   ]
  },
  {
   "cell_type": "code",
   "execution_count": null,
   "id": "9e2bf13b",
   "metadata": {
    "ExecuteTime": {
     "end_time": "2022-01-28T17:07:11.490988Z",
     "start_time": "2022-01-28T17:07:11.482398Z"
    }
   },
   "outputs": [],
   "source": [
    "# rename columns\n",
    "old_columns = ['id', 'Gender', 'Age', 'Driving_License', 'Region_Code',\n",
    "       'Previously_Insured', 'Vehicle_Age', 'Vehicle_Damage', 'Annual_Premium',\n",
    "       'Policy_Sales_Channel', 'Vintage', 'Response']\n",
    "\n",
    "snakecase = lambda x: inflection.underscore( x )\n",
    "new_columns = list( map( snakecase, old_columns ) )\n",
    "\n",
    "df1.columns = new_columns"
   ]
  },
  {
   "cell_type": "markdown",
   "id": "7438e750",
   "metadata": {},
   "source": [
    "## 1.1. Data Dimension"
   ]
  },
  {
   "cell_type": "code",
   "execution_count": null,
   "id": "1f108819",
   "metadata": {
    "ExecuteTime": {
     "end_time": "2022-01-28T17:07:11.682249Z",
     "start_time": "2022-01-28T17:07:11.669218Z"
    }
   },
   "outputs": [],
   "source": [
    "print( f'Number of Rows: {df1.shape[0]}' )\n",
    "print( f'Number of Columns: {df1.shape[1]}' )"
   ]
  },
  {
   "cell_type": "markdown",
   "id": "b2400926",
   "metadata": {},
   "source": [
    "## 1.2. Data Types"
   ]
  },
  {
   "cell_type": "code",
   "execution_count": null,
   "id": "7e342746",
   "metadata": {
    "ExecuteTime": {
     "end_time": "2022-01-28T17:07:12.170473Z",
     "start_time": "2022-01-28T17:07:12.147700Z"
    }
   },
   "outputs": [],
   "source": [
    "df1.dtypes"
   ]
  },
  {
   "cell_type": "markdown",
   "id": "740bd278",
   "metadata": {},
   "source": [
    "## 1.3. Check NA"
   ]
  },
  {
   "cell_type": "code",
   "execution_count": null,
   "id": "1fd0082f",
   "metadata": {
    "ExecuteTime": {
     "end_time": "2022-01-28T17:07:12.936882Z",
     "start_time": "2022-01-28T17:07:12.654786Z"
    }
   },
   "outputs": [],
   "source": [
    "df1.isnull().sum()"
   ]
  },
  {
   "cell_type": "markdown",
   "id": "08d57dc6",
   "metadata": {},
   "source": [
    "## 1.4. Data Descriptive"
   ]
  },
  {
   "cell_type": "code",
   "execution_count": null,
   "id": "a14e88c4",
   "metadata": {
    "ExecuteTime": {
     "end_time": "2022-01-28T17:07:13.150651Z",
     "start_time": "2022-01-28T17:07:13.139788Z"
    }
   },
   "outputs": [],
   "source": [
    "num_attributes = df1.select_dtypes( include=['int64','float64'] )\n",
    "cat_attributes = df1.select_dtypes( exclude=['int64','float64'] )"
   ]
  },
  {
   "cell_type": "markdown",
   "id": "c4fa33f2",
   "metadata": {},
   "source": [
    "Descriptive Analysis for each numeric variable. It might be important to take a look at some behavior that a variable might have initially.\n",
    "\n",
    "1. For instance, I'm able to see the variable 'age' has 66 different values which start from 20 years to 85, and it has its mean and median value close.\n",
    "\n",
    "2. As seen the target variable has a binary result ( '0' or '1' )"
   ]
  },
  {
   "cell_type": "code",
   "execution_count": null,
   "id": "80d41075",
   "metadata": {
    "ExecuteTime": {
     "end_time": "2022-01-28T17:07:14.205889Z",
     "start_time": "2022-01-28T17:07:13.672444Z"
    }
   },
   "outputs": [],
   "source": [
    "numeric_statistics( num_attributes )"
   ]
  },
  {
   "cell_type": "markdown",
   "id": "ab9acd1f",
   "metadata": {},
   "source": [
    "# 2.0. Feature Engineering"
   ]
  },
  {
   "cell_type": "code",
   "execution_count": null,
   "id": "a249d37d",
   "metadata": {
    "ExecuteTime": {
     "end_time": "2022-01-28T17:07:14.417200Z",
     "start_time": "2022-01-28T17:07:14.398815Z"
    }
   },
   "outputs": [],
   "source": [
    "df2 = df1.copy()"
   ]
  },
  {
   "cell_type": "code",
   "execution_count": null,
   "id": "1a75f3f1",
   "metadata": {
    "ExecuteTime": {
     "end_time": "2022-01-28T17:07:14.706836Z",
     "start_time": "2022-01-28T17:07:14.681514Z"
    }
   },
   "outputs": [],
   "source": [
    "df2.head()"
   ]
  },
  {
   "cell_type": "markdown",
   "id": "f8273027",
   "metadata": {},
   "source": [
    "Rename columns"
   ]
  },
  {
   "cell_type": "code",
   "execution_count": null,
   "id": "151f39b5",
   "metadata": {
    "ExecuteTime": {
     "end_time": "2022-01-28T17:07:15.366324Z",
     "start_time": "2022-01-28T17:07:14.941896Z"
    }
   },
   "outputs": [],
   "source": [
    "# vehicle age\n",
    "df2['vehicle_age'] = df2['vehicle_age'].apply( lambda x: 'over_2_years' if x == '> 2 Years' else 'between_1_2_years' \n",
    "                                                                        if x == '1-2 Year' else 'below_1_year')\n",
    "# vehicle damage\n",
    "df2['vehicle_damage'] = df2['vehicle_damage'].apply( lambda x: 1 if x == 'Yes' else 0 )"
   ]
  },
  {
   "cell_type": "markdown",
   "id": "081f8955",
   "metadata": {},
   "source": [
    "# 3.0. Data Filtering"
   ]
  },
  {
   "cell_type": "markdown",
   "id": "247c13ac",
   "metadata": {},
   "source": [
    "initially, I didn't add any filter here."
   ]
  },
  {
   "cell_type": "code",
   "execution_count": null,
   "id": "e1aaa463",
   "metadata": {
    "ExecuteTime": {
     "end_time": "2022-01-28T17:07:15.677066Z",
     "start_time": "2022-01-28T17:07:15.632081Z"
    }
   },
   "outputs": [],
   "source": [
    "df3 = df2.copy()"
   ]
  },
  {
   "cell_type": "markdown",
   "id": "abacdbf4",
   "metadata": {},
   "source": [
    "# 4.0. EDA"
   ]
  },
  {
   "cell_type": "code",
   "execution_count": null,
   "id": "54bfc398",
   "metadata": {
    "ExecuteTime": {
     "end_time": "2022-01-28T17:07:16.099018Z",
     "start_time": "2022-01-28T17:07:16.080329Z"
    }
   },
   "outputs": [],
   "source": [
    "df4 = df3.copy()"
   ]
  },
  {
   "cell_type": "code",
   "execution_count": null,
   "id": "ec85dc87",
   "metadata": {
    "ExecuteTime": {
     "end_time": "2022-01-28T17:07:16.601287Z",
     "start_time": "2022-01-28T17:07:16.584171Z"
    }
   },
   "outputs": [],
   "source": [
    "df4.columns"
   ]
  },
  {
   "cell_type": "markdown",
   "id": "4a668907",
   "metadata": {},
   "source": [
    "As seen, in this variable there is an equal distribution of gender "
   ]
  },
  {
   "cell_type": "code",
   "execution_count": null,
   "id": "4dfbacfe",
   "metadata": {
    "ExecuteTime": {
     "end_time": "2022-01-28T17:07:17.232318Z",
     "start_time": "2022-01-28T17:07:16.994303Z"
    }
   },
   "outputs": [],
   "source": [
    "# gender\n",
    "gender_pallete = [pallete[0], pallete[8]]\n",
    "\n",
    "aux = df4['gender'].value_counts()\n",
    "plt.pie( aux,  autopct = '%0.0f%%', colors=gender_pallete )\n",
    "plt.legend( labels=aux.index, fontsize=15, loc='upper left' );"
   ]
  },
  {
   "cell_type": "markdown",
   "id": "dc0e5783",
   "metadata": {},
   "source": [
    "As shown here below, there's a distribution that seems to be really close in their behavior related to the target variable. The age doesn't change too much from each category. But the median of the ages for the category '1' is a little bit higher than the median value from the category '0' "
   ]
  },
  {
   "cell_type": "code",
   "execution_count": null,
   "id": "c46df0f9",
   "metadata": {
    "ExecuteTime": {
     "end_time": "2022-01-28T17:07:17.981090Z",
     "start_time": "2022-01-28T17:07:17.635577Z"
    }
   },
   "outputs": [],
   "source": [
    "# 'age'\n",
    "age_pallete = [pallete[0], pallete[2]]\n",
    "sns.boxplot( data= df4, y='age', x='response', palette=age_pallete );"
   ]
  },
  {
   "cell_type": "code",
   "execution_count": null,
   "id": "f1f381b9",
   "metadata": {
    "ExecuteTime": {
     "end_time": "2022-01-28T17:07:19.260147Z",
     "start_time": "2022-01-28T17:07:18.356182Z"
    },
    "cell_style": "split"
   },
   "outputs": [],
   "source": [
    "aux00 = df4.loc[df4['response'] == 0, 'age']\n",
    "sns.histplot( data=aux00, palette=age_pallete[0]);"
   ]
  },
  {
   "cell_type": "code",
   "execution_count": null,
   "id": "7e3cf551",
   "metadata": {
    "ExecuteTime": {
     "end_time": "2022-01-28T17:07:20.255924Z",
     "start_time": "2022-01-28T17:07:19.654922Z"
    },
    "cell_style": "split"
   },
   "outputs": [],
   "source": [
    "aux00 = df4.loc[df4['response'] == 1, 'age']\n",
    "sns.histplot( data=aux00, color=age_pallete[1]);"
   ]
  },
  {
   "cell_type": "markdown",
   "id": "653a08e3",
   "metadata": {},
   "source": [
    "without a filter is hard to catch the behavior of this variable, It's hard to understand how the distribution of the variable actually is. Because there are lots of points shown as an outlier on this boxplot"
   ]
  },
  {
   "cell_type": "code",
   "execution_count": null,
   "id": "415fe311",
   "metadata": {
    "ExecuteTime": {
     "end_time": "2022-01-28T17:07:21.016770Z",
     "start_time": "2022-01-28T17:07:20.633173Z"
    }
   },
   "outputs": [],
   "source": [
    "# 'annual_premium'\n",
    "annual_premium_pallete = [pallete2[0], pallete2[8]]\n",
    "\n",
    "sns.boxplot( data= df4, y='annual_premium', x='response', palette=annual_premium_pallete );"
   ]
  },
  {
   "cell_type": "markdown",
   "id": "2e5bc073",
   "metadata": {},
   "source": [
    "Applying a filter makes this job easier. Now I'm able to see that this variable doesn't bring me lots of information alone. Because its behavior doesn't change from each category from the target variable"
   ]
  },
  {
   "cell_type": "code",
   "execution_count": null,
   "id": "c1007f8f",
   "metadata": {
    "ExecuteTime": {
     "end_time": "2022-01-28T17:07:21.755970Z",
     "start_time": "2022-01-28T17:07:21.348172Z"
    }
   },
   "outputs": [],
   "source": [
    "# 'annual_premium'\n",
    "annual_premium_pallete = [pallete2[0], pallete2[8]]\n",
    "\n",
    "aux = df4[df4['annual_premium']<80000]\n",
    "sns.boxplot( data= aux, y='annual_premium', x='response', palette=annual_premium_pallete );"
   ]
  },
  {
   "cell_type": "markdown",
   "id": "696d2bd8",
   "metadata": {},
   "source": [
    "Applying another filter to see how the distribution of the data in this variable behavior alone through these histograms."
   ]
  },
  {
   "cell_type": "code",
   "execution_count": null,
   "id": "019b0d8d",
   "metadata": {
    "ExecuteTime": {
     "end_time": "2022-01-28T17:07:23.699959Z",
     "start_time": "2022-01-28T17:07:22.259911Z"
    },
    "cell_style": "split"
   },
   "outputs": [],
   "source": [
    "aux = df4[ (df4['annual_premium']<80000) & (df4['annual_premium']>10000)]\n",
    "\n",
    "aux00 = aux.loc[aux['response'] == 0, 'annual_premium']\n",
    "sns.histplot( data=aux00, color=annual_premium_pallete[0] );"
   ]
  },
  {
   "cell_type": "code",
   "execution_count": null,
   "id": "98d9be41",
   "metadata": {
    "ExecuteTime": {
     "end_time": "2022-01-28T17:07:24.863881Z",
     "start_time": "2022-01-28T17:07:24.157995Z"
    },
    "cell_style": "split"
   },
   "outputs": [],
   "source": [
    "aux = df4[ (df4['annual_premium']<80000) & (df4['annual_premium']>10000)]\n",
    "\n",
    "aux00 = aux.loc[aux['response'] == 1, 'annual_premium']\n",
    "sns.histplot( data=aux00, color=annual_premium_pallete[1] );"
   ]
  },
  {
   "cell_type": "markdown",
   "id": "2009b18a",
   "metadata": {},
   "source": [
    "For this variable \"driving license\" which is a categorical variable such as the target variable, I decided to make a frequency table to show how much time the occurring happen for this variable related to each categorical value from the target variable. The table is shown in terms of the percentage\n",
    "\n",
    "The result sounds right or at least makes sense. Because it's expected that, people who already have their license might have a vehicle already and if the people have a vehicle makes sense they already have insurance. But it's not a statement yet, it's just the initial feeling. "
   ]
  },
  {
   "cell_type": "code",
   "execution_count": null,
   "id": "8729cc4e",
   "metadata": {
    "ExecuteTime": {
     "end_time": "2022-01-28T17:07:25.435880Z",
     "start_time": "2022-01-28T17:07:25.309989Z"
    }
   },
   "outputs": [],
   "source": [
    "# driving_license\n",
    "pd.crosstab( df4['driving_license'], df4['response'], normalize=True )"
   ]
  },
  {
   "cell_type": "markdown",
   "id": "8a61c9f4",
   "metadata": {},
   "source": [
    "In this step, the central idea was to identify for each region how many people answered the target variable as 0 or 1. \n",
    "\n",
    "As seen in the scatterplot below it's hard to separate the people who marked the response as 1 from the people who marked it as 0. The number of people that answered 1 or 0 is really close.\n",
    "\n",
    "It might mean that this variable alone doesn't bring a lot of information."
   ]
  },
  {
   "cell_type": "code",
   "execution_count": null,
   "id": "5c444d3e",
   "metadata": {
    "ExecuteTime": {
     "end_time": "2022-01-28T17:07:26.301712Z",
     "start_time": "2022-01-28T17:07:25.815245Z"
    }
   },
   "outputs": [],
   "source": [
    "# region_code\n",
    "region_pallete = [pallete2[0], pallete2[8]]\n",
    "\n",
    "aux = df4[['id','region_code','response']].groupby( ['region_code','response'] ).count().reset_index()\n",
    "sns.scatterplot( x='region_code', y='id', hue='response', data=aux, palette=region_pallete );"
   ]
  },
  {
   "cell_type": "markdown",
   "id": "275c62db",
   "metadata": {},
   "source": [
    "for this variable, I decided to make a frequency table as well to show in terms of percentage the number of people who are already insured or not and who answered 0 or 1."
   ]
  },
  {
   "cell_type": "code",
   "execution_count": null,
   "id": "5cf32bab",
   "metadata": {
    "ExecuteTime": {
     "end_time": "2022-01-28T17:07:26.820531Z",
     "start_time": "2022-01-28T17:07:26.703860Z"
    }
   },
   "outputs": [],
   "source": [
    "# previously_insured on the rows\n",
    "pd.crosstab( df4['previously_insured'], df4['response'], normalize='index' )"
   ]
  },
  {
   "cell_type": "code",
   "execution_count": null,
   "id": "475ac989",
   "metadata": {
    "ExecuteTime": {
     "end_time": "2022-01-28T17:07:27.294577Z",
     "start_time": "2022-01-28T17:07:27.180645Z"
    }
   },
   "outputs": [],
   "source": [
    "# previously_insured as a whole\n",
    "pd.crosstab( df4['previously_insured'], df4['response'], normalize=True )"
   ]
  },
  {
   "cell_type": "markdown",
   "id": "6d23b02f",
   "metadata": {},
   "source": [
    "A frequency table was done to count the occurrence of people who answer the target variable for each vehicle age listed.\n",
    "\n",
    "As shown, below_1_year and between_1_2_years are the variables that concentrate the most percentage of people who answered and these people answered 0."
   ]
  },
  {
   "cell_type": "code",
   "execution_count": null,
   "id": "18b43790",
   "metadata": {
    "ExecuteTime": {
     "end_time": "2022-01-28T17:07:27.841636Z",
     "start_time": "2022-01-28T17:07:27.733621Z"
    }
   },
   "outputs": [],
   "source": [
    "# vehicle_age\n",
    "df4[['vehicle_age','response']].value_counts( normalize=True ).reset_index().sort_values( 'vehicle_age' )"
   ]
  },
  {
   "cell_type": "markdown",
   "id": "f5cbe2b9",
   "metadata": {},
   "source": [
    "For this variable, if I don't apply any filter makes the job harder. So, below I'm going to filter the data to visualize it better."
   ]
  },
  {
   "cell_type": "code",
   "execution_count": null,
   "id": "da967465",
   "metadata": {
    "ExecuteTime": {
     "end_time": "2022-01-28T17:07:30.205776Z",
     "start_time": "2022-01-28T17:07:28.330032Z"
    }
   },
   "outputs": [],
   "source": [
    "# policy_sales_channel\n",
    "aux = df4['policy_sales_channel'].astype( 'object' ).value_counts().reset_index().sort_values( 'index' )\n",
    "sns.barplot( data=aux, x='index', y='policy_sales_channel' )\n",
    "plt.xticks( range(0,161,10), rotation=45 );"
   ]
  },
  {
   "cell_type": "markdown",
   "id": "73f4f35b",
   "metadata": {},
   "source": [
    "As seen the policy sales channel with more people as seen in the graph above are:\n",
    "- 152\n",
    "- 26\n",
    "- 124\n",
    "- 160"
   ]
  },
  {
   "cell_type": "code",
   "execution_count": null,
   "id": "984912a2",
   "metadata": {
    "ExecuteTime": {
     "end_time": "2022-01-28T17:07:30.686550Z",
     "start_time": "2022-01-28T17:07:30.656473Z"
    }
   },
   "outputs": [],
   "source": [
    "aux_ = df4['policy_sales_channel'].value_counts( normalize=True ).head(4)\n",
    "aux_"
   ]
  },
  {
   "cell_type": "markdown",
   "id": "2f59fe6f",
   "metadata": {},
   "source": [
    "These four channels together represent more than 80% of the people in the dataset. In other words, more than 80% of the people choose one of these channels"
   ]
  },
  {
   "cell_type": "code",
   "execution_count": null,
   "id": "e98c78f2",
   "metadata": {
    "ExecuteTime": {
     "end_time": "2022-01-28T17:07:31.218712Z",
     "start_time": "2022-01-28T17:07:31.201919Z"
    }
   },
   "outputs": [],
   "source": [
    "aux_.cumsum()"
   ]
  },
  {
   "cell_type": "code",
   "execution_count": null,
   "id": "681f8aea",
   "metadata": {
    "ExecuteTime": {
     "end_time": "2022-01-28T17:07:33.079665Z",
     "start_time": "2022-01-28T17:07:31.624463Z"
    }
   },
   "outputs": [],
   "source": [
    "# palette definition\n",
    "palette_aux = pallete[:4]\n",
    "\n",
    "for i in range(151):\n",
    "    palette_aux.append( pallete[8] )\n",
    "\n",
    "# aux dataframe\n",
    "aux = df4.copy()\n",
    "aux['policy_sales_channel'] = aux['policy_sales_channel'].astype( 'object' )\n",
    "\n",
    "df = pd.DataFrame( aux['policy_sales_channel'].value_counts( normalize=True ) ).T \n",
    "\n",
    "# legend\n",
    "legend = aux_.index.to_list()\n",
    "legend.append( 'Below fourth place' )\n",
    "\n",
    "df.plot( kind='barh', stacked=True, color=palette_aux )\n",
    "plt.title( '% Of each different Policy Sales Channel' )\n",
    "plt.xlabel( '%', fontsize=15 )\n",
    "plt.xticks( aux_.cumsum() )\n",
    "plt.legend( legend );"
   ]
  },
  {
   "cell_type": "markdown",
   "id": "761a8b1d",
   "metadata": {},
   "source": [
    "This has a uniform behavior, it might suggest that this variable might not be useful to our prediction model."
   ]
  },
  {
   "cell_type": "code",
   "execution_count": null,
   "id": "fb5b54f7",
   "metadata": {
    "ExecuteTime": {
     "end_time": "2022-01-28T17:07:33.986759Z",
     "start_time": "2022-01-28T17:07:33.605049Z"
    }
   },
   "outputs": [],
   "source": [
    "# vintage\n",
    "vintage_pallete = [pallete2[0], pallete2[8]]\n",
    "\n",
    "sns.boxplot( data= df4, y='vintage', x='response', palette=vintage_pallete );"
   ]
  },
  {
   "cell_type": "code",
   "execution_count": null,
   "id": "c269ef56",
   "metadata": {
    "ExecuteTime": {
     "end_time": "2022-01-28T17:07:35.453742Z",
     "start_time": "2022-01-28T17:07:34.479769Z"
    },
    "cell_style": "split"
   },
   "outputs": [],
   "source": [
    "aux00 = df4.loc[df4['response'] == 0, 'vintage']\n",
    "sns.histplot( data=aux00, color=vintage_pallete[0] );"
   ]
  },
  {
   "cell_type": "code",
   "execution_count": null,
   "id": "ea517e97",
   "metadata": {
    "ExecuteTime": {
     "end_time": "2022-01-28T17:07:36.554014Z",
     "start_time": "2022-01-28T17:07:35.961436Z"
    },
    "cell_style": "split"
   },
   "outputs": [],
   "source": [
    "aux00 = df4.loc[df4['response'] == 1, 'vintage']\n",
    "sns.histplot( data=aux00, color=vintage_pallete[1] );"
   ]
  },
  {
   "cell_type": "markdown",
   "id": "0f8d6078",
   "metadata": {},
   "source": [
    "these variables are very balanced."
   ]
  },
  {
   "cell_type": "code",
   "execution_count": null,
   "id": "fcd13cb4",
   "metadata": {
    "ExecuteTime": {
     "end_time": "2022-01-28T17:07:37.458667Z",
     "start_time": "2022-01-28T17:07:37.146199Z"
    }
   },
   "outputs": [],
   "source": [
    "# vehicle_damage\n",
    "aux = df4['vehicle_damage'].value_counts( normalize=True ).reset_index()\n",
    "sns.barplot( data=aux, x='index', y='vehicle_damage', palette=gender_pallete );"
   ]
  },
  {
   "cell_type": "markdown",
   "id": "f08b790d",
   "metadata": {},
   "source": [
    "Applying a filter for each target category(0 or 1) it's possible to see some behavior... when the variable target chosen is 1 there is a clearly unbalanced in this variable.\n",
    "\n",
    "What I understand was that most people who have had an accident (vehicle damage) are more close to accepting the insurance. That's might suggest that people have knowledge of how bad an accident might be, and then they become more careful."
   ]
  },
  {
   "cell_type": "code",
   "execution_count": null,
   "id": "7b2a548e",
   "metadata": {
    "ExecuteTime": {
     "end_time": "2022-01-28T17:07:38.421095Z",
     "start_time": "2022-01-28T17:07:38.132327Z"
    },
    "cell_style": "split"
   },
   "outputs": [],
   "source": [
    "aux = df4.loc[ df4['response']==1, 'vehicle_damage'].value_counts( normalize=True ).reset_index()\n",
    "sns.barplot( data=aux, x='index', y='vehicle_damage', palette=gender_pallete );"
   ]
  },
  {
   "cell_type": "code",
   "execution_count": null,
   "id": "556da734",
   "metadata": {
    "ExecuteTime": {
     "end_time": "2022-01-28T17:07:39.351308Z",
     "start_time": "2022-01-28T17:07:39.073638Z"
    },
    "cell_style": "split"
   },
   "outputs": [],
   "source": [
    "aux = df4.loc[ df4['response']==0, 'vehicle_damage'].value_counts( normalize=True ).reset_index()\n",
    "sns.barplot( data=aux, x='index', y='vehicle_damage', palette=gender_pallete );"
   ]
  },
  {
   "cell_type": "markdown",
   "id": "68d0b663",
   "metadata": {},
   "source": [
    "In the target variable is visible that there are clearly unbalanced data here."
   ]
  },
  {
   "cell_type": "code",
   "execution_count": null,
   "id": "952b8b6f",
   "metadata": {
    "ExecuteTime": {
     "end_time": "2022-01-28T17:07:40.231782Z",
     "start_time": "2022-01-28T17:07:39.934335Z"
    }
   },
   "outputs": [],
   "source": [
    "# response\n",
    "sns.countplot( x='response', data=df4 );"
   ]
  },
  {
   "cell_type": "markdown",
   "id": "e6f72e9e",
   "metadata": {
    "ExecuteTime": {
     "end_time": "2022-01-25T17:12:40.636353Z",
     "start_time": "2022-01-25T17:12:40.623357Z"
    }
   },
   "source": [
    "# 5.0. Data Preparation"
   ]
  },
  {
   "cell_type": "code",
   "execution_count": null,
   "id": "965e49f0",
   "metadata": {
    "ExecuteTime": {
     "end_time": "2022-01-28T17:07:40.930737Z",
     "start_time": "2022-01-28T17:07:40.726689Z"
    }
   },
   "outputs": [],
   "source": [
    "X = df4.drop( 'response', axis=1 )\n",
    "y = df4['response'].copy()\n",
    "\n",
    "X_train, X_validation, y_train, y_validation = train_test_split( X, y, test_size=0.2 )\n",
    "\n",
    "df5 = pd.concat( [X_train, y_train], axis=1 ).reset_index( drop=True )"
   ]
  },
  {
   "cell_type": "code",
   "execution_count": null,
   "id": "1a6d998e",
   "metadata": {
    "ExecuteTime": {
     "end_time": "2022-01-28T17:07:41.689158Z",
     "start_time": "2022-01-28T17:07:41.676004Z"
    }
   },
   "outputs": [],
   "source": [
    "df5.columns"
   ]
  },
  {
   "cell_type": "markdown",
   "id": "28249bc7",
   "metadata": {},
   "source": [
    "## Standardization"
   ]
  },
  {
   "cell_type": "code",
   "execution_count": null,
   "id": "cbfdd022",
   "metadata": {
    "ExecuteTime": {
     "end_time": "2022-01-28T17:07:42.462250Z",
     "start_time": "2022-01-28T17:07:42.431434Z"
    }
   },
   "outputs": [],
   "source": [
    "ss = StandardScaler()\n",
    "\n",
    "# annual_premium\n",
    "df5['annual_premium'] = ss.fit_transform( df5[['annual_premium']].values )"
   ]
  },
  {
   "cell_type": "markdown",
   "id": "d79b6ac5",
   "metadata": {},
   "source": [
    "## Rescaling"
   ]
  },
  {
   "cell_type": "code",
   "execution_count": null,
   "id": "0abf0678",
   "metadata": {
    "ExecuteTime": {
     "end_time": "2022-01-28T17:07:43.406226Z",
     "start_time": "2022-01-28T17:07:43.341465Z"
    }
   },
   "outputs": [],
   "source": [
    "mms_age     = MinMaxScaler()\n",
    "mms_vintage = MinMaxScaler()\n",
    "# age\n",
    "df5['age'] = mms_age.fit_transform( df5[['age']].values )\n",
    "\n",
    "# vintage\n",
    "df5['vintage'] = mms_vintage.fit_transform( df5[['vintage']].values )"
   ]
  },
  {
   "cell_type": "markdown",
   "id": "9106299d",
   "metadata": {},
   "source": [
    "## Encoder"
   ]
  },
  {
   "cell_type": "code",
   "execution_count": null,
   "id": "eef4f42d",
   "metadata": {
    "ExecuteTime": {
     "end_time": "2022-01-28T17:07:44.706184Z",
     "start_time": "2022-01-28T17:07:44.310952Z"
    }
   },
   "outputs": [],
   "source": [
    "# gender\n",
    "target_encoding_gender = df5.groupby( 'gender' )['response'].mean()\n",
    "df5['gender'] = df5['gender'].map( target_encoding_gender )\n",
    "\n",
    "# region_code -  Target encoding\n",
    "target_encoding_region_code = df5.groupby( 'region_code' )['response'].mean()\n",
    "df5['region_code'] = df5['region_code'].map( target_encoding_region_code )\n",
    "                               \n",
    "# vehicle_age - One Hot Encoding \n",
    "df5 = pd.get_dummies( df5, prefix='vehicle_age', columns=['vehicle_age'] )\n",
    "\n",
    "# policy_sales_channel - frequency enconding\n",
    "fe_policy_sales_channel = df5.groupby( 'policy_sales_channel' ).size() / len(df5)\n",
    "df5['policy_sales_channel'] = df5['policy_sales_channel'].map( fe_policy_sales_channel )"
   ]
  },
  {
   "cell_type": "markdown",
   "id": "3e4af243",
   "metadata": {},
   "source": [
    "## Validation preparation"
   ]
  },
  {
   "cell_type": "code",
   "execution_count": null,
   "id": "9e595f04",
   "metadata": {
    "ExecuteTime": {
     "end_time": "2022-01-28T17:07:45.941702Z",
     "start_time": "2022-01-28T17:07:45.809566Z"
    }
   },
   "outputs": [],
   "source": [
    "# annual_premium\n",
    "X_validation['annual_premium'] = ss.transform( X_validation[['annual_premium']].values )\n",
    "\n",
    "# age\n",
    "X_validation['age'] = mms_age.transform( X_validation[['age']].values )\n",
    "\n",
    "# vintage\n",
    "X_validation['vintage'] = mms_vintage.transform( X_validation[['vintage']].values )\n",
    "\n",
    "# gender\n",
    "X_validation['gender'] = X_validation['gender'].map( target_encoding_gender )\n",
    "\n",
    "# region_code\n",
    "X_validation['region_code'] = X_validation['region_code'].map( target_encoding_region_code )\n",
    "\n",
    "# vehicle_age\n",
    "X_validation = pd.get_dummies( X_validation, prefix='vehicle_age', columns=['vehicle_age'] )\n",
    "\n",
    "# policy_sales_channel\n",
    "X_validation['policy_sales_channel'] = X_validation['policy_sales_channel'].map( fe_policy_sales_channel )\n",
    "\n",
    "X_validation.fillna( 0, inplace=True )"
   ]
  },
  {
   "cell_type": "markdown",
   "id": "004d5fe5",
   "metadata": {
    "ExecuteTime": {
     "end_time": "2022-01-25T17:12:23.892700Z",
     "start_time": "2022-01-25T17:12:23.884697Z"
    }
   },
   "source": [
    "# 6.0. Feature Selection"
   ]
  },
  {
   "cell_type": "markdown",
   "id": "7769a15d",
   "metadata": {},
   "source": [
    "## Features Importancia"
   ]
  },
  {
   "cell_type": "code",
   "execution_count": null,
   "id": "012e15de",
   "metadata": {
    "ExecuteTime": {
     "end_time": "2022-01-28T17:03:23.827380Z",
     "start_time": "2022-01-28T17:02:11.732229Z"
    }
   },
   "outputs": [],
   "source": [
    "# Model definition\n",
    "forest = ExtraTreesClassifier( n_estimators=250, random_state=0, n_jobs=-1 )\n",
    "\n",
    "# data preparation\n",
    "X_train_n = df5.drop( ['id','response'], axis=1 )\n",
    "y_train_n = y_train.values\n",
    "forest.fit( X_train_n, y_train_n )"
   ]
  },
  {
   "cell_type": "code",
   "execution_count": null,
   "id": "1dc68b2f",
   "metadata": {
    "ExecuteTime": {
     "end_time": "2022-01-28T17:03:27.126531Z",
     "start_time": "2022-01-28T17:03:24.713085Z"
    }
   },
   "outputs": [],
   "source": [
    "importances = forest.feature_importances_\n",
    "std = np.std( [tree.feature_importances_ for tree in forest.estimators_], axis=1 )\n",
    "indices = np.argsort( importances )[::-1]\n",
    "\n",
    "# print the feature ranking\n",
    "print( \"Feature Ranking\" )\n",
    "df = pd.DataFrame()\n",
    "\n",
    "for i,j in zip( X_train_n, forest.feature_importances_ ):\n",
    "    aux = pd.DataFrame( {'feature': i, 'importance': j}, index=[0] )\n",
    "    df = pd.concat( [df,aux], axis=0 )\n",
    "    \n",
    "print( df.sort_values( 'importance', ascending=False ) )\n",
    "\n",
    "# plot the impurity-based feature importances of the forest\n",
    "plt.figure()\n",
    "plt.title( 'Feature Importances' )\n",
    "plt.bar( range(X_train_n.shape[1]), importances[indices], color=pallete[8], yerr=std[indices], align='center' )\n",
    "plt.xticks( range(X_train_n.shape[1]), indices )\n",
    "plt.xlim([-1,X_train_n.shape[1]])\n",
    "plt.show()"
   ]
  },
  {
   "cell_type": "code",
   "execution_count": null,
   "id": "d06da958",
   "metadata": {
    "ExecuteTime": {
     "end_time": "2022-01-28T17:09:05.663435Z",
     "start_time": "2022-01-28T17:09:05.632036Z"
    }
   },
   "outputs": [],
   "source": [
    "cols_selected = ['vintage', 'annual_premium','age', 'region_code',  'vehicle_damage','previously_insured',\n",
    "                 'policy_sales_channel']  \n",
    "\n",
    "X_train = df5[cols_selected]\n",
    "X_val = X_validation[cols_selected].copy()\n",
    "\n",
    "y_val = y_validation"
   ]
  },
  {
   "cell_type": "markdown",
   "id": "4f199da1",
   "metadata": {},
   "source": [
    "# 7.0. Machine Learning"
   ]
  },
  {
   "cell_type": "markdown",
   "id": "75308711",
   "metadata": {},
   "source": [
    "## 7.1. KNN"
   ]
  },
  {
   "cell_type": "code",
   "execution_count": null,
   "id": "9cfea628",
   "metadata": {
    "ExecuteTime": {
     "end_time": "2022-01-28T17:09:27.091621Z",
     "start_time": "2022-01-28T17:09:07.025005Z"
    },
    "cell_style": "center"
   },
   "outputs": [],
   "source": [
    "# model definition\n",
    "knn = KNeighborsClassifier( n_neighbors=5 )\n",
    "\n",
    "# model trainijng\n",
    "knn.fit( X_train, y_train )\n",
    "\n",
    "# model prediction - poder de genaralização\n",
    "yhat_knn = knn.predict_proba( X_val )\n",
    "\n",
    "paletteaux = [pallete[0], pallete[8]]\n",
    "sns.set_palette( paletteaux )\n",
    "\n",
    "# Acumalitve gain\n",
    "plot_cumulative_gain( y_val, yhat_knn );"
   ]
  },
  {
   "cell_type": "markdown",
   "id": "f99179a8",
   "metadata": {},
   "source": [
    "## 7.2. Logistic Regression"
   ]
  },
  {
   "cell_type": "code",
   "execution_count": null,
   "id": "fe10c5d0",
   "metadata": {
    "ExecuteTime": {
     "end_time": "2022-01-28T17:06:22.570313Z",
     "start_time": "2022-01-28T17:06:19.571509Z"
    }
   },
   "outputs": [],
   "source": [
    "# model definition\n",
    "lg = LogisticRegression( random_state=42 )\n",
    "\n",
    "# model training\n",
    "lg.fit( X_train, y_train )\n",
    "\n",
    "# predict\n",
    "yhat_lg = lg.predict_proba( X_val )\n",
    "\n",
    "# Acumalitve gain\n",
    "plot_cumulative_gain( y_val, yhat_lg );"
   ]
  },
  {
   "cell_type": "markdown",
   "id": "2c1837b1",
   "metadata": {},
   "source": [
    "## 7.3. Random Forest"
   ]
  },
  {
   "cell_type": "code",
   "execution_count": null,
   "id": "da5c9f4e",
   "metadata": {
    "ExecuteTime": {
     "end_time": "2022-01-28T16:49:57.817998Z",
     "start_time": "2022-01-28T16:45:58.885323Z"
    }
   },
   "outputs": [],
   "source": [
    "# model definition\n",
    "rf = RandomForestClassifier( n_estimators=250, random_state=42, n_jobs=-1 )\n",
    "\n",
    "# model training\n",
    "rf.fit( X_train, y_train )\n",
    "\n",
    "# predict\n",
    "yhat_rf = rf.predict_proba( X_val )\n",
    "\n",
    "# Acumalitve gain\n",
    "plot_cumulative_gain( y_val, yhat_rf );"
   ]
  },
  {
   "cell_type": "markdown",
   "id": "3899f57e",
   "metadata": {},
   "source": [
    "## 7.4. Extra Trees"
   ]
  },
  {
   "cell_type": "code",
   "execution_count": null,
   "id": "ea510b59",
   "metadata": {
    "ExecuteTime": {
     "end_time": "2022-01-28T16:51:11.768082Z",
     "start_time": "2022-01-28T16:49:58.352315Z"
    }
   },
   "outputs": [],
   "source": [
    "# model definition\n",
    "ext = ExtraTreesClassifier( n_estimators=250, random_state=42, n_jobs=-1 )\n",
    "\n",
    "# model training\n",
    "ext.fit( X_train, y_train )\n",
    "\n",
    "# predict\n",
    "yhat_ext = ext.predict_proba( X_val )\n",
    "\n",
    "# Acumalitve gain\n",
    "plot_cumulative_gain( y_val, yhat_ext );"
   ]
  },
  {
   "cell_type": "markdown",
   "id": "dfab1d6a",
   "metadata": {},
   "source": [
    "# 8.0. Model Performace"
   ]
  },
  {
   "cell_type": "code",
   "execution_count": 96,
   "id": "51f7cfae",
   "metadata": {
    "ExecuteTime": {
     "end_time": "2022-01-28T19:07:34.286565Z",
     "start_time": "2022-01-28T19:07:34.272092Z"
    }
   },
   "outputs": [],
   "source": [
    "def precision_at_k( data, k=2000 ):\n",
    "    \n",
    "    data = data.reset_index( drop=True )\n",
    "    \n",
    "    # ranking\n",
    "    data['k'] = data.index + 1\n",
    "\n",
    "    # cols selected\n",
    "    data = data[['k','id','response','score']]\n",
    "\n",
    "    #accumulated sum\n",
    "    data['cumsum'] = data['response'].cumsum()\n",
    "\n",
    "    # precision top k\n",
    "    data['precision_at_k'] = data['cumsum'] / data['k']\n",
    "    \n",
    "    return data.loc[k,'precision_at_k']"
   ]
  },
  {
   "cell_type": "code",
   "execution_count": 97,
   "id": "266eeb14",
   "metadata": {
    "ExecuteTime": {
     "end_time": "2022-01-28T19:07:35.448106Z",
     "start_time": "2022-01-28T19:07:35.436079Z"
    }
   },
   "outputs": [],
   "source": [
    "def recall_at_k( data, k=2000 ):\n",
    "    \n",
    "    data = data.reset_index( drop=True )\n",
    "    \n",
    "    # ranking\n",
    "    data['k'] = data.index + 1\n",
    "\n",
    "    # cols selected\n",
    "    data = data[['k','id','response','score']]\n",
    "\n",
    "    #accumulated sum\n",
    "    data['cumsum'] = data['response'].cumsum()\n",
    "\n",
    "    # precision top k\n",
    "    data['recall_at_k'] = data['cumsum'] / data['response'].sum()\n",
    "    \n",
    "    return data.loc[k,'recall_at_k']"
   ]
  },
  {
   "cell_type": "code",
   "execution_count": 98,
   "id": "ec9eb18c",
   "metadata": {
    "ExecuteTime": {
     "end_time": "2022-01-28T19:07:36.686866Z",
     "start_time": "2022-01-28T19:07:36.581812Z"
    }
   },
   "outputs": [
    {
     "name": "stdout",
     "output_type": "stream",
     "text": [
      " Precision at K: 0.35294117647058826\n",
      " Recall at K: 0.00194321494116377\n"
     ]
    }
   ],
   "source": [
    "df8 = X_validation.copy()\n",
    "df8['response'] = y_validation.copy()\n",
    "\n",
    "# propensity score\n",
    "df8['score'] = yhat_knn[:,1].tolist()\n",
    "\n",
    "# sorte client by propensity score\n",
    "df8 = df8.sort_values( 'score', ascending=False )\n",
    "\n",
    "# print precision at k\n",
    "precision_at_50 = precision_at_k( df8, k=50 )\n",
    "print(f' Precision at K: {precision_at_50}' )\n",
    "\n",
    "# print recall at k\n",
    "recall_at_50 = recall_at_k( df8, k=50 )\n",
    "print(f' Recall at K: {recall_at_50}' )"
   ]
  },
  {
   "cell_type": "code",
   "execution_count": 102,
   "id": "2b89db8c",
   "metadata": {
    "ExecuteTime": {
     "end_time": "2022-01-28T19:12:48.567115Z",
     "start_time": "2022-01-28T19:12:48.498293Z"
    }
   },
   "outputs": [
    {
     "data": {
      "text/html": [
       "<div>\n",
       "<style scoped>\n",
       "    .dataframe tbody tr th:only-of-type {\n",
       "        vertical-align: middle;\n",
       "    }\n",
       "\n",
       "    .dataframe tbody tr th {\n",
       "        vertical-align: top;\n",
       "    }\n",
       "\n",
       "    .dataframe thead th {\n",
       "        text-align: right;\n",
       "    }\n",
       "</style>\n",
       "<table border=\"1\" class=\"dataframe\">\n",
       "  <thead>\n",
       "    <tr style=\"text-align: right;\">\n",
       "      <th></th>\n",
       "      <th>k</th>\n",
       "      <th>id</th>\n",
       "      <th>response</th>\n",
       "      <th>score</th>\n",
       "      <th>cumsum</th>\n",
       "      <th>precision_at_k</th>\n",
       "      <th>recall_at_k</th>\n",
       "    </tr>\n",
       "  </thead>\n",
       "  <tbody>\n",
       "    <tr>\n",
       "      <th>0</th>\n",
       "      <td>1</td>\n",
       "      <td>202460</td>\n",
       "      <td>0</td>\n",
       "      <td>1.0</td>\n",
       "      <td>0</td>\n",
       "      <td>0.0</td>\n",
       "      <td>0.000000</td>\n",
       "    </tr>\n",
       "    <tr>\n",
       "      <th>1</th>\n",
       "      <td>2</td>\n",
       "      <td>8979</td>\n",
       "      <td>0</td>\n",
       "      <td>1.0</td>\n",
       "      <td>0</td>\n",
       "      <td>0.0</td>\n",
       "      <td>0.000000</td>\n",
       "    </tr>\n",
       "    <tr>\n",
       "      <th>2</th>\n",
       "      <td>3</td>\n",
       "      <td>192875</td>\n",
       "      <td>0</td>\n",
       "      <td>1.0</td>\n",
       "      <td>0</td>\n",
       "      <td>0.0</td>\n",
       "      <td>0.000000</td>\n",
       "    </tr>\n",
       "    <tr>\n",
       "      <th>3</th>\n",
       "      <td>4</td>\n",
       "      <td>125217</td>\n",
       "      <td>0</td>\n",
       "      <td>1.0</td>\n",
       "      <td>0</td>\n",
       "      <td>0.0</td>\n",
       "      <td>0.000000</td>\n",
       "    </tr>\n",
       "    <tr>\n",
       "      <th>4</th>\n",
       "      <td>5</td>\n",
       "      <td>132155</td>\n",
       "      <td>1</td>\n",
       "      <td>1.0</td>\n",
       "      <td>1</td>\n",
       "      <td>0.2</td>\n",
       "      <td>0.000108</td>\n",
       "    </tr>\n",
       "  </tbody>\n",
       "</table>\n",
       "</div>"
      ],
      "text/plain": [
       "   k      id  response  score  cumsum  precision_at_k  recall_at_k\n",
       "0  1  202460         0    1.0       0             0.0     0.000000\n",
       "1  2    8979         0    1.0       0             0.0     0.000000\n",
       "2  3  192875         0    1.0       0             0.0     0.000000\n",
       "3  4  125217         0    1.0       0             0.0     0.000000\n",
       "4  5  132155         1    1.0       1             0.2     0.000108"
      ]
     },
     "execution_count": 102,
     "metadata": {},
     "output_type": "execute_result"
    }
   ],
   "source": [
    "df8 = X_validation.copy()\n",
    "df8['response'] = y_validation.copy()\n",
    "\n",
    "# propensity score\n",
    "df8['score'] = yhat_knn[:,1].tolist()\n",
    "\n",
    "# sorte client by propensity score\n",
    "df8 = df8.sort_values( 'score', ascending=False )\n",
    "df8 = df8.reset_index( drop=True )\n",
    "    \n",
    "# ranking\n",
    "df8['k'] = df8.index + 1\n",
    "\n",
    "# cols selected\n",
    "df8 = df8[['k','id','response','score']]\n",
    "\n",
    "#accumulated sum\n",
    "df8['cumsum'] = df8['response'].cumsum()\n",
    "\n",
    "# precision top k\n",
    "df8['precision_at_k'] = df8['cumsum'] / df8['k']\n",
    "\n",
    "# recall top k\n",
    "df8['recall_at_k'] = df8['cumsum'] / df8['response'].sum()\n",
    "\n",
    "df8.head()"
   ]
  },
  {
   "cell_type": "code",
   "execution_count": 105,
   "id": "84a708a2",
   "metadata": {
    "ExecuteTime": {
     "end_time": "2022-01-28T19:13:36.750897Z",
     "start_time": "2022-01-28T19:13:36.036247Z"
    }
   },
   "outputs": [
    {
     "data": {
      "image/png": "[encoded data removed]",
      "text/plain": [
       "<Figure size 936x576 with 1 Axes>"
      ]
     },
     "metadata": {},
     "output_type": "display_data"
    }
   ],
   "source": [
    "df8[['precision_at_k','recall_at_k']].plot();"
   ]
  },
  {
   "cell_type": "code",
   "execution_count": null,
   "id": "7fa9b595",
   "metadata": {},
   "outputs": [],
   "source": []
  }
 ],
 "metadata": {
  "kernelspec": {
   "display_name": "Python 3 (ipykernel)",
   "language": "python",
   "name": "python3"
  },
  "language_info": {
   "codemirror_mode": {
    "name": "ipython",
    "version": 3
   },
   "file_extension": ".py",
   "mimetype": "text/x-python",
   "name": "python",
   "nbconvert_exporter": "python",
   "pygments_lexer": "ipython3",
   "version": "3.9.6"
  },
  "varInspector": {
   "cols": {
    "lenName": 16,
    "lenType": 16,
    "lenVar": 40
   },
   "kernels_config": {
    "python": {
     "delete_cmd_postfix": "",
     "delete_cmd_prefix": "del ",
     "library": "var_list.py",
     "varRefreshCmd": "print(var_dic_list())"
    },
    "r": {
     "delete_cmd_postfix": ") ",
     "delete_cmd_prefix": "rm(",
     "library": "var_list.r",
     "varRefreshCmd": "cat(var_dic_list()) "
    }
   },
   "types_to_exclude": [
    "module",
    "function",
    "builtin_function_or_method",
    "instance",
    "_Feature"
   ],
   "window_display": false
  }
 },
 "nbformat": 4,
 "nbformat_minor": 5
}
